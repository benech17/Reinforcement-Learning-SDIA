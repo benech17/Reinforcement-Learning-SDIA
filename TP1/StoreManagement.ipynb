{
 "cells": [
  {
   "cell_type": "markdown",
   "metadata": {},
   "source": [
    "## Instructions\n",
    "\n",
    "- Follow the installation instructions in the readme file\n",
    "- Answer the questions in this notebook\n",
    "- Once your work is finished: restart the kernel, run all cells in order and check that the outputs are correct.\n",
    "- Send your completed notebook to `remy.degenne@inria.fr` with email title `SL_TP1_NAME1_NAME2` (or `SL_TP1_NAME` if you work alone).\n",
    "\n",
    "**Deadline: Friday, December 8, 11:59 CET**."
   ]
  },
  {
   "cell_type": "markdown",
   "metadata": {},
   "source": [
    "If you don't want to use a local installation, you can try Google Colab:\n",
    "\n",
    "<a target=\"_blank\" href=\"https://colab.research.google.com/github/RemyDegenne/remydegenne.github.io/blob/master/docs/SL_2023/StoreManagement.ipynb\">\n",
    "  <img src=\"https://colab.research.google.com/assets/colab-badge.svg\" alt=\"Open In Colab\"/>\n",
    "</a>"
   ]
  },
  {
   "cell_type": "code",
   "execution_count": 1,
   "metadata": {},
   "outputs": [],
   "source": [
    "# This cell is setting up google colab. Ignore it if you work locally.\n",
    "if 'google.colab' in str(get_ipython()):\n",
    "  print(\"Installing packages, please wait a few moments. Restart the runtime after the installation.\")\n",
    "  # install rlberry library\n",
    "  !pip install scipy rlberry"
   ]
  },
  {
   "cell_type": "code",
   "execution_count": 2,
   "metadata": {},
   "outputs": [
    {
     "name": "stdout",
     "output_type": "stream",
     "text": [
      "Defaulting to user installation because normal site-packages is not writeable\n",
      "Requirement already satisfied: scipy in c:\\programdata\\anaconda3\\lib\\site-packages (1.9.1)\n",
      "Requirement already satisfied: rlberry in c:\\users\\nicolas\\appdata\\roaming\\python\\python39\\site-packages (0.6.0)\n",
      "Requirement already satisfied: numpy<1.25.0,>=1.18.5 in c:\\programdata\\anaconda3\\lib\\site-packages (from scipy) (1.21.5)\n",
      "Requirement already satisfied: pandas in c:\\programdata\\anaconda3\\lib\\site-packages (from rlberry) (1.4.4)\n",
      "Requirement already satisfied: gymnasium in c:\\users\\nicolas\\appdata\\roaming\\python\\python39\\site-packages (from rlberry) (0.29.1)\n",
      "Requirement already satisfied: seaborn in c:\\programdata\\anaconda3\\lib\\site-packages (from rlberry) (0.11.2)\n",
      "Requirement already satisfied: pyyaml in c:\\programdata\\anaconda3\\lib\\site-packages (from rlberry) (6.0)\n",
      "Requirement already satisfied: pygame-ce in c:\\users\\nicolas\\appdata\\roaming\\python\\python39\\site-packages (from rlberry) (2.3.2)\n",
      "Requirement already satisfied: matplotlib in c:\\programdata\\anaconda3\\lib\\site-packages (from rlberry) (3.5.2)\n",
      "Requirement already satisfied: tqdm in c:\\programdata\\anaconda3\\lib\\site-packages (from rlberry) (4.64.1)\n",
      "Requirement already satisfied: dill in c:\\users\\nicolas\\appdata\\roaming\\python\\python39\\site-packages (from rlberry) (0.3.6)\n",
      "Requirement already satisfied: docopt in c:\\users\\nicolas\\appdata\\roaming\\python\\python39\\site-packages (from rlberry) (0.6.2)\n",
      "Requirement already satisfied: cloudpickle>=1.2.0 in c:\\users\\nicolas\\appdata\\roaming\\python\\python39\\site-packages (from gymnasium->rlberry) (2.2.1)\n",
      "Requirement already satisfied: farama-notifications>=0.0.1 in c:\\users\\nicolas\\appdata\\roaming\\python\\python39\\site-packages (from gymnasium->rlberry) (0.0.4)\n",
      "Requirement already satisfied: importlib-metadata>=4.8.0 in c:\\programdata\\anaconda3\\lib\\site-packages (from gymnasium->rlberry) (4.11.3)\n",
      "Requirement already satisfied: typing-extensions>=4.3.0 in c:\\users\\nicolas\\appdata\\roaming\\python\\python39\\site-packages (from gymnasium->rlberry) (4.7.1)\n",
      "Requirement already satisfied: pillow>=6.2.0 in c:\\programdata\\anaconda3\\lib\\site-packages (from matplotlib->rlberry) (9.2.0)\n",
      "Requirement already satisfied: pyparsing>=2.2.1 in c:\\programdata\\anaconda3\\lib\\site-packages (from matplotlib->rlberry) (3.0.9)\n",
      "Requirement already satisfied: fonttools>=4.22.0 in c:\\programdata\\anaconda3\\lib\\site-packages (from matplotlib->rlberry) (4.25.0)\n",
      "Requirement already satisfied: python-dateutil>=2.7 in c:\\programdata\\anaconda3\\lib\\site-packages (from matplotlib->rlberry) (2.8.2)\n",
      "Requirement already satisfied: cycler>=0.10 in c:\\programdata\\anaconda3\\lib\\site-packages (from matplotlib->rlberry) (0.11.0)\n",
      "Requirement already satisfied: packaging>=20.0 in c:\\programdata\\anaconda3\\lib\\site-packages (from matplotlib->rlberry) (21.3)\n",
      "Requirement already satisfied: kiwisolver>=1.0.1 in c:\\programdata\\anaconda3\\lib\\site-packages (from matplotlib->rlberry) (1.4.2)\n",
      "Requirement already satisfied: pytz>=2020.1 in c:\\programdata\\anaconda3\\lib\\site-packages (from pandas->rlberry) (2022.1)\n",
      "Requirement already satisfied: colorama in c:\\users\\nicolas\\appdata\\roaming\\python\\python39\\site-packages (from tqdm->rlberry) (0.4.6)\n",
      "Requirement already satisfied: zipp>=0.5 in c:\\programdata\\anaconda3\\lib\\site-packages (from importlib-metadata>=4.8.0->gymnasium->rlberry) (3.8.0)\n",
      "Requirement already satisfied: six>=1.5 in c:\\programdata\\anaconda3\\lib\\site-packages (from python-dateutil>=2.7->matplotlib->rlberry) (1.16.0)\n",
      "Defaulting to user installation because normal site-packages is not writeable\n",
      "Requirement already satisfied: gymnasium in c:\\users\\nicolas\\appdata\\roaming\\python\\python39\\site-packages (0.29.1)\n",
      "Requirement already satisfied: numpy>=1.21.0 in c:\\programdata\\anaconda3\\lib\\site-packages (from gymnasium) (1.21.5)\n",
      "Requirement already satisfied: importlib-metadata>=4.8.0 in c:\\programdata\\anaconda3\\lib\\site-packages (from gymnasium) (4.11.3)\n",
      "Requirement already satisfied: farama-notifications>=0.0.1 in c:\\users\\nicolas\\appdata\\roaming\\python\\python39\\site-packages (from gymnasium) (0.0.4)\n",
      "Requirement already satisfied: typing-extensions>=4.3.0 in c:\\users\\nicolas\\appdata\\roaming\\python\\python39\\site-packages (from gymnasium) (4.7.1)\n",
      "Requirement already satisfied: cloudpickle>=1.2.0 in c:\\users\\nicolas\\appdata\\roaming\\python\\python39\\site-packages (from gymnasium) (2.2.1)\n",
      "Requirement already satisfied: zipp>=0.5 in c:\\programdata\\anaconda3\\lib\\site-packages (from importlib-metadata>=4.8.0->gymnasium) (3.8.0)\n"
     ]
    }
   ],
   "source": [
    "!pip install scipy rlberry\n",
    "!pip install gymnasium"
   ]
  },
  {
   "cell_type": "markdown",
   "metadata": {},
   "source": [
    "## Store Management MDP\n",
    "\n",
    "You own a bike store. During week $t$, the (random) demand is $D_t$ units. \n",
    "On Monday morning you may choose to command $A_t$ additional units: they are delivered immediately before the shop opens. For each week:\n",
    "\n",
    "  * Maintenance cost: $h$ per unit in stock left from the previous week (no maintenance is needed for newly commanded items)\n",
    "  * Command cost: $c$ for each unit ordered + $c_0$ per command\n",
    "  * Sales profit: $p$ per unit sold\n",
    "  * Constraint: \n",
    "    - your warehouse has a maximal capacity of $M$ unit (any additionnal bike gets stolen)\n",
    "    - you cannot sell bikes that you don't have in stock\n",
    "\n",
    "\n",
    "* State: number of bikes in stock left from the last week => state space $\\mathcal{S} = \\{0,\\dots, M\\}$\n",
    "* Action: number of bikes commanded at the beginning of the week => action space $\\mathcal{A} = \\{0, \\dots ,M\\}$ \n",
    "* Reward = balance of the week: if you command $a_t$ bikes,\n",
    "$$r_t = -c_0 \\mathbb{1}_{(a_t >0)}- c \\times a_t - h\\times s_t + p \\times \\min(D_t, s_t+a_t, M)$$\n",
    "* Transitions: you end the week with the number of bikes $$s_{t+1} = \\max\\big(0, \\min(M, s_t + a_t)  - D_t \\big)$$ \n",
    "\n",
    "Our goal is to maximize the discounted sum of rewards, starting from an initial stock $s_1$, that is to find a policy whose value is \n",
    "$$V^*(s_1) = \\max_{\\pi}\\mathbb{E}_{\\pi}\\left[\\sum_{s=1}^{\\infty} \\gamma^{s-1}r_s \\right].$$"
   ]
  },
  {
   "cell_type": "code",
   "execution_count": 3,
   "metadata": {},
   "outputs": [],
   "source": [
    "import numpy as np\n",
    "import random as rd\n",
    "import gymnasium as gym\n",
    "from matplotlib import pyplot as plt\n",
    "import time "
   ]
  },
  {
   "cell_type": "markdown",
   "metadata": {},
   "source": [
    "### Problem parameters "
   ]
  },
  {
   "cell_type": "code",
   "execution_count": 4,
   "metadata": {},
   "outputs": [],
   "source": [
    "M = 15 # stock capacity\n",
    "h = 0.3 # maintenance cost (per unit)\n",
    "c = 0.5 # ordering cost (per unit)\n",
    "c0 = 0.3 # fix delivery cost per command\n",
    "p = 1 # selling price (per unit)"
   ]
  },
  {
   "cell_type": "markdown",
   "metadata": {},
   "source": [
    "### Specifying the demand distribution \n",
    "\n",
    "As an example of demand distribution, we choose a (truncated) geometric distribution, for which \n",
    "$$\\mathbb{P}(D_t = m) = q(1-q)^m \\ \\ \\forall m \\in \\{0,\\dots,M-1\\}$$\n",
    "and $\\mathbb{P}(D_t = M) = 1 - \\sum_{m=0}^{M-1}\\mathbb{P}(D_t = m)$. We provide below a function that simulate the demand. "
   ]
  },
  {
   "cell_type": "code",
   "execution_count": 5,
   "metadata": {},
   "outputs": [
    {
     "name": "stdout",
     "output_type": "stream",
     "text": [
      "the average demand is  7.1469798111481575\n",
      "a simulated demand is  0\n"
     ]
    }
   ],
   "source": [
    "# demand distribution (truncated geometric with parameter q)\n",
    "q = 0.1\n",
    "pdem = np.array([q*(1-q)**m for m in range(M+1)])\n",
    "pdem[M] = pdem[M]+1-np.sum(pdem)\n",
    "\n",
    "print(\"the average demand is \",np.sum([m*pdem[m] for m in range(M+1)]))\n",
    "\n",
    "def SimuDemand(pdem): \n",
    "    cpdem = np.cumsum(pdem)\n",
    "    i=0\n",
    "    u = rd.random()\n",
    "    while (u >cpdem[i]):\n",
    "        i = i+1\n",
    "    return i \n",
    "\n",
    "print(\"a simulated demand is \",SimuDemand(pdem))"
   ]
  },
  {
   "cell_type": "markdown",
   "metadata": {},
   "source": [
    "### Encoding the MDP as a gymnasium environment\n",
    "\n",
    "This is just a  toy example on how to create a gymnasium environement. \n",
    "\n",
    "Note that our environement is an example of tabular MDP for which the transition probabilities $P(s'|s,a)$ and the mean rewards $r(s,a)$ can actually be computed in closed form. Therefore we provide the transitions $(P)$ and mean rewards $(r)$ as attributes of the class. "
   ]
  },
  {
   "cell_type": "code",
   "execution_count": 6,
   "metadata": {},
   "outputs": [],
   "source": [
    "def nextstate(s,a,d,M):\n",
    "    # computes the next state if the demand is d\n",
    "    return max(0,min(M,s+a) -d)\n",
    "\n",
    "def nextreward(s,a,d,M,c,c0,h,p):\n",
    "    # computes the reward if the demand is d\n",
    "    rew = -c*a - h*s + p*min(M,d,s+a)\n",
    "    if (a>0):\n",
    "        rew = rew - c0\n",
    "    return rew\n",
    "\n",
    "class StoreManagement(gym.Env):\n",
    "    \"\"\"\n",
    "    Retail Store Management environment\n",
    "    The environment defines which actions can be taken at which point and\n",
    "    when the agent receives which reward.\n",
    "    \"\"\"\n",
    "    def __init__(self,FirstState,M=15,h=0.3,c=0.5,c0=0.3,p=1,q=0.1):\n",
    "        \n",
    "        # General variables defining the environment\n",
    "        self.Stock_Capacity = M\n",
    "        self.Maintenance_Cost = h\n",
    "        self.Order_Cost = c \n",
    "        self.Delivery_Cost = c0\n",
    "        self.Selling_Price = p\n",
    "        pdem = np.array([q*(1-q)**m for m in range(M+1)])\n",
    "        pdem[M] = pdem[M]+1-np.sum(pdem)\n",
    "        self.Demand_Distribution = pdem\n",
    "        \n",
    "        # Define the action space\n",
    "        self.action_space = gym.spaces.Discrete(self.Stock_Capacity+1)\n",
    "\n",
    "        # Define the state space (state space = observation space in this example)\n",
    "        self.observation_space = gym.spaces.Discrete(self.Stock_Capacity+1)\n",
    "\n",
    "        # current time step\n",
    "        self.curr_step = -1 # \n",
    "        \n",
    "        # initial state\n",
    "        self.state = FirstState\n",
    "\n",
    "        # computation of the MDP parameters\n",
    "        P = np.zeros((M+1,M+1,M+1)) # P[s,a,s'] = p(s' | s,a) \n",
    "        r = np.zeros((M+1,M+1)) # r[s,a] = average reward received in state s when playing action a\n",
    "        ## iteration over all possible states, actions, and possible demand values\n",
    "        for a in range(M+1):\n",
    "            for s in range(M+1):\n",
    "                for d in range(M+1):\n",
    "                    # next state and reward with demand d\n",
    "                    ns = max(0,min(M,s+a) -d)\n",
    "                    reward = -c*a - h*s+p*min(M,d,s+a)\n",
    "                    if (a>0):\n",
    "                        reward = reward - c0\n",
    "                    P[s,a,ns] += pdem[d]\n",
    "                    r[s,a] += pdem[d] * reward\n",
    "        self.P = P # P[s,a,ns] = P(ns | s,a)\n",
    "        self.r = r # r[s,a] = r(s,a)\n",
    "\n",
    "    def step(self, action):\n",
    "        \"\"\"\n",
    "        simulates a transition following an action in the current state\n",
    "        action : int\n",
    "        \"\"\"\n",
    "        self.curr_step += 1\n",
    "        # simulate the demand \n",
    "        Demand = SimuDemand(self.Demand_Distribution)\n",
    "        # compute the reward\n",
    "        reward = nextreward(self.state,action,Demand,self.Stock_Capacity,self.Order_Cost,self.Delivery_Cost,self.Maintenance_Cost,self.Selling_Price)\n",
    "        # compute the next state \n",
    "        self.state = nextstate(self.state,action,Demand,self.Stock_Capacity)\n",
    "        # return 4 elements: observation / reward / termination? / truncation ? / information  \n",
    "        return self.state, reward, False, False,{}\n",
    "\n",
    "    def reset(self,InitialStock):\n",
    "        \"\"\"\n",
    "        Reset the state of the environment and returns an initial observation.\n",
    "        \"\"\"\n",
    "        self.curr_step = -1\n",
    "        self.state = InitialStock\n",
    "    \n",
    "    def _render(self, mode='human'):\n",
    "        \"\"\"optional visualization of the interaction: none here\"\"\"\n",
    "        return\n"
   ]
  },
  {
   "cell_type": "markdown",
   "metadata": {},
   "source": [
    "### A function that simulates a trajectory under a policy Pi starting from some state $s_0$"
   ]
  },
  {
   "cell_type": "markdown",
   "metadata": {},
   "source": [
    "**Complete the function below to simulate a trajectory of length $T$ from an initial state $s_0$ under a policy Pi**\n",
    "\n",
    "Write a function `SimulateTrajectory` that takes 3 arguments T, Pi and s0. It should initialize a StoreManagement environment in the state s0. Then, for T steps, will will:\n",
    "- query the state of the environment\n",
    "- choose an action according to the policy\n",
    "- get a new state and a reward by calling `state, reward, _, _, _ = env.step(action)` (where `env` is the environment)\n",
    "\n",
    "The function should return two arrays of length `T`: one for the states visited and one for the rewards obtained."
   ]
  },
  {
   "cell_type": "code",
   "execution_count": 7,
   "metadata": {},
   "outputs": [],
   "source": [
    "def SimulateTrajectory(T,Pi,s0):\n",
    "    \"\"\"return a vector of T successive states and a vector of T successive rewards\"\"\"\n",
    "    Rewards = np.zeros(T)\n",
    "    States = np.zeros(T)\n",
    "    env=StoreManagement(s0)\n",
    "    s=s0\n",
    "    for t in range(T):\n",
    "        \n",
    "        a = Pi(s)\n",
    "        s,r,_,_,_ = env.step(a)\n",
    "        Rewards[t] = r\n",
    "        States[t] = s\n",
    "    return States, Rewards"
   ]
  },
  {
   "cell_type": "markdown",
   "metadata": {},
   "source": [
    "### Running simulations with three simple baselines "
   ]
  },
  {
   "cell_type": "code",
   "execution_count": 8,
   "metadata": {},
   "outputs": [],
   "source": [
    "s1 = 10 # initial stock \n",
    "gamma = 0.97 # discount factor \n",
    "\n",
    "def PiUniform(s):\n",
    "    # pick uniformly at random in {0,1,...,M-s}\n",
    "    x = rd.sample(range(M+1-s),1)\n",
    "    return s+x[0]\n",
    "\n",
    "def PiConstant(s,c=3):\n",
    "    # oder a constant number of c bikes \n",
    "    return min(c,M-s)\n",
    "\n",
    "def PiThreshold(s,m1=4,m2=10):\n",
    "    # if less than m1 bikes in stock, refill it up to m2\n",
    "    action = 0\n",
    "    if (s <=m1):\n",
    "        action = (m2-s)\n",
    "    return action"
   ]
  },
  {
   "cell_type": "markdown",
   "metadata": {},
   "source": [
    "**Plot the cumulative discounted reward as a function of time for the three baselines.**\n",
    "\n",
    "You should plot one trajectory for each policy, all on the same graph. Don't forget to add legends to the graph."
   ]
  },
  {
   "cell_type": "code",
   "execution_count": 9,
   "metadata": {},
   "outputs": [
    {
     "data": {
      "application/vnd.plotly.v1+json": {
       "config": {
        "plotlyServerURL": "https://plot.ly"
       },
       "data": [
        {
         "name": "Uniform",
         "type": "scatter",
         "x": [
          0,
          1,
          2,
          3,
          4,
          5,
          6,
          7,
          8,
          9,
          10,
          11,
          12,
          13,
          14,
          15,
          16,
          17,
          18,
          19,
          20,
          21,
          22,
          23,
          24,
          25,
          26,
          27,
          28,
          29,
          30,
          31,
          32,
          33,
          34,
          35,
          36,
          37,
          38,
          39,
          40,
          41,
          42,
          43,
          44,
          45,
          46,
          47,
          48,
          49,
          50,
          51,
          52,
          53,
          54,
          55,
          56,
          57,
          58,
          59,
          60,
          61,
          62,
          63,
          64,
          65,
          66,
          67,
          68,
          69,
          70,
          71,
          72,
          73,
          74,
          75,
          76,
          77,
          78,
          79,
          80,
          81,
          82,
          83,
          84,
          85,
          86,
          87,
          88,
          89,
          90,
          91,
          92,
          93,
          94,
          95,
          96,
          97,
          98,
          99,
          100,
          101,
          102,
          103,
          104,
          105,
          106,
          107,
          108,
          109,
          110,
          111,
          112,
          113,
          114,
          115,
          116,
          117,
          118,
          119,
          120,
          121,
          122,
          123,
          124,
          125,
          126,
          127,
          128,
          129,
          130,
          131,
          132,
          133,
          134,
          135,
          136,
          137,
          138,
          139,
          140,
          141,
          142,
          143,
          144,
          145,
          146,
          147,
          148,
          149,
          150,
          151,
          152,
          153,
          154,
          155,
          156,
          157,
          158,
          159,
          160,
          161,
          162,
          163,
          164,
          165,
          166,
          167,
          168,
          169,
          170,
          171,
          172,
          173,
          174,
          175,
          176,
          177,
          178,
          179,
          180,
          181,
          182,
          183,
          184,
          185,
          186,
          187,
          188,
          189,
          190,
          191,
          192,
          193,
          194,
          195,
          196,
          197,
          198,
          199,
          200,
          201,
          202,
          203,
          204,
          205,
          206,
          207,
          208,
          209,
          210,
          211,
          212,
          213,
          214,
          215,
          216,
          217,
          218,
          219,
          220,
          221,
          222,
          223,
          224,
          225,
          226,
          227,
          228,
          229,
          230,
          231,
          232,
          233,
          234,
          235,
          236,
          237,
          238,
          239,
          240,
          241,
          242,
          243,
          244,
          245,
          246,
          247,
          248,
          249,
          250,
          251,
          252,
          253,
          254,
          255,
          256,
          257,
          258,
          259,
          260,
          261,
          262,
          263,
          264,
          265,
          266,
          267,
          268,
          269,
          270,
          271,
          272,
          273,
          274,
          275,
          276,
          277,
          278,
          279,
          280,
          281,
          282,
          283,
          284,
          285,
          286,
          287,
          288,
          289,
          290,
          291,
          292,
          293,
          294,
          295,
          296,
          297,
          298,
          299,
          300,
          301,
          302,
          303,
          304,
          305,
          306,
          307,
          308,
          309,
          310,
          311,
          312,
          313,
          314,
          315,
          316,
          317,
          318,
          319,
          320,
          321,
          322,
          323,
          324,
          325,
          326,
          327,
          328,
          329,
          330,
          331,
          332,
          333,
          334,
          335,
          336,
          337,
          338,
          339,
          340
         ],
         "y": [
          1.2,
          3.819,
          6.6417,
          9.4709863,
          6.638049308,
          -0.1459494950299982,
          -9.308641549248996,
          -9.308641549248996,
          -5.154801744229208,
          -4.24252447384373,
          -4.1687820611542366,
          -7.244578094432981,
          -14.738075593183709,
          -15.613010810398956,
          -20.182864752623207,
          -26.958652476386852,
          -34.51397241397788,
          -39.459328578005966,
          -36.049416129002026,
          -36.049416129002026,
          -35.124965746026554,
          -34.755729387179294,
          -36.70002255676644,
          -39.97564489142353,
          -38.57953494787953,
          -35.871081657404176,
          -36.45993676072994,
          -34.87818136010412,
          -37.350113550082135,
          -35.77915802383059,
          -36.300467212936695,
          -35.678104242557716,
          -33.90475875383411,
          -31.306241651527834,
          -30.34771823026866,
          -29.934488133103596,
          -31.47101537772903,
          -33.51225841944773,
          -34.89511957850415,
          -36.63281033950936,
          -37.72694580288615,
          -36.12063665773406,
          -37.03881443873974,
          -38.63115729955657,
          -41.4323312914918,
          -40.670516682470165,
          -40.744412699545265,
          -41.34173883756898,
          -42.45419903702435,
          -42.67900870233096,
          -43.48585059111637,
          -43.99350678492513,
          -42.536745032108065,
          -43.09400769698851,
          -44.05926624151357,
          -45.894415786364604,
          -46.4938355509634,
          -45.19000674178457,
          -45.49763986351785,
          -44.585849472158394,
          -44.63409147286487,
          -43.55781243710346,
          -42.46843087395017,
          -42.365696140425015,
          -42.4795849307329,
          -41.37486366474645,
          -41.28110044729585,
          -42.29454688048333,
          -42.332356228183016,
          -41.92893048822736,
          -41.60875715097164,
          -40.78057545193685,
          -41.48349466899263,
          -41.85146730039738,
          -41.242580822667044,
          -41.22221461979124,
          -41.40988917929181,
          -40.71045572885837,
          -41.342436967085625,
          -42.42424014546287,
          -42.188136601782034,
          -41.959116164411626,
          -42.06607719090203,
          -41.69097309877146,
          -41.28067306948566,
          -41.490932480719664,
          -40.91549752776031,
          -40.65407524343485,
          -40.84597333106403,
          -41.04541027213578,
          -40.56177569003679,
          -40.6118157481313,
          -40.42372767976856,
          -40.33544763477895,
          -40.312612529808305,
          -40.09664952454843,
          -39.86567985917947,
          -40.06366920488877,
          -39.85645772386617,
          -39.513295295538505,
          -39.622666063766935,
          -39.719530522410984,
          -39.911921787651146,
          -39.742662216394514,
          -39.77634053108558,
          -39.73958907017896,
          -39.75543303332537,
          -39.79385464395541,
          -39.622417417324144,
          -39.448893128803455,
          -39.45941303879502,
          -39.643090667247776,
          -39.88724585558739,
          -39.71442357497619,
          -39.956566792588106,
          -40.146276690386365,
          -40.219299944697596,
          -40.06063501773015,
          -39.972689315353904,
          -39.95402833663095,
          -39.9048966455075,
          -40.020278543293195,
          -39.89619283713105,
          -39.87967240684006,
          -39.772077204416256,
          -39.745430222369166,
          -39.758354008662,
          -39.67269084518431,
          -39.69093083096871,
          -39.68699910069963,
          -39.862432905306015,
          -39.93642020550958,
          -40.069190415724876,
          -40.23104447874544,
          -40.161830112225786,
          -40.161830112225786,
          -40.1904210476953,
          -40.093354821776295,
          -40.02460728208572,
          -39.99416407809665,
          -39.949166123248055,
          -40.028278152616245,
          -40.05606284293056,
          -40.131782739439515,
          -40.26249581502319,
          -40.22023192058447,
          -40.22374586152209,
          -40.145349839203796,
          -40.11559343594994,
          -40.11559343594994,
          -40.108334747107314,
          -40.06910671869067,
          -40.08569313378273,
          -40.14626281901304,
          -40.224293608813646,
          -40.29909300590722,
          -40.26627031808735,
          -40.25202699908341,
          -40.257715948262046,
          -40.31447540692428,
          -40.287711745513406,
          -40.25285016483564,
          -40.30177505550596,
          -40.341555308523056,
          -40.39774317116176,
          -40.44699217124568,
          -40.48266158037313,
          -40.45856562060007,
          -40.4393877080012,
          -40.4295050899151,
          -40.42555785598541,
          -40.42336996060724,
          -40.407983586360274,
          -40.40438105252797,
          -40.41586284249922,
          -40.427968642795,
          -40.46507534186162,
          -40.47099832256074,
          -40.47099832256074,
          -40.455565586296686,
          -40.44018000561566,
          -40.41194538593346,
          -40.38768781410935,
          -40.390723923098946,
          -40.40508092348351,
          -40.43686143228349,
          -40.47565507808159,
          -40.46658359965791,
          -40.46658359965791,
          -40.46120948784938,
          -40.471941905255235,
          -40.50495788760062,
          -40.53756042656348,
          -40.5403590515895,
          -40.52135638766285,
          -40.52135638766285,
          -40.523399771261545,
          -40.51869232629605,
          -40.51580839685403,
          -40.51417657344475,
          -40.51372432524275,
          -40.52096255771574,
          -40.50777142738465,
          -40.50735867266138,
          -40.50896016098764,
          -40.50332892766043,
          -40.50295221756888,
          -40.49253806708813,
          -40.49218362056299,
          -40.49183980743361,
          -40.48867156944637,
          -40.48511313793859,
          -40.48024940905501,
          -40.486032539592074,
          -40.498580410981035,
          -40.50889033260227,
          -40.51527962014032,
          -40.51029458688509,
          -40.50715805785315,
          -40.50627068151453,
          -40.50233580129299,
          -40.50150086889599,
          -40.50647587322158,
          -40.51724965003087,
          -40.51431042904509,
          -40.50987547115765,
          -40.514279806716814,
          -40.51278950247528,
          -40.50816359810956,
          -40.51311813443126,
          -40.52046300082363,
          -40.5175604184382,
          -40.51738978177676,
          -40.51838288714637,
          -40.52095171970245,
          -40.52383282596613,
          -40.52791153802266,
          -40.5310619654278,
          -40.532838659952795,
          -40.52835783636076,
          -40.53223616151904,
          -40.53249560809859,
          -40.537528871741934,
          -40.545035355308016,
          -40.5487647960456,
          -40.546180826391705,
          -40.543785773630276,
          -40.54178674005801,
          -40.54089581941999,
          -40.541760012438864,
          -40.54235173048238,
          -40.5434040024031,
          -40.539645956729885,
          -40.538430855295545,
          -40.538125279786684,
          -40.538887472413066,
          -40.53650519701528,
          -40.53622630649888,
          -40.5344099324071,
          -40.53339778692915,
          -40.53314325108488,
          -40.531661852471224,
          -40.531593425963834,
          -40.5321244156612,
          -40.533894934433356,
          -40.53426964058804,
          -40.53224029450527,
          -40.533738678844294,
          -40.532427739448075,
          -40.531819577562956,
          -40.53042522822272,
          -40.53037320826656,
          -40.52906126497233,
          -40.52962413910491,
          -40.53130958004017,
          -40.53227669079655,
          -40.53086954464602,
          -40.53086954464602,
          -40.52988181069027,
          -40.52933141170514,
          -40.530399185736286,
          -40.53118558153664,
          -40.53029254279361,
          -40.52998574677543,
          -40.52898793784336,
          -40.527765359320284,
          -40.527765359320284,
          -40.527254104150344,
          -40.52745557064075,
          -40.5270947906487,
          -40.52719686132145,
          -40.52723929355827,
          -40.52626519084179,
          -40.52570624795913,
          -40.52578370147287,
          -40.52630961083117,
          -40.52708695494934,
          -40.52698092035322,
          -40.52640951169635,
          -40.5258330746433,
          -40.52581156910709,
          -40.525634255961045,
          -40.525715194197126,
          -40.52669657030959,
          -40.52777225666646,
          -40.528049269701725,
          -40.52864041551898,
          -40.529309395535506,
          -40.52980661276077,
          -40.530632246177035,
          -40.53089391474787,
          -40.53036320331011,
          -40.53072131815855,
          -40.53049697412745,
          -40.530293400011494,
          -40.53027978160512,
          -40.53006842393813,
          -40.53002357648317,
          -40.52997385987595,
          -40.530058253816705,
          -40.52971911073766,
          -40.529679407608235,
          -40.53000400905067,
          -40.530388249131,
          -40.53049695705373,
          -40.530783169484565,
          -40.531055924909886,
          -40.53134412024053,
          -40.53168324582797,
          -40.53188772939164,
          -40.5321378216806,
          -40.53225911644074,
          -40.53232808715091,
          -40.53242647184041,
          -40.532548626270895,
          -40.532811525509246,
          -40.532635531131795,
          -40.532645983042784,
          -40.53253108170133,
          -40.53245896421231,
          -40.53248440201753
         ]
        },
        {
         "name": "Constant",
         "type": "scatter",
         "x": [
          0,
          1,
          2,
          3,
          4,
          5,
          6,
          7,
          8,
          9,
          10,
          11,
          12,
          13,
          14,
          15,
          16,
          17,
          18,
          19,
          20,
          21,
          22,
          23,
          24,
          25,
          26,
          27,
          28,
          29,
          30,
          31,
          32,
          33,
          34,
          35,
          36,
          37,
          38,
          39,
          40,
          41,
          42,
          43,
          44,
          45,
          46,
          47,
          48,
          49,
          50,
          51,
          52,
          53,
          54,
          55,
          56,
          57,
          58,
          59,
          60,
          61,
          62,
          63,
          64,
          65,
          66,
          67,
          68,
          69,
          70,
          71,
          72,
          73,
          74,
          75,
          76,
          77,
          78,
          79,
          80,
          81,
          82,
          83,
          84,
          85,
          86,
          87,
          88,
          89,
          90,
          91,
          92,
          93,
          94,
          95,
          96,
          97,
          98,
          99,
          100,
          101,
          102,
          103,
          104,
          105,
          106,
          107,
          108,
          109,
          110,
          111,
          112,
          113,
          114,
          115,
          116,
          117,
          118,
          119,
          120,
          121,
          122,
          123,
          124,
          125,
          126,
          127,
          128,
          129,
          130,
          131,
          132,
          133,
          134,
          135,
          136,
          137,
          138,
          139,
          140,
          141,
          142,
          143,
          144,
          145,
          146,
          147,
          148,
          149,
          150,
          151,
          152,
          153,
          154,
          155,
          156,
          157,
          158,
          159,
          160,
          161,
          162,
          163,
          164,
          165,
          166,
          167,
          168,
          169,
          170,
          171,
          172,
          173,
          174,
          175,
          176,
          177,
          178,
          179,
          180,
          181,
          182,
          183,
          184,
          185,
          186,
          187,
          188,
          189,
          190,
          191,
          192,
          193,
          194,
          195,
          196,
          197,
          198,
          199,
          200,
          201,
          202,
          203,
          204,
          205,
          206,
          207,
          208,
          209,
          210,
          211,
          212,
          213,
          214,
          215,
          216,
          217,
          218,
          219,
          220,
          221,
          222,
          223,
          224,
          225,
          226,
          227,
          228,
          229,
          230,
          231,
          232,
          233,
          234,
          235,
          236,
          237,
          238,
          239,
          240,
          241,
          242,
          243,
          244,
          245,
          246,
          247,
          248,
          249,
          250,
          251,
          252,
          253,
          254,
          255,
          256,
          257,
          258,
          259,
          260,
          261,
          262,
          263,
          264,
          265,
          266,
          267,
          268,
          269,
          270,
          271,
          272,
          273,
          274,
          275,
          276,
          277,
          278,
          279,
          280,
          281,
          282,
          283,
          284,
          285,
          286,
          287,
          288,
          289,
          290,
          291,
          292,
          293,
          294,
          295,
          296,
          297,
          298,
          299,
          300,
          301,
          302,
          303,
          304,
          305,
          306,
          307,
          308,
          309,
          310,
          311,
          312,
          313,
          314,
          315,
          316,
          317,
          318,
          319,
          320,
          321,
          322,
          323,
          324,
          325,
          326,
          327,
          328,
          329,
          330,
          331,
          332,
          333,
          334,
          335,
          336,
          337,
          338,
          339,
          340
         ],
         "y": [
          5.2,
          3.551,
          7.97323,
          9.0684376,
          10.130788972,
          11.16126980284,
          10.4948921988968,
          12.595647595327737,
          11.184909548339885,
          13.69367204189995,
          14.578580994173864,
          15.43694267787956,
          16.269553511074086,
          17.077186019272776,
          17.860589552225505,
          18.620490979189654,
          19.357595363344878,
          20.072586615975442,
          20.76612813102709,
          21.43886340062719,
          22.091416612139287,
          22.72439322730602,
          23.338380544017753,
          22.941335412544166,
          21.78593407995603,
          23.513740489397204,
          24.37437487118101,
          24.901626671389618,
          25.413060917591967,
          25.909152136408245,
          26.390360618660033,
          26.85713284644427,
          27.309901907394977,
          27.749087896517164,
          28.175098305965687,
          28.24396998882653,
          28.878622546389213,
          28.295410248755296,
          27.44683635569795,
          29.093069708229205,
          29.15221216570903,
          29.69720991138563,
          30.031092740842244,
          30.354959085415157,
          30.66910943965088,
          30.973835283259536,
          30.77677923772594,
          30.44227660043266,
          30.674039141985862,
          30.067053045658028,
          31.244606072534026,
          31.498434169438408,
          31.334292000106906,
          30.85663828735224,
          31.184826192490757,
          31.802784712695697,
          32.020755536186165,
          32.23218723497192,
          32.26636869294228,
          32.08401061467039,
          31.649832608312135,
          32.492137940647154,
          32.67370153450604,
          32.84981822054915,
          33.02065140601098,
          32.91017927941233,
          33.25844265851456,
          33.414357494389556,
          33.565594885188304,
          33.71229515426309,
          33.85459441526563,
          33.99262469843809,
          34.12651407311538,
          34.25638676655235,
          34.382363279186215,
          34.504560496441066,
          34.62309179717827,
          34.73806715889336,
          34.84959325975699,
          34.687322783000404,
          34.45121923931957,
          34.739615345637866,
          34.62442654787897,
          34.94366407309648,
          34.959147093069525,
          34.951637828382594,
          35.141021483786936,
          35.22580708951411,
          35.23951409577334,
          35.232866197737614,
          35.4005261861986,
          35.47558627334036,
          35.54839455786787,
          35.50131186720675,
          35.64974004951594,
          35.55006481631908,
          35.72732060602084,
          35.78984355729746,
          35.85049082003578,
          35.909318664891956,
          35.96638167440244,
          36.02173279362761,
          36.07542337927603,
          36.127503247354994,
          36.17802071939159,
          36.14535275414126,
          36.24833851459293,
          36.17917961545885,
          36.19036030415219,
          36.30965825251017,
          36.351737892476436,
          36.39255514324372,
          36.43214787648798,
          36.47055282773491,
          36.445717625928566,
          36.52401059962308,
          36.559061761692476,
          36.593061388899784,
          36.543591931313145,
          36.63156511672138,
          36.61087808887993,
          36.62592790163458,
          36.591865158766545,
          36.521063314662264,
          36.43178218924677,
          36.43622335292128,
          36.410375780335606,
          36.3853036349275,
          36.442050257367846,
          36.38307430333163,
          36.365912300707095,
          36.47874293351753,
          36.46438939727804,
          36.440024269511504,
          36.42314271670183,
          36.500105715961126,
          36.51916633960747,
          36.53765514454442,
          36.55558928533327,
          36.57298540189845,
          36.58985963496667,
          36.60622764104285,
          36.582412192202014,
          36.586262356431284,
          36.56509928705107,
          36.62185365958307,
          36.635909423333544,
          36.649543514171505,
          36.66276858228433,
          36.67559689835377,
          36.65693169847273,
          36.649890770295386,
          36.688917629335535,
          36.70027444531622,
          36.71129055681748,
          36.721976184973705,
          36.7064285960064,
          36.73407739171992,
          36.74382987602615,
          36.75328978580318,
          36.75481913788381,
          36.76891211730673,
          36.777545921542675,
          36.785920711651535,
          36.79404425805713,
          36.80192409807056,
          36.809567542883585,
          36.79844633068063,
          36.81822355304821,
          36.82519951875605,
          36.831966205492655,
          36.83852989162716,
          36.83959102088557,
          36.84936932700183,
          36.84537566092487,
          36.83859641275924,
          36.85738461481829,
          36.85373970361883,
          36.84313301202841,
          36.833273208304156,
          36.817055974613346,
          36.797695092545545,
          36.7812625438905,
          36.76228686270551,
          36.74572109303101,
          36.74036482750292,
          36.74590677690265,
          36.741875008714345,
          36.73144616833394,
          36.74788462798356,
          36.75800376439479,
          36.76157305978349,
          36.76503527631051,
          36.768393626341734,
          36.77165122587201,
          36.77481109741639,
          36.77787617281443,
          36.78084929595053,
          36.78373322539255,
          36.78653063695131,
          36.789244126163304,
          36.79187621069894,
          36.794429332698506,
          36.796905861038084,
          36.79930809352748,
          36.801638259042186,
          36.803898519591456,
          36.80060984049227,
          36.795824812402955,
          36.789636176074104,
          36.80214237865532,
          36.80408334129592,
          36.805966075057306,
          36.80322669743449,
          36.80809822397373,
          36.80552074356842,
          36.8101043628892,
          36.81172113043144,
          36.813289394947404,
          36.81100757007667,
          36.81506541530513,
          36.81649672798571,
          36.81441416803546,
          36.81811765381365,
          36.81942397425178,
          36.82069110507676,
          36.821920221976995,
          36.82112539304818,
          36.82266736117008,
          36.8244435157005,
          36.82553164405493,
          36.82658712855872,
          36.826757765220165,
          36.828330182055396,
          36.82929349426393,
          36.830227907106206,
          36.8288683364207,
          36.82689016107328,
          36.82504239876729,
          36.82766195717494,
          36.827862560200366,
          36.83000299448168,
          36.83075798402818,
          36.83149032388829,
          36.83220069355259,
          36.83288975212697,
          36.832444160915536,
          36.83384888720956,
          36.83447777236581,
          36.83508779096737,
          36.83567950901089,
          36.83529686467608,
          36.83650315094156,
          36.836593158455216,
          36.837422577693545,
          36.83793070611113,
          36.837191379263544,
          36.83850614884084,
          36.83819697878267,
          36.83917163739107,
          36.83960798455268,
          36.83967852734381,
          36.84032857916404,
          36.84072682143706,
          36.841113116441896,
          36.841487822596584,
          36.841851287566634,
          36.84220384858758,
          36.841975859127366,
          36.84131240979815,
          36.842572687086445,
          36.84288480682338,
          36.84268296939349,
          36.843319261891196,
          36.84360412514786,
          36.84388044250683,
          36.84347840074954,
          36.844193365007925,
          36.844445552400884,
          36.84469017417205,
          36.84492745729008,
          36.844582210353344,
          36.844824075012916,
          36.84529329245248,
          36.844978194894985,
          36.84553854338473,
          36.84573619357929,
          36.84592791426802,
          36.84611388333608,
          36.846294273332106,
          36.84617762113468,
          36.846545367187076,
          36.846572806700216,
          36.8468256618138,
          36.84659330127258,
          36.847006515768385,
          36.84715226779054,
          36.846940198598304,
          36.84731732831184,
          36.84745035224716,
          36.847579385464414,
          36.847704547685154,
          36.847825955039276,
          36.84794372017277,
          36.847867565386444,
          36.84810764335034,
          36.84821512440802,
          36.848319381033974,
          36.848420509961144,
          36.8485186050205,
          36.84861375722808,
          36.84855222546718,
          36.84874620434342,
          36.84883304719417,
          36.848917284759395,
          36.84899899519766,
          36.849078254322784,
          36.84915513567415,
          36.84904327330791,
          36.84924220188254,
          36.84931236941613,
          36.84938043192372,
          36.84944645255608,
          36.84951049256947,
          36.849572611382456,
          36.849632866631055,
          36.84969131422219,
          36.849606272977084,
          36.849665849093796,
          36.84978142676022,
          36.849833169992415,
          36.84988336092765,
          36.849810333116885,
          36.84994020090702,
          36.84994783555893,
          36.850018188876234,
          36.85002537232021,
          36.8499522089433,
          36.850053592479874,
          36.850115875765844,
          36.85015403247367
         ]
        },
        {
         "name": "Threshold",
         "type": "scatter",
         "x": [
          0,
          1,
          2,
          3,
          4,
          5,
          6,
          7,
          8,
          9,
          10,
          11,
          12,
          13,
          14,
          15,
          16,
          17,
          18,
          19,
          20,
          21,
          22,
          23,
          24,
          25,
          26,
          27,
          28,
          29,
          30,
          31,
          32,
          33,
          34,
          35,
          36,
          37,
          38,
          39,
          40,
          41,
          42,
          43,
          44,
          45,
          46,
          47,
          48,
          49,
          50,
          51,
          52,
          53,
          54,
          55,
          56,
          57,
          58,
          59,
          60,
          61,
          62,
          63,
          64,
          65,
          66,
          67,
          68,
          69,
          70,
          71,
          72,
          73,
          74,
          75,
          76,
          77,
          78,
          79,
          80,
          81,
          82,
          83,
          84,
          85,
          86,
          87,
          88,
          89,
          90,
          91,
          92,
          93,
          94,
          95,
          96,
          97,
          98,
          99,
          100,
          101,
          102,
          103,
          104,
          105,
          106,
          107,
          108,
          109,
          110,
          111,
          112,
          113,
          114,
          115,
          116,
          117,
          118,
          119,
          120,
          121,
          122,
          123,
          124,
          125,
          126,
          127,
          128,
          129,
          130,
          131,
          132,
          133,
          134,
          135,
          136,
          137,
          138,
          139,
          140,
          141,
          142,
          143,
          144,
          145,
          146,
          147,
          148,
          149,
          150,
          151,
          152,
          153,
          154,
          155,
          156,
          157,
          158,
          159,
          160,
          161,
          162,
          163,
          164,
          165,
          166,
          167,
          168,
          169,
          170,
          171,
          172,
          173,
          174,
          175,
          176,
          177,
          178,
          179,
          180,
          181,
          182,
          183,
          184,
          185,
          186,
          187,
          188,
          189,
          190,
          191,
          192,
          193,
          194,
          195,
          196,
          197,
          198,
          199,
          200,
          201,
          202,
          203,
          204,
          205,
          206,
          207,
          208,
          209,
          210,
          211,
          212,
          213,
          214,
          215,
          216,
          217,
          218,
          219,
          220,
          221,
          222,
          223,
          224,
          225,
          226,
          227,
          228,
          229,
          230,
          231,
          232,
          233,
          234,
          235,
          236,
          237,
          238,
          239,
          240,
          241,
          242,
          243,
          244,
          245,
          246,
          247,
          248,
          249,
          250,
          251,
          252,
          253,
          254,
          255,
          256,
          257,
          258,
          259,
          260,
          261,
          262,
          263,
          264,
          265,
          266,
          267,
          268,
          269,
          270,
          271,
          272,
          273,
          274,
          275,
          276,
          277,
          278,
          279,
          280,
          281,
          282,
          283,
          284,
          285,
          286,
          287,
          288,
          289,
          290,
          291,
          292,
          293,
          294,
          295,
          296,
          297,
          298,
          299,
          300,
          301,
          302,
          303,
          304,
          305,
          306,
          307,
          308,
          309,
          310,
          311,
          312,
          313,
          314,
          315,
          316,
          317,
          318,
          319,
          320,
          321,
          322,
          323,
          324,
          325,
          326,
          327,
          328,
          329,
          330,
          331,
          332,
          333,
          334,
          335,
          336,
          337,
          338,
          339,
          340
         ],
         "y": [
          0,
          4.753,
          9.175229999999999,
          5.250736099999999,
          10.828080802999999,
          6.27679046679,
          12.107594501292997,
          15.905113871764307,
          11.751274066744518,
          17.072891477326472,
          16.114240112363067,
          19.118506005333003,
          16.13498385305262,
          18.355973250599018,
          21.816005521140237,
          19.726276596988832,
          23.16609705637987,
          20.60404506778701,
          24.245138021808167,
          26.880017827741888,
          26.173085181937118,
          28.388503335020687,
          30.793286992141635,
          33.125927139548956,
          34.90717086062233,
          35.79442280060564,
          36.3832779039314,
          34.84546015332297,
          37.53048994588529,
          39.473513886249044,
          38.15019056005662,
          40.328460956383054,
          41.72449889431441,
          40.223946764813604,
          42.46050141441834,
          40.97976023291019,
          40.07788554584743,
          41.47111492352845,
          42.75969009446738,
          42.4243462633962,
          43.66633787047256,
          45.014490188725205,
          43.81807671650568,
          44.70870916408119,
          46.096206561955654,
          44.75033408601743,
          44.50401402910044,
          44.64737230222613,
          44.99501611455593,
          45.2423067463932,
          46.44166631080394,
          45.5321156302299,
          46.20920207872234,
          45.4728192715589,
          46.30294161985044,
          47.25796842380353,
          48.11168748247454,
          47.17786414617078,
          48.374215175133514,
          48.15870108263037,
          48.834089092521,
          48.00738200708107,
          49.06650297125788,
          49.60952941989082,
          49.02584936956293,
          49.895817366527254,
          50.525370397981284,
          49.83674653953338,
          50.718964652526076,
          50.07103846411244,
          50.901117486627264,
          50.52153420790299,
          51.14635128973035,
          50.78920138277867,
          51.377091775070035,
          51.85569754265152,
          52.02361688536256,
          52.148173527220564,
          52.65933482284555,
          52.90274053798043,
          52.736593599834656,
          52.558466592991,
          52.55023882172251,
          52.590143512374695,
          53.000443541660495,
          52.97791574759971,
          52.86865594640489,
          53.115947296442485,
          53.438061943534315,
          53.55107621014164,
          53.89284464815826,
          54.1868299894635,
          54.47199577052958,
          54.74860657816368,
          54.44604143730264,
          54.83366734417934,
          55.08612255981518,
          54.86208198440729,
          55.18048011378348,
          55.11674994852263,
          55.0311554342569,
          55.13263248616972,
          55.360817475175494,
          55.56479695848477,
          55.3837760170203,
          55.436861460552095,
          55.57549613808319,
          55.75607770804441,
          55.59582117010648,
          55.498213757813595,
          55.7191318676365,
          55.87899943314168,
          56.0340709716817,
          55.928457355752634,
          56.102303768397086,
          56.03304459935963,
          55.97170506573819,
          55.968871763470915,
          56.06506237544493,
          56.163698977266286,
          56.05767795957885,
          56.215700993502736,
          56.33005448741687,
          56.22857184420073,
          56.25833221933923,
          56.29164094689809,
          56.40149313038721,
          56.49969236656895,
          56.45307906956438,
          56.51008915846605,
          56.60734050667177,
          56.58329463410561,
          56.658650699362944,
          56.56641128710391,
          56.617055945532925,
          56.70711902977252,
          56.765889286015415,
          56.73353387737575,
          56.806764952263535,
          56.84590621453519,
          56.889497983294774,
          56.87722197873764,
          56.93279135936626,
          56.96744283742969,
          57.03093204557033,
          57.02730942604701,
          57.05659226719384,
          57.11226480478219,
          57.064874977377904,
          57.07877231978647,
          57.0839570975312,
          57.05679923170429,
          57.043139831040236,
          57.06112145634298,
          57.05469539130058,
          57.04757163919643,
          57.07780306218841,
          57.11718165002283,
          57.155378880222216,
          57.19243019351562,
          57.228369967410224,
          57.25581419049697,
          57.291068891127054,
          57.28199620184245,
          57.31042861426204,
          57.30845865425868,
          57.298904348242395,
          57.32052892752591,
          57.30075170515833,
          57.29842638325572,
          57.31083197560616,
          57.327788164786966,
          57.33893002200029,
          57.36620634958776,
          57.344740394424115,
          57.370404691051164,
          57.37463203651445,
          57.35412941101751,
          57.34529050135883,
          57.37229778982093,
          57.362733780208394,
          57.38249801398594,
          57.381324260510574,
          57.37563155615508,
          57.38851604367969,
          57.40529900900103,
          57.40425989348858,
          57.41601921737112,
          57.41504151358546,
          57.4134608924653,
          57.39966207008634,
          57.4204829598537,
          57.41096186440437,
          57.42663416455006,
          57.412246433291315,
          57.42277933843923,
          57.4107744597969,
          57.42811767809082,
          57.42018687212527,
          57.419254401605684,
          57.428751613847666,
          57.42590018893406,
          57.43483611593254,
          57.4404083046966,
          57.4346029095139,
          57.42994257848448,
          57.44049046104773,
          57.449077567584496,
          57.44322919991978,
          57.452855967542426,
          57.46069318782666,
          57.45373807169783,
          57.463622423945104,
          57.455556478722364,
          57.465890019866215,
          57.45830077200614,
          57.468023600868385,
          57.46761940898283,
          57.47219351382107,
          57.478151612094656,
          57.47286411679697,
          57.47799298723573,
          57.47926566276088,
          57.47421545488153,
          57.47312685451642,
          57.479040131699676,
          57.48385417289226,
          57.480575503560885,
          57.48597239198755,
          57.481017855665854,
          57.48736527106667,
          57.48710139994073,
          57.49008754151604,
          57.493977204213714,
          57.497750177030454,
          57.4951805417142,
          57.4963890489902,
          57.500418665438644,
          57.50375885114563,
          57.506998831281415,
          57.50546087475313,
          57.50863909535266,
          57.5071920320552,
          57.5101824198173,
          57.51296470100248,
          57.51566351375211,
          57.51828136211925,
          57.520820675035374,
          57.51961531181923,
          57.5185477792665,
          57.520963961277516,
          57.5232119967445,
          57.520753028587954,
          57.519402915883134,
          57.52114906164804,
          57.52169953410043,
          57.52395858835695,
          57.52383906384992,
          57.524418757709,
          57.52483111327409,
          57.52355843405274,
          57.52542781801759,
          57.52505147222693,
          57.52544971449995,
          57.52393672573101,
          57.522999960344286,
          57.525120172669574,
          57.524738231563546,
          57.52593517622966,
          57.52723443116604,
          57.52849470845434,
          57.52945707764321,
          57.53069333190123,
          57.530619913536114,
          57.53145076470138,
          57.530690891964234,
          57.531941688542474,
          57.53122672428409,
          57.53114266181977,
          57.531998838018865,
          57.531544045375966,
          57.5311412572831,
          57.53205290099995,
          57.532901101756096,
          57.5326735312979,
          57.53287729438508,
          57.533420832420134,
          57.53343680914419,
          57.533824244702664,
          57.534560837186426,
          57.53422546211882,
          57.53491852198679,
          57.53460296758568,
          57.53525506761545,
          57.53495816247945,
          57.53482042431418,
          57.53484471631787,
          57.53525707308056,
          57.53515421952232,
          57.53528724345764,
          57.53488939103776,
          57.53460777604109,
          57.535143991855115,
          57.53464349003776,
          57.53454829655485,
          57.53451136148348,
          57.5345292749931,
          57.535007117862044,
          57.53540320616014,
          57.5353786823953,
          57.5356562096674,
          57.53601770876269,
          57.53621914836494,
          57.53658823048062,
          57.53691816094441,
          57.53723819349429,
          57.53715232944208,
          57.53722921079345,
          57.537558583316255,
          57.53784190583163,
          57.537999782782215,
          57.53800545465785,
          57.538198014835565,
          57.538448838221335,
          57.53817448013064,
          57.53812426742348,
          57.53815349121905,
          57.53808262351479,
          57.53824302075209,
          57.53805187307301,
          57.538021689520896,
          57.538226635839756,
          57.53817389353198,
          57.53833917981034,
          57.53825138131344,
          57.53817362238378,
          57.53824186510157,
          57.53842651552901,
          57.53838258266316,
          57.53852026150583,
          57.53860611409844
         ]
        }
       ],
       "layout": {
        "template": {
         "data": {
          "bar": [
           {
            "error_x": {
             "color": "#2a3f5f"
            },
            "error_y": {
             "color": "#2a3f5f"
            },
            "marker": {
             "line": {
              "color": "#E5ECF6",
              "width": 0.5
             },
             "pattern": {
              "fillmode": "overlay",
              "size": 10,
              "solidity": 0.2
             }
            },
            "type": "bar"
           }
          ],
          "barpolar": [
           {
            "marker": {
             "line": {
              "color": "#E5ECF6",
              "width": 0.5
             },
             "pattern": {
              "fillmode": "overlay",
              "size": 10,
              "solidity": 0.2
             }
            },
            "type": "barpolar"
           }
          ],
          "carpet": [
           {
            "aaxis": {
             "endlinecolor": "#2a3f5f",
             "gridcolor": "white",
             "linecolor": "white",
             "minorgridcolor": "white",
             "startlinecolor": "#2a3f5f"
            },
            "baxis": {
             "endlinecolor": "#2a3f5f",
             "gridcolor": "white",
             "linecolor": "white",
             "minorgridcolor": "white",
             "startlinecolor": "#2a3f5f"
            },
            "type": "carpet"
           }
          ],
          "choropleth": [
           {
            "colorbar": {
             "outlinewidth": 0,
             "ticks": ""
            },
            "type": "choropleth"
           }
          ],
          "contour": [
           {
            "colorbar": {
             "outlinewidth": 0,
             "ticks": ""
            },
            "colorscale": [
             [
              0,
              "#0d0887"
             ],
             [
              0.1111111111111111,
              "#46039f"
             ],
             [
              0.2222222222222222,
              "#7201a8"
             ],
             [
              0.3333333333333333,
              "#9c179e"
             ],
             [
              0.4444444444444444,
              "#bd3786"
             ],
             [
              0.5555555555555556,
              "#d8576b"
             ],
             [
              0.6666666666666666,
              "#ed7953"
             ],
             [
              0.7777777777777778,
              "#fb9f3a"
             ],
             [
              0.8888888888888888,
              "#fdca26"
             ],
             [
              1,
              "#f0f921"
             ]
            ],
            "type": "contour"
           }
          ],
          "contourcarpet": [
           {
            "colorbar": {
             "outlinewidth": 0,
             "ticks": ""
            },
            "type": "contourcarpet"
           }
          ],
          "heatmap": [
           {
            "colorbar": {
             "outlinewidth": 0,
             "ticks": ""
            },
            "colorscale": [
             [
              0,
              "#0d0887"
             ],
             [
              0.1111111111111111,
              "#46039f"
             ],
             [
              0.2222222222222222,
              "#7201a8"
             ],
             [
              0.3333333333333333,
              "#9c179e"
             ],
             [
              0.4444444444444444,
              "#bd3786"
             ],
             [
              0.5555555555555556,
              "#d8576b"
             ],
             [
              0.6666666666666666,
              "#ed7953"
             ],
             [
              0.7777777777777778,
              "#fb9f3a"
             ],
             [
              0.8888888888888888,
              "#fdca26"
             ],
             [
              1,
              "#f0f921"
             ]
            ],
            "type": "heatmap"
           }
          ],
          "heatmapgl": [
           {
            "colorbar": {
             "outlinewidth": 0,
             "ticks": ""
            },
            "colorscale": [
             [
              0,
              "#0d0887"
             ],
             [
              0.1111111111111111,
              "#46039f"
             ],
             [
              0.2222222222222222,
              "#7201a8"
             ],
             [
              0.3333333333333333,
              "#9c179e"
             ],
             [
              0.4444444444444444,
              "#bd3786"
             ],
             [
              0.5555555555555556,
              "#d8576b"
             ],
             [
              0.6666666666666666,
              "#ed7953"
             ],
             [
              0.7777777777777778,
              "#fb9f3a"
             ],
             [
              0.8888888888888888,
              "#fdca26"
             ],
             [
              1,
              "#f0f921"
             ]
            ],
            "type": "heatmapgl"
           }
          ],
          "histogram": [
           {
            "marker": {
             "pattern": {
              "fillmode": "overlay",
              "size": 10,
              "solidity": 0.2
             }
            },
            "type": "histogram"
           }
          ],
          "histogram2d": [
           {
            "colorbar": {
             "outlinewidth": 0,
             "ticks": ""
            },
            "colorscale": [
             [
              0,
              "#0d0887"
             ],
             [
              0.1111111111111111,
              "#46039f"
             ],
             [
              0.2222222222222222,
              "#7201a8"
             ],
             [
              0.3333333333333333,
              "#9c179e"
             ],
             [
              0.4444444444444444,
              "#bd3786"
             ],
             [
              0.5555555555555556,
              "#d8576b"
             ],
             [
              0.6666666666666666,
              "#ed7953"
             ],
             [
              0.7777777777777778,
              "#fb9f3a"
             ],
             [
              0.8888888888888888,
              "#fdca26"
             ],
             [
              1,
              "#f0f921"
             ]
            ],
            "type": "histogram2d"
           }
          ],
          "histogram2dcontour": [
           {
            "colorbar": {
             "outlinewidth": 0,
             "ticks": ""
            },
            "colorscale": [
             [
              0,
              "#0d0887"
             ],
             [
              0.1111111111111111,
              "#46039f"
             ],
             [
              0.2222222222222222,
              "#7201a8"
             ],
             [
              0.3333333333333333,
              "#9c179e"
             ],
             [
              0.4444444444444444,
              "#bd3786"
             ],
             [
              0.5555555555555556,
              "#d8576b"
             ],
             [
              0.6666666666666666,
              "#ed7953"
             ],
             [
              0.7777777777777778,
              "#fb9f3a"
             ],
             [
              0.8888888888888888,
              "#fdca26"
             ],
             [
              1,
              "#f0f921"
             ]
            ],
            "type": "histogram2dcontour"
           }
          ],
          "mesh3d": [
           {
            "colorbar": {
             "outlinewidth": 0,
             "ticks": ""
            },
            "type": "mesh3d"
           }
          ],
          "parcoords": [
           {
            "line": {
             "colorbar": {
              "outlinewidth": 0,
              "ticks": ""
             }
            },
            "type": "parcoords"
           }
          ],
          "pie": [
           {
            "automargin": true,
            "type": "pie"
           }
          ],
          "scatter": [
           {
            "fillpattern": {
             "fillmode": "overlay",
             "size": 10,
             "solidity": 0.2
            },
            "type": "scatter"
           }
          ],
          "scatter3d": [
           {
            "line": {
             "colorbar": {
              "outlinewidth": 0,
              "ticks": ""
             }
            },
            "marker": {
             "colorbar": {
              "outlinewidth": 0,
              "ticks": ""
             }
            },
            "type": "scatter3d"
           }
          ],
          "scattercarpet": [
           {
            "marker": {
             "colorbar": {
              "outlinewidth": 0,
              "ticks": ""
             }
            },
            "type": "scattercarpet"
           }
          ],
          "scattergeo": [
           {
            "marker": {
             "colorbar": {
              "outlinewidth": 0,
              "ticks": ""
             }
            },
            "type": "scattergeo"
           }
          ],
          "scattergl": [
           {
            "marker": {
             "colorbar": {
              "outlinewidth": 0,
              "ticks": ""
             }
            },
            "type": "scattergl"
           }
          ],
          "scattermapbox": [
           {
            "marker": {
             "colorbar": {
              "outlinewidth": 0,
              "ticks": ""
             }
            },
            "type": "scattermapbox"
           }
          ],
          "scatterpolar": [
           {
            "marker": {
             "colorbar": {
              "outlinewidth": 0,
              "ticks": ""
             }
            },
            "type": "scatterpolar"
           }
          ],
          "scatterpolargl": [
           {
            "marker": {
             "colorbar": {
              "outlinewidth": 0,
              "ticks": ""
             }
            },
            "type": "scatterpolargl"
           }
          ],
          "scatterternary": [
           {
            "marker": {
             "colorbar": {
              "outlinewidth": 0,
              "ticks": ""
             }
            },
            "type": "scatterternary"
           }
          ],
          "surface": [
           {
            "colorbar": {
             "outlinewidth": 0,
             "ticks": ""
            },
            "colorscale": [
             [
              0,
              "#0d0887"
             ],
             [
              0.1111111111111111,
              "#46039f"
             ],
             [
              0.2222222222222222,
              "#7201a8"
             ],
             [
              0.3333333333333333,
              "#9c179e"
             ],
             [
              0.4444444444444444,
              "#bd3786"
             ],
             [
              0.5555555555555556,
              "#d8576b"
             ],
             [
              0.6666666666666666,
              "#ed7953"
             ],
             [
              0.7777777777777778,
              "#fb9f3a"
             ],
             [
              0.8888888888888888,
              "#fdca26"
             ],
             [
              1,
              "#f0f921"
             ]
            ],
            "type": "surface"
           }
          ],
          "table": [
           {
            "cells": {
             "fill": {
              "color": "#EBF0F8"
             },
             "line": {
              "color": "white"
             }
            },
            "header": {
             "fill": {
              "color": "#C8D4E3"
             },
             "line": {
              "color": "white"
             }
            },
            "type": "table"
           }
          ]
         },
         "layout": {
          "annotationdefaults": {
           "arrowcolor": "#2a3f5f",
           "arrowhead": 0,
           "arrowwidth": 1
          },
          "autotypenumbers": "strict",
          "coloraxis": {
           "colorbar": {
            "outlinewidth": 0,
            "ticks": ""
           }
          },
          "colorscale": {
           "diverging": [
            [
             0,
             "#8e0152"
            ],
            [
             0.1,
             "#c51b7d"
            ],
            [
             0.2,
             "#de77ae"
            ],
            [
             0.3,
             "#f1b6da"
            ],
            [
             0.4,
             "#fde0ef"
            ],
            [
             0.5,
             "#f7f7f7"
            ],
            [
             0.6,
             "#e6f5d0"
            ],
            [
             0.7,
             "#b8e186"
            ],
            [
             0.8,
             "#7fbc41"
            ],
            [
             0.9,
             "#4d9221"
            ],
            [
             1,
             "#276419"
            ]
           ],
           "sequential": [
            [
             0,
             "#0d0887"
            ],
            [
             0.1111111111111111,
             "#46039f"
            ],
            [
             0.2222222222222222,
             "#7201a8"
            ],
            [
             0.3333333333333333,
             "#9c179e"
            ],
            [
             0.4444444444444444,
             "#bd3786"
            ],
            [
             0.5555555555555556,
             "#d8576b"
            ],
            [
             0.6666666666666666,
             "#ed7953"
            ],
            [
             0.7777777777777778,
             "#fb9f3a"
            ],
            [
             0.8888888888888888,
             "#fdca26"
            ],
            [
             1,
             "#f0f921"
            ]
           ],
           "sequentialminus": [
            [
             0,
             "#0d0887"
            ],
            [
             0.1111111111111111,
             "#46039f"
            ],
            [
             0.2222222222222222,
             "#7201a8"
            ],
            [
             0.3333333333333333,
             "#9c179e"
            ],
            [
             0.4444444444444444,
             "#bd3786"
            ],
            [
             0.5555555555555556,
             "#d8576b"
            ],
            [
             0.6666666666666666,
             "#ed7953"
            ],
            [
             0.7777777777777778,
             "#fb9f3a"
            ],
            [
             0.8888888888888888,
             "#fdca26"
            ],
            [
             1,
             "#f0f921"
            ]
           ]
          },
          "colorway": [
           "#636efa",
           "#EF553B",
           "#00cc96",
           "#ab63fa",
           "#FFA15A",
           "#19d3f3",
           "#FF6692",
           "#B6E880",
           "#FF97FF",
           "#FECB52"
          ],
          "font": {
           "color": "#2a3f5f"
          },
          "geo": {
           "bgcolor": "white",
           "lakecolor": "white",
           "landcolor": "#E5ECF6",
           "showlakes": true,
           "showland": true,
           "subunitcolor": "white"
          },
          "hoverlabel": {
           "align": "left"
          },
          "hovermode": "closest",
          "mapbox": {
           "style": "light"
          },
          "paper_bgcolor": "white",
          "plot_bgcolor": "#E5ECF6",
          "polar": {
           "angularaxis": {
            "gridcolor": "white",
            "linecolor": "white",
            "ticks": ""
           },
           "bgcolor": "#E5ECF6",
           "radialaxis": {
            "gridcolor": "white",
            "linecolor": "white",
            "ticks": ""
           }
          },
          "scene": {
           "xaxis": {
            "backgroundcolor": "#E5ECF6",
            "gridcolor": "white",
            "gridwidth": 2,
            "linecolor": "white",
            "showbackground": true,
            "ticks": "",
            "zerolinecolor": "white"
           },
           "yaxis": {
            "backgroundcolor": "#E5ECF6",
            "gridcolor": "white",
            "gridwidth": 2,
            "linecolor": "white",
            "showbackground": true,
            "ticks": "",
            "zerolinecolor": "white"
           },
           "zaxis": {
            "backgroundcolor": "#E5ECF6",
            "gridcolor": "white",
            "gridwidth": 2,
            "linecolor": "white",
            "showbackground": true,
            "ticks": "",
            "zerolinecolor": "white"
           }
          },
          "shapedefaults": {
           "line": {
            "color": "#2a3f5f"
           }
          },
          "ternary": {
           "aaxis": {
            "gridcolor": "white",
            "linecolor": "white",
            "ticks": ""
           },
           "baxis": {
            "gridcolor": "white",
            "linecolor": "white",
            "ticks": ""
           },
           "bgcolor": "#E5ECF6",
           "caxis": {
            "gridcolor": "white",
            "linecolor": "white",
            "ticks": ""
           }
          },
          "title": {
           "x": 0.05
          },
          "xaxis": {
           "automargin": true,
           "gridcolor": "white",
           "linecolor": "white",
           "ticks": "",
           "title": {
            "standoff": 15
           },
           "zerolinecolor": "white",
           "zerolinewidth": 2
          },
          "yaxis": {
           "automargin": true,
           "gridcolor": "white",
           "linecolor": "white",
           "ticks": "",
           "title": {
            "standoff": 15
           },
           "zerolinecolor": "white",
           "zerolinewidth": 2
          }
         }
        },
        "title": {
         "text": "Cumulative reward in function of time "
        },
        "xaxis": {
         "title": {
          "text": "week"
         }
        },
        "yaxis": {
         "title": {
          "text": "cumulative reward"
         }
        }
       }
      }
     },
     "metadata": {},
     "output_type": "display_data"
    },
    {
     "data": {
      "text/plain": [
       "'\\nplt.figure(figsize=(10,5))\\nplt.plot(C,label=\"Uniform\")\\nplt.plot(C1,label=\"Constant\")\\nplt.plot(C2,label=\"Threshold\")\\nplt.legend()\\nplt.title(\"Cumulative reward\")\\nplt.xlabel(\"time\")\\nplt.ylabel(\"cumulative reward\")\\nplt.show()\\n'"
      ]
     },
     "execution_count": 9,
     "metadata": {},
     "output_type": "execute_result"
    }
   ],
   "source": [
    "import plotly.graph_objects as go\n",
    "T = int(np.log(1/(0.001*(1-gamma)))/np.log(1/gamma)) # truncation of the infinite sum\n",
    "\n",
    "\n",
    "S,R=SimulateTrajectory(T,PiUniform,s1)\n",
    "S1,R1=SimulateTrajectory(T,PiConstant,s1)\n",
    "S2,R2=SimulateTrajectory(T,PiThreshold,s1)\n",
    "\n",
    "C=[R[0]]\n",
    "C1=[R1[0]]\n",
    "C2=[R2[0]]\n",
    "for t in range(1,T):\n",
    "    C.append(C[-1]+R[t]*gamma**t)\n",
    "    C1.append(C1[-1]+R1[t]*gamma**t)\n",
    "    C2.append(C2[-1]+R2[t]*gamma**t)\n",
    "\n",
    "fig=go.Figure()\n",
    "fig.add_trace(go.Scatter(x=list(range(T)),y=C,name=\"Uniform\"))\n",
    "fig.add_trace(go.Scatter(x=list(range(T)),y=C1,name=\"Constant\"))\n",
    "fig.add_trace(go.Scatter(x=list(range(T)),y=C2,name=\"Threshold\"))\n",
    "fig.update_layout(title=\"Cumulative reward in function of time \",xaxis_title=\"week\",yaxis_title=\"cumulative reward\")\n",
    "fig.show()\n",
    "\n",
    "\"\"\"\n",
    "plt.figure(figsize=(10,5))\n",
    "plt.plot(C,label=\"Uniform\")\n",
    "plt.plot(C1,label=\"Constant\")\n",
    "plt.plot(C2,label=\"Threshold\")\n",
    "plt.legend()\n",
    "plt.title(\"Cumulative reward\")\n",
    "plt.xlabel(\"time\")\n",
    "plt.ylabel(\"cumulative reward\")\n",
    "plt.show()\n",
    "\"\"\""
   ]
  },
  {
   "cell_type": "markdown",
   "metadata": {},
   "source": [
    "The three policies oscillate a bit at the beginning and then stabilize around the 100th step; they finally converge to different values.\n",
    "\n",
    " Using the uniform policy, the cumulative reward tends towards about -42. Using the constant policy, the cumulative reward tends towards about 37. (rerunning the cell will change those values)\n",
    " \n",
    " Using the threshold policy, the cumulative reward tends towards about -40. The optimal policy is the one that maximizes the reward, so to say, we will rather use the threshold one."
   ]
  },
  {
   "cell_type": "markdown",
   "metadata": {},
   "source": [
    "### Evolution of the stock"
   ]
  },
  {
   "cell_type": "code",
   "execution_count": 10,
   "metadata": {},
   "outputs": [
    {
     "data": {
      "text/plain": [
       "Text(0.5, 1.0, 'Evolution of the stock under a threshold policy')"
      ]
     },
     "execution_count": 10,
     "metadata": {},
     "output_type": "execute_result"
    },
    {
     "data": {
      "image/png": "[encoded data removed]",
      "text/plain": [
       "<Figure size 640x480 with 1 Axes>"
      ]
     },
     "metadata": {},
     "output_type": "display_data"
    }
   ],
   "source": [
    "\n",
    "plt.figure()\n",
    "plt.plot(S2[range(100)])\n",
    "plt.xlabel('weeks')\n",
    "plt.ylabel('stock')\n",
    "plt.title('Evolution of the stock under a threshold policy')"
   ]
  },
  {
   "cell_type": "markdown",
   "metadata": {},
   "source": [
    "The stock never exceeds 10 to limit the maintenance costs which is really nice knowing that it could go up to 15.\n",
    "The stock goes to 0 multiple times, it could mean that we didn't stock enough bikes to satisfy the demand, but also that we had just enough of them so it is difficult to conclude without more information.\n",
    "From an external and somewhat superficial perspective, this stock management appears quite effective."
   ]
  },
  {
   "cell_type": "markdown",
   "metadata": {},
   "source": [
    "# Dynamic Programming\n",
    "\n",
    "So far, when doing simulations, we just interacted with the environements with calls to the \"step\" functions (which boils down to simulating the demand each week). However, we assume that all the parameters (including the demand distribution itself, paramterized by $q$) are known, we can evaluate policies, and compute the optimal policy using the knowledge of the MDP parameters (encoded in env.P and env.r)."
   ]
  },
  {
   "cell_type": "code",
   "execution_count": 11,
   "metadata": {},
   "outputs": [],
   "source": [
    "env = StoreManagement(0,M=15,h=0.3,c=0.5,c0=0.3,p=1,q=0.1)\n",
    "\n",
    "# MDP parameters\n",
    "P = env.P # P[s,a,s'] = p(s' | s,a) \n",
    "r = env.r # r[s,a] = average reward received in state s when playing action a"
   ]
  },
  {
   "cell_type": "markdown",
   "metadata": {},
   "source": [
    "## Evaluation of deterministic policies\n",
    "\n",
    "**Evalute a policy of your choice using Monte-Carlo simulation, i.e. compute the value of this policy in all states.** \n",
    "\n",
    "In a Monte-Carlo simulation to estimate the value of $V^\\pi(s)$, we collect `MC` values for the sum of discounted rewards over long enough trajectories starting at $s$, then compute the mean of these `MC` values.\n",
    "We need to compute trajectories from *all* states.\n",
    "\n",
    "Observe that we do *not* need the knowledge of $P$ and $r$ for this method, simulating trajectories is enough."
   ]
  },
  {
   "cell_type": "code",
   "execution_count": 12,
   "metadata": {},
   "outputs": [
    {
     "name": "stdout",
     "output_type": "stream",
     "text": [
      "the estimated value in each states for the threshold policy are:\n",
      "[50.86118145 49.9097344  49.13113859 50.26818171 47.98688867 48.7323717\n",
      " 49.58033089 48.91481904 50.57586767 48.92946378 52.29579192 50.33244225\n",
      " 50.09503317 49.90288822 51.13205268 49.20287195]\n"
     ]
    }
   ],
   "source": [
    "## Computes the values in each state by Monte-Carlo simulation (needs many simulations to be precise)\n",
    "\n",
    "Policy = PiThreshold\n",
    "\n",
    "MC = 100 # number of Monte-Carlo simulations\n",
    "Values = np.zeros(M+1)\n",
    "\n",
    "for s in range(M+1):\n",
    "    for m in range(MC):\n",
    "        # simulate a trajectory starting from state s\n",
    "        S,R = SimulateTrajectory(T,Policy,s)\n",
    "        # compute the discounted cumulative reward\n",
    "        Values[s] += np.sum([R[t]*gamma**t for t in range(T)])\n",
    "    Values[s] = Values[s]/MC\n",
    "print(\"the estimated value in each states for the threshold policy are:\")\n",
    "\n",
    "print(Values)\n",
    "    "
   ]
  },
  {
   "cell_type": "markdown",
   "metadata": {},
   "source": [
    "**Implement a function that evaluates a deterministic policy Pi using the matrix inversion technique. Compare the output with the previous method for the same policy.**\n",
    "\n",
    "Unlike the previous evaluation method, this one requires the knowledge of $P$ and $r$. "
   ]
  },
  {
   "cell_type": "code",
   "execution_count": 13,
   "metadata": {},
   "outputs": [
    {
     "name": "stdout",
     "output_type": "stream",
     "text": [
      "[[56.47937829]\n",
      " [56.6321602 ]\n",
      " [56.74736233]\n",
      " [56.82080914]\n",
      " [56.84786114]\n",
      " [56.97058694]\n",
      " [57.20202794]\n",
      " [57.38032484]\n",
      " [57.51079205]\n",
      " [57.59821254]\n",
      " [57.64689098]\n",
      " [57.66070158]\n",
      " [57.64313111]\n",
      " [57.5973177 ]\n",
      " [57.52608562]\n",
      " [57.43197675]]\n"
     ]
    }
   ],
   "source": [
    "def EvaluatePolicy(Pi):\n",
    "    P2=np.zeros((M+1,M+1))\n",
    "    \n",
    "    R2=np.zeros((M+1,1))\n",
    "    for s in range(M+1):\n",
    "        for ns in range(M+1):\n",
    "            if ns==Pi(s):\n",
    "                P2[s,ns]=1\n",
    "        R2[s]=env.r[s, Pi(s)]\n",
    "            \n",
    "    X=np.eye(M+1)-gamma*P2\n",
    "\n",
    "    Values = np.linalg.inv(X).dot(R2)\n",
    "            \n",
    "\n",
    "    return Values\n",
    "    \n",
    "Policy = PiThreshold\n",
    "Values = EvaluatePolicy(Policy)\n",
    "\n",
    "print(Values)\n",
    "    "
   ]
  },
  {
   "cell_type": "markdown",
   "metadata": {},
   "source": [
    "**Evaluate two different policies and visualize their values for the different states in order to decide which one is better.** "
   ]
  },
  {
   "cell_type": "code",
   "execution_count": 14,
   "metadata": {},
   "outputs": [
    {
     "data": {
      "application/vnd.plotly.v1+json": {
       "config": {
        "plotlyServerURL": "https://plot.ly"
       },
       "data": [
        {
         "name": "Threshold",
         "type": "scatter",
         "x": [
          0,
          1,
          2,
          3,
          4,
          5,
          6,
          7,
          8,
          9,
          10,
          11,
          12,
          13,
          14,
          15
         ],
         "y": [
          56.479378291488935,
          56.63216020459193,
          56.74736233026193,
          56.820809136561934,
          56.84786114356193,
          56.97058694274426,
          57.202027942744266,
          57.380324842744265,
          57.510792052744264,
          57.59821254174427,
          57.646890981844265,
          57.66070157793426,
          57.64313111441526,
          57.597317697248165,
          57.526085621797776,
          57.43197675389242
         ]
        },
        {
         "name": "Constant",
         "type": "scatter",
         "x": [
          0,
          1,
          2,
          3,
          4,
          5,
          6,
          7,
          8,
          9,
          10,
          11,
          12,
          13,
          14,
          15
         ],
         "y": [
          49.689668999999945,
          50.04576899999994,
          50.33625899999994,
          50.567699999999945,
          50.745996899999945,
          50.876464109999944,
          50.96388459899994,
          51.012563039099945,
          51.02637363518994,
          51.00880317167094,
          50.96298975450384,
          50.89175767905345,
          50.7976488111481,
          50.7731510411481,
          50.6913757411481,
          50.8459587411481
         ]
        }
       ],
       "layout": {
        "template": {
         "data": {
          "bar": [
           {
            "error_x": {
             "color": "#2a3f5f"
            },
            "error_y": {
             "color": "#2a3f5f"
            },
            "marker": {
             "line": {
              "color": "#E5ECF6",
              "width": 0.5
             },
             "pattern": {
              "fillmode": "overlay",
              "size": 10,
              "solidity": 0.2
             }
            },
            "type": "bar"
           }
          ],
          "barpolar": [
           {
            "marker": {
             "line": {
              "color": "#E5ECF6",
              "width": 0.5
             },
             "pattern": {
              "fillmode": "overlay",
              "size": 10,
              "solidity": 0.2
             }
            },
            "type": "barpolar"
           }
          ],
          "carpet": [
           {
            "aaxis": {
             "endlinecolor": "#2a3f5f",
             "gridcolor": "white",
             "linecolor": "white",
             "minorgridcolor": "white",
             "startlinecolor": "#2a3f5f"
            },
            "baxis": {
             "endlinecolor": "#2a3f5f",
             "gridcolor": "white",
             "linecolor": "white",
             "minorgridcolor": "white",
             "startlinecolor": "#2a3f5f"
            },
            "type": "carpet"
           }
          ],
          "choropleth": [
           {
            "colorbar": {
             "outlinewidth": 0,
             "ticks": ""
            },
            "type": "choropleth"
           }
          ],
          "contour": [
           {
            "colorbar": {
             "outlinewidth": 0,
             "ticks": ""
            },
            "colorscale": [
             [
              0,
              "#0d0887"
             ],
             [
              0.1111111111111111,
              "#46039f"
             ],
             [
              0.2222222222222222,
              "#7201a8"
             ],
             [
              0.3333333333333333,
              "#9c179e"
             ],
             [
              0.4444444444444444,
              "#bd3786"
             ],
             [
              0.5555555555555556,
              "#d8576b"
             ],
             [
              0.6666666666666666,
              "#ed7953"
             ],
             [
              0.7777777777777778,
              "#fb9f3a"
             ],
             [
              0.8888888888888888,
              "#fdca26"
             ],
             [
              1,
              "#f0f921"
             ]
            ],
            "type": "contour"
           }
          ],
          "contourcarpet": [
           {
            "colorbar": {
             "outlinewidth": 0,
             "ticks": ""
            },
            "type": "contourcarpet"
           }
          ],
          "heatmap": [
           {
            "colorbar": {
             "outlinewidth": 0,
             "ticks": ""
            },
            "colorscale": [
             [
              0,
              "#0d0887"
             ],
             [
              0.1111111111111111,
              "#46039f"
             ],
             [
              0.2222222222222222,
              "#7201a8"
             ],
             [
              0.3333333333333333,
              "#9c179e"
             ],
             [
              0.4444444444444444,
              "#bd3786"
             ],
             [
              0.5555555555555556,
              "#d8576b"
             ],
             [
              0.6666666666666666,
              "#ed7953"
             ],
             [
              0.7777777777777778,
              "#fb9f3a"
             ],
             [
              0.8888888888888888,
              "#fdca26"
             ],
             [
              1,
              "#f0f921"
             ]
            ],
            "type": "heatmap"
           }
          ],
          "heatmapgl": [
           {
            "colorbar": {
             "outlinewidth": 0,
             "ticks": ""
            },
            "colorscale": [
             [
              0,
              "#0d0887"
             ],
             [
              0.1111111111111111,
              "#46039f"
             ],
             [
              0.2222222222222222,
              "#7201a8"
             ],
             [
              0.3333333333333333,
              "#9c179e"
             ],
             [
              0.4444444444444444,
              "#bd3786"
             ],
             [
              0.5555555555555556,
              "#d8576b"
             ],
             [
              0.6666666666666666,
              "#ed7953"
             ],
             [
              0.7777777777777778,
              "#fb9f3a"
             ],
             [
              0.8888888888888888,
              "#fdca26"
             ],
             [
              1,
              "#f0f921"
             ]
            ],
            "type": "heatmapgl"
           }
          ],
          "histogram": [
           {
            "marker": {
             "pattern": {
              "fillmode": "overlay",
              "size": 10,
              "solidity": 0.2
             }
            },
            "type": "histogram"
           }
          ],
          "histogram2d": [
           {
            "colorbar": {
             "outlinewidth": 0,
             "ticks": ""
            },
            "colorscale": [
             [
              0,
              "#0d0887"
             ],
             [
              0.1111111111111111,
              "#46039f"
             ],
             [
              0.2222222222222222,
              "#7201a8"
             ],
             [
              0.3333333333333333,
              "#9c179e"
             ],
             [
              0.4444444444444444,
              "#bd3786"
             ],
             [
              0.5555555555555556,
              "#d8576b"
             ],
             [
              0.6666666666666666,
              "#ed7953"
             ],
             [
              0.7777777777777778,
              "#fb9f3a"
             ],
             [
              0.8888888888888888,
              "#fdca26"
             ],
             [
              1,
              "#f0f921"
             ]
            ],
            "type": "histogram2d"
           }
          ],
          "histogram2dcontour": [
           {
            "colorbar": {
             "outlinewidth": 0,
             "ticks": ""
            },
            "colorscale": [
             [
              0,
              "#0d0887"
             ],
             [
              0.1111111111111111,
              "#46039f"
             ],
             [
              0.2222222222222222,
              "#7201a8"
             ],
             [
              0.3333333333333333,
              "#9c179e"
             ],
             [
              0.4444444444444444,
              "#bd3786"
             ],
             [
              0.5555555555555556,
              "#d8576b"
             ],
             [
              0.6666666666666666,
              "#ed7953"
             ],
             [
              0.7777777777777778,
              "#fb9f3a"
             ],
             [
              0.8888888888888888,
              "#fdca26"
             ],
             [
              1,
              "#f0f921"
             ]
            ],
            "type": "histogram2dcontour"
           }
          ],
          "mesh3d": [
           {
            "colorbar": {
             "outlinewidth": 0,
             "ticks": ""
            },
            "type": "mesh3d"
           }
          ],
          "parcoords": [
           {
            "line": {
             "colorbar": {
              "outlinewidth": 0,
              "ticks": ""
             }
            },
            "type": "parcoords"
           }
          ],
          "pie": [
           {
            "automargin": true,
            "type": "pie"
           }
          ],
          "scatter": [
           {
            "fillpattern": {
             "fillmode": "overlay",
             "size": 10,
             "solidity": 0.2
            },
            "type": "scatter"
           }
          ],
          "scatter3d": [
           {
            "line": {
             "colorbar": {
              "outlinewidth": 0,
              "ticks": ""
             }
            },
            "marker": {
             "colorbar": {
              "outlinewidth": 0,
              "ticks": ""
             }
            },
            "type": "scatter3d"
           }
          ],
          "scattercarpet": [
           {
            "marker": {
             "colorbar": {
              "outlinewidth": 0,
              "ticks": ""
             }
            },
            "type": "scattercarpet"
           }
          ],
          "scattergeo": [
           {
            "marker": {
             "colorbar": {
              "outlinewidth": 0,
              "ticks": ""
             }
            },
            "type": "scattergeo"
           }
          ],
          "scattergl": [
           {
            "marker": {
             "colorbar": {
              "outlinewidth": 0,
              "ticks": ""
             }
            },
            "type": "scattergl"
           }
          ],
          "scattermapbox": [
           {
            "marker": {
             "colorbar": {
              "outlinewidth": 0,
              "ticks": ""
             }
            },
            "type": "scattermapbox"
           }
          ],
          "scatterpolar": [
           {
            "marker": {
             "colorbar": {
              "outlinewidth": 0,
              "ticks": ""
             }
            },
            "type": "scatterpolar"
           }
          ],
          "scatterpolargl": [
           {
            "marker": {
             "colorbar": {
              "outlinewidth": 0,
              "ticks": ""
             }
            },
            "type": "scatterpolargl"
           }
          ],
          "scatterternary": [
           {
            "marker": {
             "colorbar": {
              "outlinewidth": 0,
              "ticks": ""
             }
            },
            "type": "scatterternary"
           }
          ],
          "surface": [
           {
            "colorbar": {
             "outlinewidth": 0,
             "ticks": ""
            },
            "colorscale": [
             [
              0,
              "#0d0887"
             ],
             [
              0.1111111111111111,
              "#46039f"
             ],
             [
              0.2222222222222222,
              "#7201a8"
             ],
             [
              0.3333333333333333,
              "#9c179e"
             ],
             [
              0.4444444444444444,
              "#bd3786"
             ],
             [
              0.5555555555555556,
              "#d8576b"
             ],
             [
              0.6666666666666666,
              "#ed7953"
             ],
             [
              0.7777777777777778,
              "#fb9f3a"
             ],
             [
              0.8888888888888888,
              "#fdca26"
             ],
             [
              1,
              "#f0f921"
             ]
            ],
            "type": "surface"
           }
          ],
          "table": [
           {
            "cells": {
             "fill": {
              "color": "#EBF0F8"
             },
             "line": {
              "color": "white"
             }
            },
            "header": {
             "fill": {
              "color": "#C8D4E3"
             },
             "line": {
              "color": "white"
             }
            },
            "type": "table"
           }
          ]
         },
         "layout": {
          "annotationdefaults": {
           "arrowcolor": "#2a3f5f",
           "arrowhead": 0,
           "arrowwidth": 1
          },
          "autotypenumbers": "strict",
          "coloraxis": {
           "colorbar": {
            "outlinewidth": 0,
            "ticks": ""
           }
          },
          "colorscale": {
           "diverging": [
            [
             0,
             "#8e0152"
            ],
            [
             0.1,
             "#c51b7d"
            ],
            [
             0.2,
             "#de77ae"
            ],
            [
             0.3,
             "#f1b6da"
            ],
            [
             0.4,
             "#fde0ef"
            ],
            [
             0.5,
             "#f7f7f7"
            ],
            [
             0.6,
             "#e6f5d0"
            ],
            [
             0.7,
             "#b8e186"
            ],
            [
             0.8,
             "#7fbc41"
            ],
            [
             0.9,
             "#4d9221"
            ],
            [
             1,
             "#276419"
            ]
           ],
           "sequential": [
            [
             0,
             "#0d0887"
            ],
            [
             0.1111111111111111,
             "#46039f"
            ],
            [
             0.2222222222222222,
             "#7201a8"
            ],
            [
             0.3333333333333333,
             "#9c179e"
            ],
            [
             0.4444444444444444,
             "#bd3786"
            ],
            [
             0.5555555555555556,
             "#d8576b"
            ],
            [
             0.6666666666666666,
             "#ed7953"
            ],
            [
             0.7777777777777778,
             "#fb9f3a"
            ],
            [
             0.8888888888888888,
             "#fdca26"
            ],
            [
             1,
             "#f0f921"
            ]
           ],
           "sequentialminus": [
            [
             0,
             "#0d0887"
            ],
            [
             0.1111111111111111,
             "#46039f"
            ],
            [
             0.2222222222222222,
             "#7201a8"
            ],
            [
             0.3333333333333333,
             "#9c179e"
            ],
            [
             0.4444444444444444,
             "#bd3786"
            ],
            [
             0.5555555555555556,
             "#d8576b"
            ],
            [
             0.6666666666666666,
             "#ed7953"
            ],
            [
             0.7777777777777778,
             "#fb9f3a"
            ],
            [
             0.8888888888888888,
             "#fdca26"
            ],
            [
             1,
             "#f0f921"
            ]
           ]
          },
          "colorway": [
           "#636efa",
           "#EF553B",
           "#00cc96",
           "#ab63fa",
           "#FFA15A",
           "#19d3f3",
           "#FF6692",
           "#B6E880",
           "#FF97FF",
           "#FECB52"
          ],
          "font": {
           "color": "#2a3f5f"
          },
          "geo": {
           "bgcolor": "white",
           "lakecolor": "white",
           "landcolor": "#E5ECF6",
           "showlakes": true,
           "showland": true,
           "subunitcolor": "white"
          },
          "hoverlabel": {
           "align": "left"
          },
          "hovermode": "closest",
          "mapbox": {
           "style": "light"
          },
          "paper_bgcolor": "white",
          "plot_bgcolor": "#E5ECF6",
          "polar": {
           "angularaxis": {
            "gridcolor": "white",
            "linecolor": "white",
            "ticks": ""
           },
           "bgcolor": "#E5ECF6",
           "radialaxis": {
            "gridcolor": "white",
            "linecolor": "white",
            "ticks": ""
           }
          },
          "scene": {
           "xaxis": {
            "backgroundcolor": "#E5ECF6",
            "gridcolor": "white",
            "gridwidth": 2,
            "linecolor": "white",
            "showbackground": true,
            "ticks": "",
            "zerolinecolor": "white"
           },
           "yaxis": {
            "backgroundcolor": "#E5ECF6",
            "gridcolor": "white",
            "gridwidth": 2,
            "linecolor": "white",
            "showbackground": true,
            "ticks": "",
            "zerolinecolor": "white"
           },
           "zaxis": {
            "backgroundcolor": "#E5ECF6",
            "gridcolor": "white",
            "gridwidth": 2,
            "linecolor": "white",
            "showbackground": true,
            "ticks": "",
            "zerolinecolor": "white"
           }
          },
          "shapedefaults": {
           "line": {
            "color": "#2a3f5f"
           }
          },
          "ternary": {
           "aaxis": {
            "gridcolor": "white",
            "linecolor": "white",
            "ticks": ""
           },
           "baxis": {
            "gridcolor": "white",
            "linecolor": "white",
            "ticks": ""
           },
           "bgcolor": "#E5ECF6",
           "caxis": {
            "gridcolor": "white",
            "linecolor": "white",
            "ticks": ""
           }
          },
          "title": {
           "x": 0.05
          },
          "xaxis": {
           "automargin": true,
           "gridcolor": "white",
           "linecolor": "white",
           "ticks": "",
           "title": {
            "standoff": 15
           },
           "zerolinecolor": "white",
           "zerolinewidth": 2
          },
          "yaxis": {
           "automargin": true,
           "gridcolor": "white",
           "linecolor": "white",
           "ticks": "",
           "title": {
            "standoff": 15
           },
           "zerolinecolor": "white",
           "zerolinewidth": 2
          }
         }
        },
        "title": {
         "text": "Value function"
        },
        "xaxis": {
         "title": {
          "text": "state"
         }
        },
        "yaxis": {
         "title": {
          "text": "value"
         }
        }
       }
      }
     },
     "metadata": {},
     "output_type": "display_data"
    }
   ],
   "source": [
    "policy1=PiThreshold\n",
    "policy2=PiConstant\n",
    "values1=EvaluatePolicy(policy1)\n",
    "values2=EvaluatePolicy(policy2)\n",
    "\"\"\"\n",
    "plt.figure(figsize=(10,5))\n",
    "plt.plot(values1,label=\"Threshold\")\n",
    "plt.plot(values2,label=\"Constant\")\n",
    "plt.legend()\n",
    "plt.xlabel(\"state\")\n",
    "plt.ylabel(\"value\")\n",
    "plt.show()\n",
    "\"\"\"\n",
    "X=list(range(M+1))\n",
    "fig=go.Figure()\n",
    "fig.add_trace(go.Scatter(x=X,y=values1[:,0],name=\"Threshold\"))\n",
    "fig.add_trace(go.Scatter(x=X,y=values2[:,0],name=\"Constant\"))\n",
    "fig.update_layout(title=\"Value function\",xaxis_title=\"state\",yaxis_title=\"value\")\n",
    "fig.show()"
   ]
  },
  {
   "cell_type": "markdown",
   "metadata": {},
   "source": [
    "We can see that using the threshold policy, the value of the states is higher than using the constant policy for all the states. Therefore the threshold policy is better than the uniform one.\n",
    "We didn't use the uniform policy because it gives out some really bad values that crush the scale of the graph."
   ]
  },
  {
   "cell_type": "markdown",
   "metadata": {},
   "source": [
    "## Computing the Optimal Policy: Policy Iteration \n",
    "\n",
    "The function given below performs policy improvement, and may be useful to implement both value iteration and policy iteration. Note that the (deterministic) policy it outputs is encoded as a vector, not a function. \n"
   ]
  },
  {
   "cell_type": "code",
   "execution_count": 15,
   "metadata": {},
   "outputs": [
    {
     "name": "stdout",
     "output_type": "stream",
     "text": [
      "improved policy from random: [0 0 0 0 0 0 0 2 1 0 2 0 0 0 0 0]\n"
     ]
    }
   ],
   "source": [
    "# policy improvement\n",
    "def Improve(V):\n",
    "    '''computes the Q table associated to V and \n",
    "    return Pi=greedy(V)=greedy(Q) as well as max_{a} Q[s,a]'''\n",
    "    Pi = np.zeros(M+1) # improved policy \n",
    "    newV = np.zeros(M+1)\n",
    "    # compute the Q table \n",
    "    Q = np.zeros((M+1,M+1))\n",
    "    for s in range(M+1):\n",
    "        for a in range(M+1):\n",
    "            Q[s,a]=r[s,a]+gamma*np.sum([P[s,a,ns]*V[ns] for ns in range(M+1)])\n",
    "        # improvement (greedy policy wrt to Q)\n",
    "        pi = np.argmax(Q[s,:])\n",
    "        Pi[s]=pi\n",
    "        newV[s]=Q[s,pi]\n",
    "        Pi=Pi.astype(int)\n",
    "    return Pi,newV\n",
    "\n",
    "\n",
    "V = np.random.randint(M+1,size=M+1) \n",
    "newPi,newV = Improve(V)\n",
    "print(\"improved policy from random:\",newPi)"
   ]
  },
  {
   "cell_type": "markdown",
   "metadata": {},
   "source": [
    "**Implement Value Iteration and Policy Iteration.**\n",
    "\n",
    "First, check that the two algorithms output the same optimal policy. Then, you may compare the number of iteration needed by both algorithms as well as the executation time. "
   ]
  },
  {
   "cell_type": "code",
   "execution_count": 16,
   "metadata": {},
   "outputs": [],
   "source": [
    "def ValueIteration(epsilon=1e-3):\n",
    "    '''returns the optimal value function and the optimal policy'''\n",
    "    V = np.zeros(M+1)\n",
    "    nIt = 0\n",
    "    while True:\n",
    "        nIt += 1\n",
    "        Pi,newV = Improve(V)\n",
    "        if (np.max(np.abs(newV-V))<epsilon):\n",
    "            break\n",
    "        V = newV\n",
    "    return Pi,newV,nIt\n"
   ]
  },
  {
   "cell_type": "code",
   "execution_count": 17,
   "metadata": {},
   "outputs": [],
   "source": [
    "def PolicyIteration():\n",
    "    Values=np.zeros(M+1)\n",
    "    nIt=0\n",
    "    while True:\n",
    "        nIt+=1\n",
    "        new_pi,newValues=Improve(Values)\n",
    "        if np.all(Values==newValues):\n",
    "            break\n",
    "        Values=newValues\n",
    "\n",
    "    \n",
    "    return new_pi,Values,nIt\n"
   ]
  },
  {
   "cell_type": "code",
   "execution_count": 18,
   "metadata": {},
   "outputs": [
    {
     "name": "stdout",
     "output_type": "stream",
     "text": [
      "Value iteration yields policy [9 8 7 6 5 4 0 0 0 0 0 0 0 0 0 0] and value  [48.83663374 49.03663374 49.23663374 49.43663374 49.63663374 49.83663374\n",
      " 50.1439058  50.44232457 50.70652933 50.93663374 51.13275109 51.2949943\n",
      " 51.4234759  51.51830806 51.57960257 51.60747086]  in  241  iterations and t= 0.8128178119659424  seconds\n",
      "\n",
      "Optimal policy is [9 8 7 6 5 4 0 0 0 0 0 0 0 0 0 0] with value  [48.86867719 49.06867719 49.26867719 49.46867719 49.66867719 49.86867719\n",
      " 50.17594925 50.47436803 50.73857278 50.96867719 51.16479455 51.32703775\n",
      " 51.45551935 51.55035152 51.61164603 51.63951432]  in  1078  iterations and t= 3.4892659187316895  seconds\n"
     ]
    }
   ],
   "source": [
    "\n",
    "start = time.time()\n",
    "Pi,V,nIt = ValueIteration()\n",
    "elapsed = time.time()-start\n",
    "\n",
    "start = time.time()\n",
    "Pi2,V2,nIt2 = PolicyIteration()\n",
    "elapsed2 = time.time()-start\n",
    "\n",
    "print(\"Value iteration yields policy\",Pi,\"and value \",V,\" in \",nIt,\" iterations and t=\",elapsed,\" seconds\\n\")\n",
    "print(\"Optimal policy is\",Pi2,\"with value \",V2,\" in \",nIt2,\" iterations and t=\",elapsed2,\" seconds\")\n"
   ]
  },
  {
   "cell_type": "markdown",
   "metadata": {},
   "source": [
    ">We get exactly the same optimal policy with the two methods. The value iteration methods is much faster, it needs about 4.5 times less iterations and less seconds to complete."
   ]
  },
  {
   "cell_type": "markdown",
   "metadata": {},
   "source": [
    "Here is a visualization of the optimal policy. "
   ]
  },
  {
   "cell_type": "code",
   "execution_count": 19,
   "metadata": {},
   "outputs": [
    {
     "data": {
      "image/png": "[encoded data removed]",
      "text/plain": [
       "<Figure size 640x480 with 1 Axes>"
      ]
     },
     "metadata": {},
     "output_type": "display_data"
    },
    {
     "data": {
      "image/png": "[encoded data removed]",
      "text/plain": [
       "<Figure size 640x480 with 1 Axes>"
      ]
     },
     "metadata": {},
     "output_type": "display_data"
    }
   ],
   "source": [
    "plt.plot(Pi2)\n",
    "plt.xlabel('stock')\n",
    "plt.ylabel('order under the optimal policy')\n",
    "plt.title(\"Optimal Policy\")\n",
    "\n",
    "plt.figure()\n",
    "plt.plot(V2)\n",
    "plt.xlabel('stock')\n",
    "plt.ylabel('value of the optimal policy')\n",
    "plt.title(\"Optimal Value\")\n",
    "\n",
    "Vstar=np.copy(V)"
   ]
  },
  {
   "cell_type": "markdown",
   "metadata": {},
   "source": [
    "According to the graph, the optimal policy has a threshold at 6 bikes in stock and an increasing number of bikes ordered as the stock decreases, it corresponds pretty well to what we expected."
   ]
  },
  {
   "cell_type": "code",
   "execution_count": null,
   "metadata": {},
   "outputs": [],
   "source": []
  }
 ],
 "metadata": {
  "kernelspec": {
   "display_name": "Python 3 (ipykernel)",
   "language": "python",
   "name": "python3"
  },
  "language_info": {
   "codemirror_mode": {
    "name": "ipython",
    "version": 3
   },
   "file_extension": ".py",
   "mimetype": "text/x-python",
   "name": "python",
   "nbconvert_exporter": "python",
   "pygments_lexer": "ipython3",
   "version": "3.9.13"
  }
 },
 "nbformat": 4,
 "nbformat_minor": 4
}
