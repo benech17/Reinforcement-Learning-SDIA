{
 "cells": [
  {
   "cell_type": "markdown",
   "metadata": {},
   "source": [
    "## Instructions\n",
    "\n",
    "- Follow the installation instructions in the readme file\n",
    "- Answer the questions in this notebook\n",
    "- Once your work is finished: restart the kernel, run all cells in order and check that the outputs are correct.\n",
    "- Send your completed notebook to `remy.degenne@inria.fr` with email title `SL_TP1_NAME1_NAME2` (or `SL_TP1_NAME` if you work alone).\n",
    "\n",
    "**Deadline: Friday, December 8, 11:59 CET**."
   ]
  },
  {
   "cell_type": "markdown",
   "metadata": {},
   "source": [
    "If you don't want to use a local installation, you can try Google Colab:\n",
    "\n",
    "<a target=\"_blank\" href=\"https://colab.research.google.com/github/RemyDegenne/remydegenne.github.io/blob/master/docs/SL_2023/StoreManagement.ipynb\">\n",
    "  <img src=\"https://colab.research.google.com/assets/colab-badge.svg\" alt=\"Open In Colab\"/>\n",
    "</a>"
   ]
  },
  {
   "cell_type": "code",
   "execution_count": 59,
   "metadata": {},
   "outputs": [],
   "source": [
    "# This cell is setting up google colab. Ignore it if you work locally.\n",
    "if 'google.colab' in str(get_ipython()):\n",
    "  print(\"Installing packages, please wait a few moments. Restart the runtime after the installation.\")\n",
    "  # install rlberry library\n",
    "  !pip install scipy rlberry"
   ]
  },
  {
   "cell_type": "code",
   "execution_count": 60,
   "metadata": {},
   "outputs": [
    {
     "name": "stdout",
     "output_type": "stream",
     "text": [
      "Defaulting to user installation because normal site-packages is not writeable\n",
      "Requirement already satisfied: scipy in c:\\programdata\\anaconda3\\lib\\site-packages (1.9.1)\n",
      "Requirement already satisfied: rlberry in c:\\users\\nicolas\\appdata\\roaming\\python\\python39\\site-packages (0.6.0)\n",
      "Requirement already satisfied: numpy<1.25.0,>=1.18.5 in c:\\programdata\\anaconda3\\lib\\site-packages (from scipy) (1.21.5)\n",
      "Requirement already satisfied: pyyaml in c:\\programdata\\anaconda3\\lib\\site-packages (from rlberry) (6.0)\n",
      "Requirement already satisfied: tqdm in c:\\programdata\\anaconda3\\lib\\site-packages (from rlberry) (4.64.1)\n",
      "Requirement already satisfied: pygame-ce in c:\\users\\nicolas\\appdata\\roaming\\python\\python39\\site-packages (from rlberry) (2.3.2)\n",
      "Requirement already satisfied: docopt in c:\\users\\nicolas\\appdata\\roaming\\python\\python39\\site-packages (from rlberry) (0.6.2)\n",
      "Requirement already satisfied: dill in c:\\users\\nicolas\\appdata\\roaming\\python\\python39\\site-packages (from rlberry) (0.3.6)\n",
      "Requirement already satisfied: pandas in c:\\programdata\\anaconda3\\lib\\site-packages (from rlberry) (1.4.4)\n",
      "Requirement already satisfied: gymnasium in c:\\users\\nicolas\\appdata\\roaming\\python\\python39\\site-packages (from rlberry) (0.29.1)\n",
      "Requirement already satisfied: seaborn in c:\\programdata\\anaconda3\\lib\\site-packages (from rlberry) (0.11.2)\n",
      "Requirement already satisfied: matplotlib in c:\\programdata\\anaconda3\\lib\\site-packages (from rlberry) (3.5.2)\n",
      "Requirement already satisfied: farama-notifications>=0.0.1 in c:\\users\\nicolas\\appdata\\roaming\\python\\python39\\site-packages (from gymnasium->rlberry) (0.0.4)\n",
      "Requirement already satisfied: cloudpickle>=1.2.0 in c:\\users\\nicolas\\appdata\\roaming\\python\\python39\\site-packages (from gymnasium->rlberry) (2.2.1)\n",
      "Requirement already satisfied: importlib-metadata>=4.8.0 in c:\\programdata\\anaconda3\\lib\\site-packages (from gymnasium->rlberry) (4.11.3)\n",
      "Requirement already satisfied: typing-extensions>=4.3.0 in c:\\users\\nicolas\\appdata\\roaming\\python\\python39\\site-packages (from gymnasium->rlberry) (4.7.1)\n",
      "Requirement already satisfied: packaging>=20.0 in c:\\programdata\\anaconda3\\lib\\site-packages (from matplotlib->rlberry) (21.3)\n",
      "Requirement already satisfied: cycler>=0.10 in c:\\programdata\\anaconda3\\lib\\site-packages (from matplotlib->rlberry) (0.11.0)\n",
      "Requirement already satisfied: kiwisolver>=1.0.1 in c:\\programdata\\anaconda3\\lib\\site-packages (from matplotlib->rlberry) (1.4.2)\n",
      "Requirement already satisfied: python-dateutil>=2.7 in c:\\programdata\\anaconda3\\lib\\site-packages (from matplotlib->rlberry) (2.8.2)\n",
      "Requirement already satisfied: pyparsing>=2.2.1 in c:\\programdata\\anaconda3\\lib\\site-packages (from matplotlib->rlberry) (3.0.9)\n",
      "Requirement already satisfied: pillow>=6.2.0 in c:\\programdata\\anaconda3\\lib\\site-packages (from matplotlib->rlberry) (9.2.0)\n",
      "Requirement already satisfied: fonttools>=4.22.0 in c:\\programdata\\anaconda3\\lib\\site-packages (from matplotlib->rlberry) (4.25.0)\n",
      "Requirement already satisfied: pytz>=2020.1 in c:\\programdata\\anaconda3\\lib\\site-packages (from pandas->rlberry) (2022.1)\n",
      "Requirement already satisfied: colorama in c:\\users\\nicolas\\appdata\\roaming\\python\\python39\\site-packages (from tqdm->rlberry) (0.4.6)\n",
      "Requirement already satisfied: zipp>=0.5 in c:\\programdata\\anaconda3\\lib\\site-packages (from importlib-metadata>=4.8.0->gymnasium->rlberry) (3.8.0)\n",
      "Requirement already satisfied: six>=1.5 in c:\\programdata\\anaconda3\\lib\\site-packages (from python-dateutil>=2.7->matplotlib->rlberry) (1.16.0)\n",
      "Defaulting to user installation because normal site-packages is not writeable\n",
      "Requirement already satisfied: gymnasium in c:\\users\\nicolas\\appdata\\roaming\\python\\python39\\site-packages (0.29.1)\n",
      "Requirement already satisfied: farama-notifications>=0.0.1 in c:\\users\\nicolas\\appdata\\roaming\\python\\python39\\site-packages (from gymnasium) (0.0.4)\n",
      "Requirement already satisfied: importlib-metadata>=4.8.0 in c:\\programdata\\anaconda3\\lib\\site-packages (from gymnasium) (4.11.3)\n",
      "Requirement already satisfied: numpy>=1.21.0 in c:\\programdata\\anaconda3\\lib\\site-packages (from gymnasium) (1.21.5)\n",
      "Requirement already satisfied: typing-extensions>=4.3.0 in c:\\users\\nicolas\\appdata\\roaming\\python\\python39\\site-packages (from gymnasium) (4.7.1)\n",
      "Requirement already satisfied: cloudpickle>=1.2.0 in c:\\users\\nicolas\\appdata\\roaming\\python\\python39\\site-packages (from gymnasium) (2.2.1)\n",
      "Requirement already satisfied: zipp>=0.5 in c:\\programdata\\anaconda3\\lib\\site-packages (from importlib-metadata>=4.8.0->gymnasium) (3.8.0)\n"
     ]
    }
   ],
   "source": [
    "!pip install scipy rlberry\n",
    "!pip install gymnasium"
   ]
  },
  {
   "cell_type": "markdown",
   "metadata": {},
   "source": [
    "## Store Management MDP\n",
    "\n",
    "You own a bike store. During week $t$, the (random) demand is $D_t$ units. \n",
    "On Monday morning you may choose to command $A_t$ additional units: they are delivered immediately before the shop opens. For each week:\n",
    "\n",
    "  * Maintenance cost: $h$ per unit in stock left from the previous week (no maintenance is needed for newly commanded items)\n",
    "  * Command cost: $c$ for each unit ordered + $c_0$ per command\n",
    "  * Sales profit: $p$ per unit sold\n",
    "  * Constraint: \n",
    "    - your warehouse has a maximal capacity of $M$ unit (any additionnal bike gets stolen)\n",
    "    - you cannot sell bikes that you don't have in stock\n",
    "\n",
    "\n",
    "* State: number of bikes in stock left from the last week => state space $\\mathcal{S} = \\{0,\\dots, M\\}$\n",
    "* Action: number of bikes commanded at the beginning of the week => action space $\\mathcal{A} = \\{0, \\dots ,M\\}$ \n",
    "* Reward = balance of the week: if you command $a_t$ bikes,\n",
    "$$r_t = -c_0 \\mathbb{1}_{(a_t >0)}- c \\times a_t - h\\times s_t + p \\times \\min(D_t, s_t+a_t, M)$$\n",
    "* Transitions: you end the week with the number of bikes $$s_{t+1} = \\max\\big(0, \\min(M, s_t + a_t)  - D_t \\big)$$ \n",
    "\n",
    "Our goal is to maximize the discounted sum of rewards, starting from an initial stock $s_1$, that is to find a policy whose value is \n",
    "$$V^*(s_1) = \\max_{\\pi}\\mathbb{E}_{\\pi}\\left[\\sum_{s=1}^{\\infty} \\gamma^{s-1}r_s \\right].$$"
   ]
  },
  {
   "cell_type": "code",
   "execution_count": 61,
   "metadata": {},
   "outputs": [],
   "source": [
    "import numpy as np\n",
    "import random as rd\n",
    "import gymnasium as gym\n",
    "from matplotlib import pyplot as plt\n",
    "import time "
   ]
  },
  {
   "cell_type": "markdown",
   "metadata": {},
   "source": [
    "### Problem parameters "
   ]
  },
  {
   "cell_type": "code",
   "execution_count": 62,
   "metadata": {},
   "outputs": [],
   "source": [
    "M = 15 # stock capacity\n",
    "h = 0.3 # maintenance cost (per unit)\n",
    "c = 0.5 # ordering cost (per unit)\n",
    "c0 = 0.3 # fix delivery cost per command\n",
    "p = 1 # selling price (per unit)"
   ]
  },
  {
   "cell_type": "markdown",
   "metadata": {},
   "source": [
    "### Specifying the demand distribution \n",
    "\n",
    "As an example of demand distribution, we choose a (truncated) geometric distribution, for which \n",
    "$$\\mathbb{P}(D_t = m) = q(1-q)^m \\ \\ \\forall m \\in \\{0,\\dots,M-1\\}$$\n",
    "and $\\mathbb{P}(D_t = M) = 1 - \\sum_{m=0}^{M-1}\\mathbb{P}(D_t = m)$. We provide below a function that simulate the demand. "
   ]
  },
  {
   "cell_type": "code",
   "execution_count": 63,
   "metadata": {},
   "outputs": [
    {
     "name": "stdout",
     "output_type": "stream",
     "text": [
      "the average demand is  7.1469798111481575\n",
      "a simulated demand is  11\n"
     ]
    }
   ],
   "source": [
    "# demand distribution (truncated geometric with parameter q)\n",
    "q = 0.1\n",
    "pdem = np.array([q*(1-q)**m for m in range(M+1)])\n",
    "pdem[M] = pdem[M]+1-np.sum(pdem)\n",
    "\n",
    "print(\"the average demand is \",np.sum([m*pdem[m] for m in range(M+1)]))\n",
    "\n",
    "def SimuDemand(pdem): \n",
    "    cpdem = np.cumsum(pdem)\n",
    "    i=0\n",
    "    u = rd.random()\n",
    "    while (u >cpdem[i]):\n",
    "        i = i+1\n",
    "    return i \n",
    "\n",
    "print(\"a simulated demand is \",SimuDemand(pdem))"
   ]
  },
  {
   "cell_type": "markdown",
   "metadata": {},
   "source": [
    "### Encoding the MDP as a gymnasium environment\n",
    "\n",
    "This is just a  toy example on how to create a gymnasium environement. \n",
    "\n",
    "Note that our environement is an example of tabular MDP for which the transition probabilities $P(s'|s,a)$ and the mean rewards $r(s,a)$ can actually be computed in closed form. Therefore we provide the transitions $(P)$ and mean rewards $(r)$ as attributes of the class. "
   ]
  },
  {
   "cell_type": "code",
   "execution_count": 64,
   "metadata": {},
   "outputs": [],
   "source": [
    "def nextstate(s,a,d,M):\n",
    "    # computes the next state if the demand is d\n",
    "    return max(0,min(M,s+a) -d)\n",
    "\n",
    "def nextreward(s,a,d,M,c,c0,h,p):\n",
    "    # computes the reward if the demand is d\n",
    "    rew = -c*a - h*s + p*min(M,d,s+a)\n",
    "    if (a>0):\n",
    "        rew = rew - c0\n",
    "    return rew\n",
    "\n",
    "class StoreManagement(gym.Env):\n",
    "    \"\"\"\n",
    "    Retail Store Management environment\n",
    "    The environment defines which actions can be taken at which point and\n",
    "    when the agent receives which reward.\n",
    "    \"\"\"\n",
    "    def __init__(self,FirstState,M=15,h=0.3,c=0.5,c0=0.3,p=1,q=0.1):\n",
    "        \n",
    "        # General variables defining the environment\n",
    "        self.Stock_Capacity = M\n",
    "        self.Maintenance_Cost = h\n",
    "        self.Order_Cost = c \n",
    "        self.Delivery_Cost = c0\n",
    "        self.Selling_Price = p\n",
    "        pdem = np.array([q*(1-q)**m for m in range(M+1)])\n",
    "        pdem[M] = pdem[M]+1-np.sum(pdem)\n",
    "        self.Demand_Distribution = pdem\n",
    "        \n",
    "        # Define the action space\n",
    "        self.action_space = gym.spaces.Discrete(self.Stock_Capacity+1)\n",
    "\n",
    "        # Define the state space (state space = observation space in this example)\n",
    "        self.observation_space = gym.spaces.Discrete(self.Stock_Capacity+1)\n",
    "\n",
    "        # current time step\n",
    "        self.curr_step = -1 # \n",
    "        \n",
    "        # initial state\n",
    "        self.state = FirstState\n",
    "\n",
    "        # computation of the MDP parameters\n",
    "        P = np.zeros((M+1,M+1,M+1)) # P[s,a,s'] = p(s' | s,a) \n",
    "        r = np.zeros((M+1,M+1)) # r[s,a] = average reward received in state s when playing action a\n",
    "        ## iteration over all possible states, actions, and possible demand values\n",
    "        for a in range(M+1):\n",
    "            for s in range(M+1):\n",
    "                for d in range(M+1):\n",
    "                    # next state and reward with demand d\n",
    "                    ns = max(0,min(M,s+a) -d)\n",
    "                    reward = -c*a - h*s+p*min(M,d,s+a)\n",
    "                    if (a>0):\n",
    "                        reward = reward - c0\n",
    "                    P[s,a,ns] += pdem[d]\n",
    "                    r[s,a] += pdem[d] * reward\n",
    "        self.P = P # P[s,a,ns] = P(ns | s,a)\n",
    "        self.r = r # r[s,a] = r(s,a)\n",
    "\n",
    "    def step(self, action):\n",
    "        \"\"\"\n",
    "        simulates a transition following an action in the current state\n",
    "        action : int\n",
    "        \"\"\"\n",
    "        self.curr_step += 1\n",
    "        # simulate the demand \n",
    "        Demand = SimuDemand(self.Demand_Distribution)\n",
    "        # compute the reward\n",
    "        reward = nextreward(self.state,action,Demand,self.Stock_Capacity,self.Order_Cost,self.Delivery_Cost,self.Maintenance_Cost,self.Selling_Price)\n",
    "        # compute the next state \n",
    "        self.state = nextstate(self.state,action,Demand,self.Stock_Capacity)\n",
    "        # return 4 elements: observation / reward / termination? / truncation ? / information  \n",
    "        return self.state, reward, False, False,{}\n",
    "\n",
    "    def reset(self,InitialStock):\n",
    "        \"\"\"\n",
    "        Reset the state of the environment and returns an initial observation.\n",
    "        \"\"\"\n",
    "        self.curr_step = -1\n",
    "        self.state = InitialStock\n",
    "    \n",
    "    def _render(self, mode='human'):\n",
    "        \"\"\"optional visualization of the interaction: none here\"\"\"\n",
    "        return\n"
   ]
  },
  {
   "cell_type": "markdown",
   "metadata": {},
   "source": [
    "### A function that simulates a trajectory under a policy Pi starting from some state $s_0$"
   ]
  },
  {
   "cell_type": "markdown",
   "metadata": {},
   "source": [
    "**Complete the function below to simulate a trajectory of length $T$ from an initial state $s_0$ under a policy Pi**\n",
    "\n",
    "Write a function `SimulateTrajectory` that takes 3 arguments T, Pi and s0. It should initialize a StoreManagement environment in the state s0. Then, for T steps, will will:\n",
    "- query the state of the environment\n",
    "- choose an action according to the policy\n",
    "- get a new state and a reward by calling `state, reward, _, _, _ = env.step(action)` (where `env` is the environment)\n",
    "\n",
    "The function should return two arrays of length `T`: one for the states visited and one for the rewards obtained."
   ]
  },
  {
   "cell_type": "code",
   "execution_count": 65,
   "metadata": {},
   "outputs": [],
   "source": [
    "def SimulateTrajectory(T,Pi,s0):\n",
    "    \"\"\"return a vector of T successive states and a vector of T successive rewards\"\"\"\n",
    "    Rewards = np.zeros(T)\n",
    "    States = np.zeros(T)\n",
    "    env=StoreManagement(s0)\n",
    "    s=s0\n",
    "    for t in range(T):\n",
    "        \n",
    "        a = Pi(s)\n",
    "        s,r,_,_,_ = env.step(a)\n",
    "        Rewards[t] = r\n",
    "        States[t] = s\n",
    "    return States, Rewards"
   ]
  },
  {
   "cell_type": "markdown",
   "metadata": {},
   "source": [
    "### Running simulations with three simple baselines "
   ]
  },
  {
   "cell_type": "code",
   "execution_count": 66,
   "metadata": {},
   "outputs": [],
   "source": [
    "s1 = 10 # initial stock \n",
    "gamma = 0.97 # discount factor \n",
    "\n",
    "def PiUniform(s):\n",
    "    # pick uniformly at random in {0,1,...,M-s}\n",
    "    x = rd.sample(range(M+1-s),1)\n",
    "    return s+x[0]\n",
    "\n",
    "def PiConstant(s,c=3):\n",
    "    # oder a constant number of c bikes \n",
    "    return min(c,M-s)\n",
    "\n",
    "def PiThreshold(s,m1=4,m2=10):\n",
    "    # if less than m1 bikes in stock, refill it up to m2\n",
    "    action = 0\n",
    "    if (s <=m1):\n",
    "        action = (m2-s)\n",
    "    return action"
   ]
  },
  {
   "cell_type": "markdown",
   "metadata": {},
   "source": [
    "**Plot the cumulative discounted reward as a function of time for the three baselines.**\n",
    "\n",
    "You should plot one trajectory for each policy, all on the same graph. Don't forget to add legends to the graph."
   ]
  },
  {
   "cell_type": "code",
   "execution_count": 80,
   "metadata": {},
   "outputs": [
    {
     "data": {
      "application/vnd.plotly.v1+json": {
       "config": {
        "plotlyServerURL": "https://plot.ly"
       },
       "data": [
        {
         "name": "Uniform",
         "type": "scatter",
         "x": [
          0,
          1,
          2,
          3,
          4,
          5,
          6,
          7,
          8,
          9,
          10,
          11,
          12,
          13,
          14,
          15,
          16,
          17,
          18,
          19,
          20,
          21,
          22,
          23,
          24,
          25,
          26,
          27,
          28,
          29,
          30,
          31,
          32,
          33,
          34,
          35,
          36,
          37,
          38,
          39,
          40,
          41,
          42,
          43,
          44,
          45,
          46,
          47,
          48,
          49,
          50,
          51,
          52,
          53,
          54,
          55,
          56,
          57,
          58,
          59,
          60,
          61,
          62,
          63,
          64,
          65,
          66,
          67,
          68,
          69,
          70,
          71,
          72,
          73,
          74,
          75,
          76,
          77,
          78,
          79,
          80,
          81,
          82,
          83,
          84,
          85,
          86,
          87,
          88,
          89,
          90,
          91,
          92,
          93,
          94,
          95,
          96,
          97,
          98,
          99,
          100,
          101,
          102,
          103,
          104,
          105,
          106,
          107,
          108,
          109,
          110,
          111,
          112,
          113,
          114,
          115,
          116,
          117,
          118,
          119,
          120,
          121,
          122,
          123,
          124,
          125,
          126,
          127,
          128,
          129,
          130,
          131,
          132,
          133,
          134,
          135,
          136,
          137,
          138,
          139,
          140,
          141,
          142,
          143,
          144,
          145,
          146,
          147,
          148,
          149,
          150,
          151,
          152,
          153,
          154,
          155,
          156,
          157,
          158,
          159,
          160,
          161,
          162,
          163,
          164,
          165,
          166,
          167,
          168,
          169,
          170,
          171,
          172,
          173,
          174,
          175,
          176,
          177,
          178,
          179,
          180,
          181,
          182,
          183,
          184,
          185,
          186,
          187,
          188,
          189,
          190,
          191,
          192,
          193,
          194,
          195,
          196,
          197,
          198,
          199,
          200,
          201,
          202,
          203,
          204,
          205,
          206,
          207,
          208,
          209,
          210,
          211,
          212,
          213,
          214,
          215,
          216,
          217,
          218,
          219,
          220,
          221,
          222,
          223,
          224,
          225,
          226,
          227,
          228,
          229,
          230,
          231,
          232,
          233,
          234,
          235,
          236,
          237,
          238,
          239,
          240,
          241,
          242,
          243,
          244,
          245,
          246,
          247,
          248,
          249,
          250,
          251,
          252,
          253,
          254,
          255,
          256,
          257,
          258,
          259,
          260,
          261,
          262,
          263,
          264,
          265,
          266,
          267,
          268,
          269,
          270,
          271,
          272,
          273,
          274,
          275,
          276,
          277,
          278,
          279,
          280,
          281,
          282,
          283,
          284,
          285,
          286,
          287,
          288,
          289,
          290,
          291,
          292,
          293,
          294,
          295,
          296,
          297,
          298,
          299,
          300,
          301,
          302,
          303,
          304,
          305,
          306,
          307,
          308,
          309,
          310,
          311,
          312,
          313,
          314,
          315,
          316,
          317,
          318,
          319,
          320,
          321,
          322,
          323,
          324,
          325,
          326,
          327,
          328,
          329,
          330,
          331,
          332,
          333,
          334,
          335,
          336,
          337,
          338,
          339,
          340
         ],
         "y": [
          -4.8,
          -13.142,
          -10.03703,
          -8.9418224,
          -2.9218312920000002,
          -1.0326164354600003,
          -0.4495360320097004,
          0.5200433817276553,
          -4.417539782729829,
          -5.48186326484622,
          -6.440514629809627,
          -7.656527015059364,
          -9.668669861946134,
          -13.841437820972697,
          -16.713917441799367,
          -14.497538279820605,
          -15.848896317438513,
          -17.100131009542004,
          -12.765496540469197,
          -12.765496540469197,
          -16.463298072371078,
          -15.144596790773717,
          -14.939934351869805,
          -15.833285897685375,
          -20.791883283376126,
          -19.531051579189324,
          -19.213975754321606,
          -18.90641220419992,
          -16.604958096289355,
          -17.34909492451377,
          -16.948087855970613,
          -20.21549345046026,
          -23.04530008140219,
          -25.09483469730573,
          -26.55037026292151,
          -26.619241945782356,
          -27.320700035720055,
          -29.912754691870788,
          -31.38990183904469,
          -30.383870345831145,
          -33.13399461864308,
          -36.37529700082497,
          -39.435889604177255,
          -41.7299428782354,
          -44.583475262543246,
          -43.897842114423774,
          -43.725418074581874,
          -44.394423349168434,
          -43.72231197866415,
          -43.407578447234904,
          -42.84060847133164,
          -43.11558890964472,
          -44.12095969680016,
          -43.583599269951165,
          -42.71486657987862,
          -42.02200399661853,
          -43.07552964348913,
          -44.55555153498942,
          -46.5551668262557,
          -46.10756063413378,
          -46.10756063413378,
          -46.0763641403436,
          -46.348709531131924,
          -47.361380475879834,
          -47.60339415528408,
          -47.133887617239836,
          -46.156071206683585,
          -46.00015637080859,
          -45.9749501390088,
          -45.86492493720271,
          -45.28386962144233,
          -44.38667278082131,
          -43.86227273000192,
          -43.25620016062938,
          -43.25620016062938,
          -43.337664972132615,
          -43.27839932176401,
          -43.04844859833384,
          -43.20644390789066,
          -42.8368278219451,
          -43.10790966839346,
          -43.116391906814584,
          -42.844875454954334,
          -42.597466372910766,
          -42.60520788289729,
          -42.75539317663586,
          -42.58786148147048,
          -42.82102189722022,
          -43.0129199848494,
          -42.6406376948488,
          -42.82119460549909,
          -42.683584445739186,
          -42.986952297937144,
          -42.79273619896001,
          -42.49587983434162,
          -42.34636698454632,
          -42.12076870674409,
          -41.927989606974506,
          -41.74099388019801,
          -41.55960802522482,
          -41.621426285527846,
          -41.810542609547184,
          -41.99398544384594,
          -42.31948461933947,
          -42.67731671293202,
          -43.020330348060504,
          -43.43227338986719,
          -43.29779775266203,
          -43.23444051673308,
          -43.1549085511611,
          -42.972563444640606,
          -42.795688691315725,
          -42.8220838468119,
          -42.658862804012436,
          -42.76130801146363,
          -42.92692776350973,
          -42.906481252302584,
          -42.84981520695707,
          -42.739883078986765,
          -42.68390014281789,
          -42.66579899345662,
          -42.59807483606067,
          -42.59320872993666,
          -42.456325164668385,
          -42.314391067854004,
          -42.25443535824806,
          -42.25012742948378,
          -42.235502011329054,
          -42.3327819355125,
          -42.216795892574616,
          -42.184378776506044,
          -42.139986396383904,
          -42.08257225142594,
          -42.01817869947152,
          -41.997920836099915,
          -41.901307709370165,
          -41.82665360008865,
          -41.72342443919066,
          -41.72043541572585,
          -41.66679738964988,
          -41.727263391477685,
          -41.852751438061716,
          -41.8064436208712,
          -41.823127665864696,
          -41.83806630307426,
          -41.74629327515017,
          -41.691241533794134,
          -41.66056482940871,
          -41.64733976129589,
          -41.61313091844405,
          -41.65564609595085,
          -41.731084612136705,
          -41.81108967316901,
          -41.78648323854419,
          -41.75986096908281,
          -41.75986096908281,
          -41.74085836034499,
          -41.720750145280604,
          -41.67523855185155,
          -41.63424560948438,
          -41.628892877202205,
          -41.627409405684,
          -41.59359367242657,
          -41.63058232874071,
          -41.60282687852159,
          -41.6330329319064,
          -41.68016750825338,
          -41.67460690215191,
          -41.638648316029034,
          -41.638648316029034,
          -41.62906217648551,
          -41.64984718257811,
          -41.68910896513933,
          -41.71329740658482,
          -41.68683936882498,
          -41.71298789746386,
          -41.72285170354486,
          -41.76112327113914,
          -41.74919074309992,
          -41.7676242891931,
          -41.78883144094262,
          -41.80133534394474,
          -41.805247855529274,
          -41.82270548221946,
          -41.80098591753512,
          -41.78777379589918,
          -41.77842175628714,
          -41.792868925628554,
          -41.80786038367539,
          -41.818924731516475,
          -41.8345633968793,
          -41.85478940408188,
          -41.85219274168661,
          -41.83484126652531,
          -41.83429833327026,
          -41.84035475373031,
          -41.84852828812509,
          -41.87602967713403,
          -41.86954083588949,
          -41.85858430728435,
          -41.85813205908235,
          -41.86405424928753,
          -41.85852248495513,
          -41.874207164439134,
          -41.8896214895794,
          -41.9034083022081,
          -41.91207263431363,
          -41.92486194192158,
          -41.93709034703872,
          -41.943794703061634,
          -41.95913564489459,
          -41.97450159913271,
          -41.969324081288896,
          -41.976629088283076,
          -41.981057748773296,
          -41.974184467692474,
          -41.973906672582125,
          -41.968921639326894,
          -41.96800681835924,
          -41.969020962746235,
          -41.965332012538546,
          -41.97487409707577,
          -41.988757830077425,
          -41.98572770534982,
          -41.99258588764998,
          -42.0017725861311,
          -42.01344919668332,
          -42.02467615530286,
          -42.02130310003619,
          -42.01644204553189,
          -42.013086983105744,
          -42.015989565491175,
          -42.023156305271925,
          -42.031680459694485,
          -42.034650672337456,
          -42.03613015933772,
          -42.03484612035697,
          -42.03689756145799,
          -42.04116162831797,
          -42.04336757224021,
          -42.046644088322196,
          -42.0449576855551,
          -42.04458019078184,
          -42.04726543693556,
          -42.043299206309875,
          -42.04576833286804,
          -42.048274783432326,
          -42.05394771654282,
          -42.05986971843083,
          -42.06393650910791,
          -42.0610272287273,
          -42.061888178480615,
          -42.06258411286454,
          -42.06501431573322,
          -42.06357374547718,
          -42.063277337233586,
          -42.06040217727074,
          -42.0611193243129,
          -42.06274246711832,
          -42.064729271204676,
          -42.066147399479895,
          -42.06773461228024,
          -42.069479488218754,
          -42.07263223954687,
          -42.0729541520509,
          -42.07045611101963,
          -42.06918398362446,
          -42.06762683911528,
          -42.06942225611445,
          -42.071882547376966,
          -42.07448354518473,
          -42.0744055152505,
          -42.07579314758094,
          -42.075034491141366,
          -42.07577038788775,
          -42.076875657323605,
          -42.07850616000596,
          -42.08017440994219,
          -42.08015339432611,
          -42.080520326982864,
          -42.080955346032596,
          -42.08093616564722,
          -42.08164315465213,
          -42.08166120147673,
          -42.080785930483685,
          -42.080650088425564,
          -42.08162186854884,
          -42.083155634058656,
          -42.08354306961713,
          -42.08288163963171,
          -42.08339199299546,
          -42.08425478181069,
          -42.08495448939577,
          -42.084355622021484,
          -42.08400708120965,
          -42.08340604194302,
          -42.083029515885784,
          -42.08265250398847,
          -42.08291535197063,
          -42.08319248516921,
          -42.083009688111424,
          -42.08324958236784,
          -42.08312817501372,
          -42.082735624568734,
          -42.08230725389564,
          -42.08238112403838,
          -42.08180789173074,
          -42.0817470753656,
          -42.08189876875636,
          -42.081514563107206,
          -42.08142734025026,
          -42.08183498816622,
          -42.08267058947924,
          -42.0834883596571,
          -42.08366385458466,
          -42.0833302036284,
          -42.08296032771118,
          -42.08291548025621,
          -42.082840905345385,
          -42.08267814560251,
          -42.08263721454124,
          -42.08251243327734,
          -42.08272149861314,
          -42.08249735856628,
          -42.08225923644983,
          -42.08219898120123,
          -42.08202363842781,
          -42.08217954737718,
          -42.082294116832394,
          -42.08264529512652,
          -42.08296006645572,
          -42.083119004417284,
          -42.08332185944718,
          -42.08343205029942,
          -42.08343205029942,
          -42.08372457198717,
          -42.083627595493475,
          -42.083603207701174,
          -42.0837485241036,
          -42.08374196796823,
          -42.083783304401706
         ]
        },
        {
         "name": "Constant",
         "type": "scatter",
         "x": [
          0,
          1,
          2,
          3,
          4,
          5,
          6,
          7,
          8,
          9,
          10,
          11,
          12,
          13,
          14,
          15,
          16,
          17,
          18,
          19,
          20,
          21,
          22,
          23,
          24,
          25,
          26,
          27,
          28,
          29,
          30,
          31,
          32,
          33,
          34,
          35,
          36,
          37,
          38,
          39,
          40,
          41,
          42,
          43,
          44,
          45,
          46,
          47,
          48,
          49,
          50,
          51,
          52,
          53,
          54,
          55,
          56,
          57,
          58,
          59,
          60,
          61,
          62,
          63,
          64,
          65,
          66,
          67,
          68,
          69,
          70,
          71,
          72,
          73,
          74,
          75,
          76,
          77,
          78,
          79,
          80,
          81,
          82,
          83,
          84,
          85,
          86,
          87,
          88,
          89,
          90,
          91,
          92,
          93,
          94,
          95,
          96,
          97,
          98,
          99,
          100,
          101,
          102,
          103,
          104,
          105,
          106,
          107,
          108,
          109,
          110,
          111,
          112,
          113,
          114,
          115,
          116,
          117,
          118,
          119,
          120,
          121,
          122,
          123,
          124,
          125,
          126,
          127,
          128,
          129,
          130,
          131,
          132,
          133,
          134,
          135,
          136,
          137,
          138,
          139,
          140,
          141,
          142,
          143,
          144,
          145,
          146,
          147,
          148,
          149,
          150,
          151,
          152,
          153,
          154,
          155,
          156,
          157,
          158,
          159,
          160,
          161,
          162,
          163,
          164,
          165,
          166,
          167,
          168,
          169,
          170,
          171,
          172,
          173,
          174,
          175,
          176,
          177,
          178,
          179,
          180,
          181,
          182,
          183,
          184,
          185,
          186,
          187,
          188,
          189,
          190,
          191,
          192,
          193,
          194,
          195,
          196,
          197,
          198,
          199,
          200,
          201,
          202,
          203,
          204,
          205,
          206,
          207,
          208,
          209,
          210,
          211,
          212,
          213,
          214,
          215,
          216,
          217,
          218,
          219,
          220,
          221,
          222,
          223,
          224,
          225,
          226,
          227,
          228,
          229,
          230,
          231,
          232,
          233,
          234,
          235,
          236,
          237,
          238,
          239,
          240,
          241,
          242,
          243,
          244,
          245,
          246,
          247,
          248,
          249,
          250,
          251,
          252,
          253,
          254,
          255,
          256,
          257,
          258,
          259,
          260,
          261,
          262,
          263,
          264,
          265,
          266,
          267,
          268,
          269,
          270,
          271,
          272,
          273,
          274,
          275,
          276,
          277,
          278,
          279,
          280,
          281,
          282,
          283,
          284,
          285,
          286,
          287,
          288,
          289,
          290,
          291,
          292,
          293,
          294,
          295,
          296,
          297,
          298,
          299,
          300,
          301,
          302,
          303,
          304,
          305,
          306,
          307,
          308,
          309,
          310,
          311,
          312,
          313,
          314,
          315,
          316,
          317,
          318,
          319,
          320,
          321,
          322,
          323,
          324,
          325,
          326,
          327,
          328,
          329,
          330,
          331,
          332,
          333,
          334,
          335,
          336,
          337,
          338,
          339,
          340
         ],
         "y": [
          -4.8,
          -4.024,
          2.091850000000001,
          1.0879097000000009,
          4.009375973000001,
          5.039856803840001,
          6.039423209754801,
          4.585054089148768,
          2.4689470186669893,
          2.0128083834742503,
          2.307778034232222,
          5.669694628746199,
          6.502305461940724,
          7.309937970139413,
          6.787668948170927,
          8.434122039926578,
          7.328465463693744,
          6.315561189133776,
          6.142175810370864,
          8.777055616304587,
          9.429608827816683,
          10.062585442983416,
          10.676572759695148,
          11.272140456905527,
          11.849841123199596,
          12.410210769504841,
          12.95376932642093,
          13.481021126629537,
          13.992455372831884,
          14.488546591648161,
          14.96975507389995,
          15.436527301684185,
          15.889296362634893,
          15.96249402748859,
          15.216975810953677,
          15.561334225257898,
          16.329597847570618,
          16.945210828406417,
          16.37949489970152,
          17.385526392915065,
          17.148956562995757,
          17.89474295181637,
          18.22862578127298,
          18.552492125845895,
          18.081266594492305,
          17.395633446372834,
          17.494161469139634,
          18.61713460862422,
          18.199962033828456,
          18.492214598727042,
          19.0591845746303,
          19.1014892574477,
          19.491326909610013,
          19.531131385672904,
          19.897929632592426,
          20.12264182175786,
          20.340612645248328,
          20.552044344034083,
          20.24441122230081,
          20.79148545711648,
          20.66284012189922,
          21.068394541171635,
          21.249958135030518,
          21.426074821073634,
          21.596908006535454,
          21.76261619643342,
          21.923353140634447,
          22.079267976509446,
          22.230505367308194,
          22.37720563638298,
          22.51950489738552,
          22.54250994458093,
          22.419778017793416,
          22.776927924745088,
          22.90290443737895,
          23.025101654633797,
          23.143632955371,
          22.97116991279837,
          22.999051438014277,
          22.755645722879397,
          22.44084099797162,
          22.1439626532322,
          21.80662403122401,
          22.349327824093773,
          22.604797653649083,
          22.694908829892228,
          22.78231667084808,
          22.796447605135942,
          22.926664164598595,
          22.807001999955546,
          23.019801216079102,
          23.094861303220867,
          22.9856488764296,
          22.885598158774712,
          22.86847183004673,
          22.685733902519143,
          23.050988257056098,
          23.113511208332717,
          23.17415847107104,
          23.183963111880402,
          23.274312876938673,
          23.2835380634762,
          23.18957953859147,
          23.363179098854687,
          23.413696570891283,
          23.46269851876678,
          23.510230408206013,
          23.55633634096207,
          23.526521171113153,
          23.58436260062005,
          23.650988697233306,
          23.691805948000585,
          23.731398681244848,
          23.673791254374446,
          23.68310445505183,
          23.782476306279488,
          23.81752746834888,
          23.851527095556193,
          23.884506733947283,
          23.916496983186644,
          23.921668740147005,
          23.86899439550571,
          23.96631651798582,
          23.994637255627534,
          24.022108371139996,
          24.048755353187083,
          24.03152363812997,
          24.002272801820514,
          24.083339405306717,
          24.106929786921203,
          24.129812457087255,
          24.152008647148325,
          24.173538951507563,
          24.194423346736023,
          24.214681210107628,
          24.201581125127323,
          24.242879143027736,
          24.245960610517226,
          24.2743563334329,
          24.248262158585128,
          24.238418855961996,
          24.19749884077155,
          24.212052726174285,
          24.246704204237705,
          24.279071251525092,
          24.293561729618368,
          24.307617493368845,
          24.32125158420681,
          24.312434872131593,
          24.340229556948714,
          24.32156435706768,
          24.354757304189455,
          24.3664653619015,
          24.377822177882184,
          24.388838289383447,
          24.381714537279297,
          24.360984418656223,
          24.37522773766016,
          24.353284647971154,
          24.3879709838203,
          24.379559547376882,
          24.404036827427227,
          24.391086121073318,
          24.414116793872687,
          24.422240340278282,
          24.43012018029171,
          24.437763625104733,
          24.438999315349506,
          24.450386200955084,
          24.45736216666292,
          24.464128853399526,
          24.47069253953403,
          24.4770593150845,
          24.483235087368456,
          24.489225586483894,
          24.49503637062587,
          24.500672831243584,
          24.50158405904345,
          24.509981023219193,
          24.515125268640546,
          24.507640391552478,
          24.516917480876632,
          24.524351252887246,
          24.528905416371643,
          24.522279108501845,
          24.534062892663638,
          24.538219354713434,
          24.542251122901735,
          24.539643912806632,
          24.547863142631442,
          24.551542828599164,
          24.555112123987854,
          24.558574340514884,
          24.561932690546104,
          24.565190290076387,
          24.563083709046804,
          24.569724705742562,
          24.56526502103841,
          24.57319582700396,
          24.575993238562717,
          24.578706727774712,
          24.581338812310346,
          24.58389193430991,
          24.58636846264949,
          24.586768834731053,
          24.58269104508031,
          24.590225246911206,
          24.592417699643995,
          24.5945443787948,
          24.596607257571083,
          24.59860824998408,
          24.60054921262468,
          24.60243194638607,
          24.604258198134612,
          24.6060296623307,
          24.603452181925395,
          24.608035801246167,
          24.608305262503208,
          24.610788347986826,
          24.609774203599834,
          24.606823043433682,
          24.605272454696383,
          24.606892223546577,
          24.611381297217115,
          24.61268761765524,
          24.610786921417766,
          24.614166992893406,
          24.615359236286633,
          24.61651571237806,
          24.617637494186745,
          24.61872562254117,
          24.619781107044965,
          24.620804927013644,
          24.619315268959216,
          24.621964377532674,
          24.622898790374947,
          24.623805170831954,
          24.62468435987525,
          24.625537173247245,
          24.626364402218083,
          24.627166814319796,
          24.627945154058455,
          24.628700143604956,
          24.629432483465063,
          24.630142853129367,
          24.63083191170374,
          24.631500298520884,
          24.63214863373351,
          24.63277751888976,
          24.633387537491323,
          24.63397925553484,
          24.63455322203705,
          24.634182057032287,
          24.6353521547098,
          24.63587599843927,
          24.636384126856857,
          24.636877011421916,
          24.637355109450024,
          24.637818864537287,
          24.638268706971935,
          24.638705054133542,
          24.639128310880302,
          24.639538869924657,
          24.639937112197682,
          24.63967958219446,
          24.640491445529623,
          24.640854910499673,
          24.64120747152062,
          24.640979482060406,
          24.641698218833724,
          24.642019991758396,
          24.642332111495328,
          24.642130274065448,
          24.64276656656315,
          24.643051429819813,
          24.643327747178777,
          24.643595775016973,
          24.64385576202002,
          24.643687637091382,
          24.644217650928915,
          24.644454934046948,
          24.64430149096395,
          24.644785220283094,
          24.64500178217828,
          24.64521184721661,
          24.64541561030379,
          24.645613260498354,
          24.645804981187084,
          24.645835976031762,
          24.645670618535405,
          24.645276917369085,
          24.64604069763175,
          24.64579374201349,
          24.646232911421297,
          24.64638781844878,
          24.646538078265436,
          24.646683830287593,
          24.646825209749085,
          24.646962347826733,
          24.647095371762052,
          24.647116877298263,
          24.647315050814438,
          24.647335285373458,
          24.647227334001087,
          24.647160698563052,
          24.646883685527786,
          24.6471613449268,
          24.64744805064817,
          24.647549179575343,
          24.6476472746347,
          24.647742426842278,
          24.647603980380254,
          24.64755175529819,
          24.647841231467343,
          24.647925469032568,
          24.648007179470834,
          24.648086438595953,
          24.64816331994732,
          24.648237894858145,
          24.648310232521645,
          24.648380400055242,
          24.64827830629386,
          24.64845986303285,
          24.64852390304624,
          24.648586021859227,
          24.64849563898633,
          24.648412838232215,
          24.64835141955519,
          24.648598889578455,
          24.648652233116803,
          24.648660856988837,
          24.64874032596962,
          24.648789011176795,
          24.648836235827755,
          24.648882043739185,
          24.648926477413273,
          24.648861826417473,
          24.648976797438333,
          24.648915967316388,
          24.64889302084261,
          24.6490202098687
         ]
        },
        {
         "name": "Threshold",
         "type": "scatter",
         "x": [
          0,
          1,
          2,
          3,
          4,
          5,
          6,
          7,
          8,
          9,
          10,
          11,
          12,
          13,
          14,
          15,
          16,
          17,
          18,
          19,
          20,
          21,
          22,
          23,
          24,
          25,
          26,
          27,
          28,
          29,
          30,
          31,
          32,
          33,
          34,
          35,
          36,
          37,
          38,
          39,
          40,
          41,
          42,
          43,
          44,
          45,
          46,
          47,
          48,
          49,
          50,
          51,
          52,
          53,
          54,
          55,
          56,
          57,
          58,
          59,
          60,
          61,
          62,
          63,
          64,
          65,
          66,
          67,
          68,
          69,
          70,
          71,
          72,
          73,
          74,
          75,
          76,
          77,
          78,
          79,
          80,
          81,
          82,
          83,
          84,
          85,
          86,
          87,
          88,
          89,
          90,
          91,
          92,
          93,
          94,
          95,
          96,
          97,
          98,
          99,
          100,
          101,
          102,
          103,
          104,
          105,
          106,
          107,
          108,
          109,
          110,
          111,
          112,
          113,
          114,
          115,
          116,
          117,
          118,
          119,
          120,
          121,
          122,
          123,
          124,
          125,
          126,
          127,
          128,
          129,
          130,
          131,
          132,
          133,
          134,
          135,
          136,
          137,
          138,
          139,
          140,
          141,
          142,
          143,
          144,
          145,
          146,
          147,
          148,
          149,
          150,
          151,
          152,
          153,
          154,
          155,
          156,
          157,
          158,
          159,
          160,
          161,
          162,
          163,
          164,
          165,
          166,
          167,
          168,
          169,
          170,
          171,
          172,
          173,
          174,
          175,
          176,
          177,
          178,
          179,
          180,
          181,
          182,
          183,
          184,
          185,
          186,
          187,
          188,
          189,
          190,
          191,
          192,
          193,
          194,
          195,
          196,
          197,
          198,
          199,
          200,
          201,
          202,
          203,
          204,
          205,
          206,
          207,
          208,
          209,
          210,
          211,
          212,
          213,
          214,
          215,
          216,
          217,
          218,
          219,
          220,
          221,
          222,
          223,
          224,
          225,
          226,
          227,
          228,
          229,
          230,
          231,
          232,
          233,
          234,
          235,
          236,
          237,
          238,
          239,
          240,
          241,
          242,
          243,
          244,
          245,
          246,
          247,
          248,
          249,
          250,
          251,
          252,
          253,
          254,
          255,
          256,
          257,
          258,
          259,
          260,
          261,
          262,
          263,
          264,
          265,
          266,
          267,
          268,
          269,
          270,
          271,
          272,
          273,
          274,
          275,
          276,
          277,
          278,
          279,
          280,
          281,
          282,
          283,
          284,
          285,
          286,
          287,
          288,
          289,
          290,
          291,
          292,
          293,
          294,
          295,
          296,
          297,
          298,
          299,
          300,
          301,
          302,
          303,
          304,
          305,
          306,
          307,
          308,
          309,
          310,
          311,
          312,
          313,
          314,
          315,
          316,
          317,
          318,
          319,
          320,
          321,
          322,
          323,
          324,
          325,
          326,
          327,
          328,
          329,
          330,
          331,
          332,
          333,
          334,
          335,
          336,
          337,
          338,
          339,
          340
         ],
         "y": [
          7,
          10.589,
          14.258510000000001,
          17.817934700000002,
          22.155869469000002,
          20.180781209890004,
          24.2623440340421,
          28.05986340451341,
          31.743457193870583,
          35.31654316954704,
          32.88304355079378,
          31.166320183382386,
          33.66415268296596,
          34.4044824821481,
          37.99508200818144,
          35.90535308403004,
          39.345173543421076,
          41.549729905698655,
          44.381691092159556,
          43.65289455009278,
          45.936830790385116,
          45.251106123954486,
          44.330125148886886,
          44.92569284609726,
          42.66303190311216,
          44.99790542938402,
          47.3080292962774,
          49.37309884709444,
          48.81904508037523,
          50.5553643462322,
          49.63304808858294,
          48.81619668996053,
          50.66500368884259,
          52.38514881290449,
          52.63365488508279,
          51.42840043501801,
          50.86055340983035,
          52.67499166913586,
          54.152138816309765,
          54.36553943608234,
          53.626258717584506,
          55.232567862736595,
          54.03615439051707,
          53.84723235618287,
          55.13001296931209,
          54.5459551023955,
          54.27500303978681,
          54.561719586038194,
          54.167723265397754,
          55.26929062540012,
          54.54967488675367,
          55.31115917746682,
          56.35756550695513,
          55.30274689128858,
          56.654108853623654,
          55.66163001814299,
          56.38819942977789,
          55.91247810750994,
          56.015022481421035,
          56.59525273046796,
          56.86862406780464,
          57.69533115324457,
          58.406455229191856,
          58.94948167782479,
          58.3658016274969,
          59.23576962446123,
          59.06163793491012,
          59.347481800680946,
          58.855960280585016,
          58.89263534785371,
          59.390682761362605,
          59.93130137045476,
          59.786254547887694,
          59.69967275226305,
          60.06710424744515,
          60.545710015026636,
          60.71362935773767,
          60.359121992449495,
          60.10818826550632,
          60.49583440442483,
          60.15479595244141,
          60.68917697297236,
          61.07588222259151,
          60.89232064559145,
          60.807164035739675,
          61.12255315259068,
          61.10070119235172,
          61.13602852807138,
          60.81391388097955,
          60.68095592026505,
          60.893755136388606,
          61.16272044864659,
          61.399347373360996,
          61.687728853660374,
          61.95604133706545,
          62.216304445968376,
          61.93162090493222,
          62.2963381207125,
          62.07901876256685,
          62.38786494806175,
          62.23094167190791,
          62.48924689495871,
          62.43108209383959,
          62.61336163211597,
          62.811221730925965,
          63.00314602677167,
          63.189312593741995,
          63.369894163703215,
          63.5450582865656,
          63.353458551324,
          63.49372401787823,
          63.53794270620945,
          63.38946995654347,
          63.48548233466081,
          63.656224347079466,
          63.7977539533734,
          63.730572559407065,
          63.67107321179427,
          63.64084187660244,
          63.75280774894019,
          63.6674737590942,
          63.80793867813766,
          63.72764792709157,
          63.85981136941956,
          63.87583618680183,
          63.99796818785097,
          63.94842700706176,
          64.05080493414485,
          64.14605819324115,
          64.23845385456454,
          64.32807764604824,
          64.41501272378743,
          64.39168822739825,
          64.37776529724594,
          64.43685073207979,
          64.35006266908526,
          64.3024111099694,
          64.27159643507447,
          64.3657506742159,
          64.43388546409619,
          64.49997621028007,
          64.48224420369755,
          64.48489036467986,
          64.42713790124083,
          64.40224017255822,
          64.47831518254793,
          64.53336692390397,
          64.47314968936963,
          64.51723324974571,
          64.55251111893668,
          64.51206985252777,
          64.57543820612389,
          64.5237276178957,
          64.53319163121294,
          64.57174802146736,
          64.57798130455849,
          64.61685027697676,
          64.64952612645638,
          64.60807806815492,
          64.66326087518765,
          64.69920064908224,
          64.66730601144089,
          64.71263348367957,
          64.74543474493927,
          64.74340385833787,
          64.74012059166562,
          64.73693582299352,
          64.76288531813374,
          64.75509429114045,
          64.77951017111788,
          64.74962397136454,
          64.7386844944737,
          64.7561931272375,
          64.7474441165019,
          64.74694490824227,
          64.74452374818311,
          64.72808407138145,
          64.75678774707715,
          64.737784091311,
          64.76479137977309,
          64.78433522550304,
          64.76699110198398,
          64.79163992496655,
          64.77152570291045,
          64.77152570291045,
          64.78902283696887,
          64.80530231333057,
          64.82109340540143,
          64.80707965114026,
          64.82699547725421,
          64.82607555576229,
          64.83648600064596,
          64.82985008563583,
          64.83796609821127,
          64.85181089621497,
          64.84312124946794,
          64.83699109867186,
          64.83352245501307,
          64.84529850023465,
          64.83294326585013,
          64.82842078383014,
          64.84223922764222,
          64.85223895547385,
          64.84336472892369,
          64.83795970582256,
          64.83271683341445,
          64.83139834809404,
          64.8403508634196,
          64.84868035676025,
          64.8567599653007,
          64.85125723616497,
          64.85546265521961,
          64.86377806266573,
          64.87093088201419,
          64.86753557563836,
          64.87455205007502,
          64.88108023516824,
          64.88741257470866,
          64.89355494406287,
          64.89317463991775,
          64.89255981488313,
          64.89911999800246,
          64.90455779342811,
          64.90983245499099,
          64.90624007378615,
          64.90370581213618,
          64.90944169100393,
          64.91411131096073,
          64.90900354155693,
          64.91554726877426,
          64.9198091048291,
          64.91690652244367,
          64.91485888250631,
          64.91370025957508,
          64.91281722338393,
          64.91608766833188,
          64.91812702436015,
          64.91673497504159,
          64.92021729631058,
          64.92345727644636,
          64.92191931991808,
          64.92250307472207,
          64.92093017983353,
          64.92190663298034,
          64.92397854450122,
          64.92633282796366,
          64.92460616201937,
          64.92763172634497,
          64.9300948598736,
          64.93248409939639,
          64.93134997314633,
          64.933693669697,
          64.93123470154046,
          64.92988458883563,
          64.93294034392422,
          64.93281331181981,
          64.93425089180124,
          64.93373295227079,
          64.93535609507622,
          64.93711797794525,
          64.93555440061616,
          64.93777649853664,
          64.93938452146037,
          64.94028056657467,
          64.94192232034521,
          64.94214089893545,
          64.94380678004818,
          64.94518764404688,
          64.94481716117404,
          64.94459601139764,
          64.94526637165737,
          64.94498026189852,
          64.9460399084054,
          64.94547703427281,
          64.9456906817153,
          64.94465449161919,
          64.94487784815102,
          64.94535449098994,
          64.94642628741,
          64.94738438934708,
          64.94772054043096,
          64.9470108661721,
          64.94725273083168,
          64.94788436969263,
          64.9487071244261,
          64.9479769733637,
          64.94901463688515,
          64.94912647395358,
          64.94982385795883,
          64.9505604504426,
          64.95124578210249,
          64.95134479065506,
          64.9510017967408,
          64.95174705391769,
          64.95235377310865,
          64.9529422907239,
          64.95351315281069,
          64.95288872685576,
          64.95288872685576,
          64.95309934808668,
          64.95323913407205,
          64.95381279425045,
          64.95358009682172,
          64.95406097111683,
          64.9545083804865,
          64.95494236757509,
          64.955363335051,
          64.9552503903729,
          64.95543579340605,
          64.95585269740833,
          64.95590820286276,
          64.95633123371894,
          64.956383458801,
          64.95620253619528,
          64.95603406106483,
          64.9558706401883,
          64.95624051610552,
          64.95628536356048,
          64.95619214492196,
          64.95648752371459,
          64.95646998183119,
          64.95666849747832,
          64.95692707828839,
          64.95717790167416,
          64.95742120035835,
          64.95765720008202,
          64.95759388185829,
          64.95765057602169,
          64.9577101521384,
          64.95786573745859,
          64.95808564619543,
          64.95790579534417,
          64.95816139268184,
          64.9583463558981,
          64.95837307717977,
          64.95850267539586,
          64.95868585321729,
          64.95884959982276,
          64.95900843403005,
          64.9588674771197,
          64.95887701629665
         ]
        }
       ],
       "layout": {
        "template": {
         "data": {
          "bar": [
           {
            "error_x": {
             "color": "#2a3f5f"
            },
            "error_y": {
             "color": "#2a3f5f"
            },
            "marker": {
             "line": {
              "color": "#E5ECF6",
              "width": 0.5
             },
             "pattern": {
              "fillmode": "overlay",
              "size": 10,
              "solidity": 0.2
             }
            },
            "type": "bar"
           }
          ],
          "barpolar": [
           {
            "marker": {
             "line": {
              "color": "#E5ECF6",
              "width": 0.5
             },
             "pattern": {
              "fillmode": "overlay",
              "size": 10,
              "solidity": 0.2
             }
            },
            "type": "barpolar"
           }
          ],
          "carpet": [
           {
            "aaxis": {
             "endlinecolor": "#2a3f5f",
             "gridcolor": "white",
             "linecolor": "white",
             "minorgridcolor": "white",
             "startlinecolor": "#2a3f5f"
            },
            "baxis": {
             "endlinecolor": "#2a3f5f",
             "gridcolor": "white",
             "linecolor": "white",
             "minorgridcolor": "white",
             "startlinecolor": "#2a3f5f"
            },
            "type": "carpet"
           }
          ],
          "choropleth": [
           {
            "colorbar": {
             "outlinewidth": 0,
             "ticks": ""
            },
            "type": "choropleth"
           }
          ],
          "contour": [
           {
            "colorbar": {
             "outlinewidth": 0,
             "ticks": ""
            },
            "colorscale": [
             [
              0,
              "#0d0887"
             ],
             [
              0.1111111111111111,
              "#46039f"
             ],
             [
              0.2222222222222222,
              "#7201a8"
             ],
             [
              0.3333333333333333,
              "#9c179e"
             ],
             [
              0.4444444444444444,
              "#bd3786"
             ],
             [
              0.5555555555555556,
              "#d8576b"
             ],
             [
              0.6666666666666666,
              "#ed7953"
             ],
             [
              0.7777777777777778,
              "#fb9f3a"
             ],
             [
              0.8888888888888888,
              "#fdca26"
             ],
             [
              1,
              "#f0f921"
             ]
            ],
            "type": "contour"
           }
          ],
          "contourcarpet": [
           {
            "colorbar": {
             "outlinewidth": 0,
             "ticks": ""
            },
            "type": "contourcarpet"
           }
          ],
          "heatmap": [
           {
            "colorbar": {
             "outlinewidth": 0,
             "ticks": ""
            },
            "colorscale": [
             [
              0,
              "#0d0887"
             ],
             [
              0.1111111111111111,
              "#46039f"
             ],
             [
              0.2222222222222222,
              "#7201a8"
             ],
             [
              0.3333333333333333,
              "#9c179e"
             ],
             [
              0.4444444444444444,
              "#bd3786"
             ],
             [
              0.5555555555555556,
              "#d8576b"
             ],
             [
              0.6666666666666666,
              "#ed7953"
             ],
             [
              0.7777777777777778,
              "#fb9f3a"
             ],
             [
              0.8888888888888888,
              "#fdca26"
             ],
             [
              1,
              "#f0f921"
             ]
            ],
            "type": "heatmap"
           }
          ],
          "heatmapgl": [
           {
            "colorbar": {
             "outlinewidth": 0,
             "ticks": ""
            },
            "colorscale": [
             [
              0,
              "#0d0887"
             ],
             [
              0.1111111111111111,
              "#46039f"
             ],
             [
              0.2222222222222222,
              "#7201a8"
             ],
             [
              0.3333333333333333,
              "#9c179e"
             ],
             [
              0.4444444444444444,
              "#bd3786"
             ],
             [
              0.5555555555555556,
              "#d8576b"
             ],
             [
              0.6666666666666666,
              "#ed7953"
             ],
             [
              0.7777777777777778,
              "#fb9f3a"
             ],
             [
              0.8888888888888888,
              "#fdca26"
             ],
             [
              1,
              "#f0f921"
             ]
            ],
            "type": "heatmapgl"
           }
          ],
          "histogram": [
           {
            "marker": {
             "pattern": {
              "fillmode": "overlay",
              "size": 10,
              "solidity": 0.2
             }
            },
            "type": "histogram"
           }
          ],
          "histogram2d": [
           {
            "colorbar": {
             "outlinewidth": 0,
             "ticks": ""
            },
            "colorscale": [
             [
              0,
              "#0d0887"
             ],
             [
              0.1111111111111111,
              "#46039f"
             ],
             [
              0.2222222222222222,
              "#7201a8"
             ],
             [
              0.3333333333333333,
              "#9c179e"
             ],
             [
              0.4444444444444444,
              "#bd3786"
             ],
             [
              0.5555555555555556,
              "#d8576b"
             ],
             [
              0.6666666666666666,
              "#ed7953"
             ],
             [
              0.7777777777777778,
              "#fb9f3a"
             ],
             [
              0.8888888888888888,
              "#fdca26"
             ],
             [
              1,
              "#f0f921"
             ]
            ],
            "type": "histogram2d"
           }
          ],
          "histogram2dcontour": [
           {
            "colorbar": {
             "outlinewidth": 0,
             "ticks": ""
            },
            "colorscale": [
             [
              0,
              "#0d0887"
             ],
             [
              0.1111111111111111,
              "#46039f"
             ],
             [
              0.2222222222222222,
              "#7201a8"
             ],
             [
              0.3333333333333333,
              "#9c179e"
             ],
             [
              0.4444444444444444,
              "#bd3786"
             ],
             [
              0.5555555555555556,
              "#d8576b"
             ],
             [
              0.6666666666666666,
              "#ed7953"
             ],
             [
              0.7777777777777778,
              "#fb9f3a"
             ],
             [
              0.8888888888888888,
              "#fdca26"
             ],
             [
              1,
              "#f0f921"
             ]
            ],
            "type": "histogram2dcontour"
           }
          ],
          "mesh3d": [
           {
            "colorbar": {
             "outlinewidth": 0,
             "ticks": ""
            },
            "type": "mesh3d"
           }
          ],
          "parcoords": [
           {
            "line": {
             "colorbar": {
              "outlinewidth": 0,
              "ticks": ""
             }
            },
            "type": "parcoords"
           }
          ],
          "pie": [
           {
            "automargin": true,
            "type": "pie"
           }
          ],
          "scatter": [
           {
            "fillpattern": {
             "fillmode": "overlay",
             "size": 10,
             "solidity": 0.2
            },
            "type": "scatter"
           }
          ],
          "scatter3d": [
           {
            "line": {
             "colorbar": {
              "outlinewidth": 0,
              "ticks": ""
             }
            },
            "marker": {
             "colorbar": {
              "outlinewidth": 0,
              "ticks": ""
             }
            },
            "type": "scatter3d"
           }
          ],
          "scattercarpet": [
           {
            "marker": {
             "colorbar": {
              "outlinewidth": 0,
              "ticks": ""
             }
            },
            "type": "scattercarpet"
           }
          ],
          "scattergeo": [
           {
            "marker": {
             "colorbar": {
              "outlinewidth": 0,
              "ticks": ""
             }
            },
            "type": "scattergeo"
           }
          ],
          "scattergl": [
           {
            "marker": {
             "colorbar": {
              "outlinewidth": 0,
              "ticks": ""
             }
            },
            "type": "scattergl"
           }
          ],
          "scattermapbox": [
           {
            "marker": {
             "colorbar": {
              "outlinewidth": 0,
              "ticks": ""
             }
            },
            "type": "scattermapbox"
           }
          ],
          "scatterpolar": [
           {
            "marker": {
             "colorbar": {
              "outlinewidth": 0,
              "ticks": ""
             }
            },
            "type": "scatterpolar"
           }
          ],
          "scatterpolargl": [
           {
            "marker": {
             "colorbar": {
              "outlinewidth": 0,
              "ticks": ""
             }
            },
            "type": "scatterpolargl"
           }
          ],
          "scatterternary": [
           {
            "marker": {
             "colorbar": {
              "outlinewidth": 0,
              "ticks": ""
             }
            },
            "type": "scatterternary"
           }
          ],
          "surface": [
           {
            "colorbar": {
             "outlinewidth": 0,
             "ticks": ""
            },
            "colorscale": [
             [
              0,
              "#0d0887"
             ],
             [
              0.1111111111111111,
              "#46039f"
             ],
             [
              0.2222222222222222,
              "#7201a8"
             ],
             [
              0.3333333333333333,
              "#9c179e"
             ],
             [
              0.4444444444444444,
              "#bd3786"
             ],
             [
              0.5555555555555556,
              "#d8576b"
             ],
             [
              0.6666666666666666,
              "#ed7953"
             ],
             [
              0.7777777777777778,
              "#fb9f3a"
             ],
             [
              0.8888888888888888,
              "#fdca26"
             ],
             [
              1,
              "#f0f921"
             ]
            ],
            "type": "surface"
           }
          ],
          "table": [
           {
            "cells": {
             "fill": {
              "color": "#EBF0F8"
             },
             "line": {
              "color": "white"
             }
            },
            "header": {
             "fill": {
              "color": "#C8D4E3"
             },
             "line": {
              "color": "white"
             }
            },
            "type": "table"
           }
          ]
         },
         "layout": {
          "annotationdefaults": {
           "arrowcolor": "#2a3f5f",
           "arrowhead": 0,
           "arrowwidth": 1
          },
          "autotypenumbers": "strict",
          "coloraxis": {
           "colorbar": {
            "outlinewidth": 0,
            "ticks": ""
           }
          },
          "colorscale": {
           "diverging": [
            [
             0,
             "#8e0152"
            ],
            [
             0.1,
             "#c51b7d"
            ],
            [
             0.2,
             "#de77ae"
            ],
            [
             0.3,
             "#f1b6da"
            ],
            [
             0.4,
             "#fde0ef"
            ],
            [
             0.5,
             "#f7f7f7"
            ],
            [
             0.6,
             "#e6f5d0"
            ],
            [
             0.7,
             "#b8e186"
            ],
            [
             0.8,
             "#7fbc41"
            ],
            [
             0.9,
             "#4d9221"
            ],
            [
             1,
             "#276419"
            ]
           ],
           "sequential": [
            [
             0,
             "#0d0887"
            ],
            [
             0.1111111111111111,
             "#46039f"
            ],
            [
             0.2222222222222222,
             "#7201a8"
            ],
            [
             0.3333333333333333,
             "#9c179e"
            ],
            [
             0.4444444444444444,
             "#bd3786"
            ],
            [
             0.5555555555555556,
             "#d8576b"
            ],
            [
             0.6666666666666666,
             "#ed7953"
            ],
            [
             0.7777777777777778,
             "#fb9f3a"
            ],
            [
             0.8888888888888888,
             "#fdca26"
            ],
            [
             1,
             "#f0f921"
            ]
           ],
           "sequentialminus": [
            [
             0,
             "#0d0887"
            ],
            [
             0.1111111111111111,
             "#46039f"
            ],
            [
             0.2222222222222222,
             "#7201a8"
            ],
            [
             0.3333333333333333,
             "#9c179e"
            ],
            [
             0.4444444444444444,
             "#bd3786"
            ],
            [
             0.5555555555555556,
             "#d8576b"
            ],
            [
             0.6666666666666666,
             "#ed7953"
            ],
            [
             0.7777777777777778,
             "#fb9f3a"
            ],
            [
             0.8888888888888888,
             "#fdca26"
            ],
            [
             1,
             "#f0f921"
            ]
           ]
          },
          "colorway": [
           "#636efa",
           "#EF553B",
           "#00cc96",
           "#ab63fa",
           "#FFA15A",
           "#19d3f3",
           "#FF6692",
           "#B6E880",
           "#FF97FF",
           "#FECB52"
          ],
          "font": {
           "color": "#2a3f5f"
          },
          "geo": {
           "bgcolor": "white",
           "lakecolor": "white",
           "landcolor": "#E5ECF6",
           "showlakes": true,
           "showland": true,
           "subunitcolor": "white"
          },
          "hoverlabel": {
           "align": "left"
          },
          "hovermode": "closest",
          "mapbox": {
           "style": "light"
          },
          "paper_bgcolor": "white",
          "plot_bgcolor": "#E5ECF6",
          "polar": {
           "angularaxis": {
            "gridcolor": "white",
            "linecolor": "white",
            "ticks": ""
           },
           "bgcolor": "#E5ECF6",
           "radialaxis": {
            "gridcolor": "white",
            "linecolor": "white",
            "ticks": ""
           }
          },
          "scene": {
           "xaxis": {
            "backgroundcolor": "#E5ECF6",
            "gridcolor": "white",
            "gridwidth": 2,
            "linecolor": "white",
            "showbackground": true,
            "ticks": "",
            "zerolinecolor": "white"
           },
           "yaxis": {
            "backgroundcolor": "#E5ECF6",
            "gridcolor": "white",
            "gridwidth": 2,
            "linecolor": "white",
            "showbackground": true,
            "ticks": "",
            "zerolinecolor": "white"
           },
           "zaxis": {
            "backgroundcolor": "#E5ECF6",
            "gridcolor": "white",
            "gridwidth": 2,
            "linecolor": "white",
            "showbackground": true,
            "ticks": "",
            "zerolinecolor": "white"
           }
          },
          "shapedefaults": {
           "line": {
            "color": "#2a3f5f"
           }
          },
          "ternary": {
           "aaxis": {
            "gridcolor": "white",
            "linecolor": "white",
            "ticks": ""
           },
           "baxis": {
            "gridcolor": "white",
            "linecolor": "white",
            "ticks": ""
           },
           "bgcolor": "#E5ECF6",
           "caxis": {
            "gridcolor": "white",
            "linecolor": "white",
            "ticks": ""
           }
          },
          "title": {
           "x": 0.05
          },
          "xaxis": {
           "automargin": true,
           "gridcolor": "white",
           "linecolor": "white",
           "ticks": "",
           "title": {
            "standoff": 15
           },
           "zerolinecolor": "white",
           "zerolinewidth": 2
          },
          "yaxis": {
           "automargin": true,
           "gridcolor": "white",
           "linecolor": "white",
           "ticks": "",
           "title": {
            "standoff": 15
           },
           "zerolinecolor": "white",
           "zerolinewidth": 2
          }
         }
        },
        "title": {
         "text": "Cumulative reward"
        },
        "xaxis": {
         "title": {
          "text": "time"
         }
        },
        "yaxis": {
         "title": {
          "text": "cumulative reward"
         }
        }
       }
      }
     },
     "metadata": {},
     "output_type": "display_data"
    },
    {
     "data": {
      "text/plain": [
       "'\\nplt.figure(figsize=(10,5))\\nplt.plot(C,label=\"Uniform\")\\nplt.plot(C1,label=\"Constant\")\\nplt.plot(C2,label=\"Threshold\")\\nplt.legend()\\nplt.title(\"Cumulative reward\")\\nplt.xlabel(\"time\")\\nplt.ylabel(\"cumulative reward\")\\nplt.show()\\n'"
      ]
     },
     "execution_count": 80,
     "metadata": {},
     "output_type": "execute_result"
    }
   ],
   "source": [
    "import plotly.graph_objects as go\n",
    "T = int(np.log(1/(0.001*(1-gamma)))/np.log(1/gamma)) # truncation of the infinite sum\n",
    "\n",
    "\n",
    "S,R=SimulateTrajectory(T,PiUniform,s1)\n",
    "S1,R1=SimulateTrajectory(T,PiConstant,s1)\n",
    "S2,R2=SimulateTrajectory(T,PiThreshold,s1)\n",
    "\n",
    "C=[R[0]]\n",
    "C1=[R1[0]]\n",
    "C2=[R2[0]]\n",
    "for t in range(1,T):\n",
    "    C.append(C[-1]+R[t]*gamma**t)\n",
    "    C1.append(C1[-1]+R1[t]*gamma**t)\n",
    "    C2.append(C2[-1]+R2[t]*gamma**t)\n",
    "\n",
    "fig=go.Figure()\n",
    "fig.add_trace(go.Scatter(x=list(range(T)),y=C,name=\"Uniform\"))\n",
    "fig.add_trace(go.Scatter(x=list(range(T)),y=C1,name=\"Constant\"))\n",
    "fig.add_trace(go.Scatter(x=list(range(T)),y=C2,name=\"Threshold\"))\n",
    "fig.update_layout(title=\"Cumulative reward\",xaxis_title=\"time\",yaxis_title=\"cumulative reward\")\n",
    "fig.show()\n",
    "\n",
    "\"\"\"\n",
    "plt.figure(figsize=(10,5))\n",
    "plt.plot(C,label=\"Uniform\")\n",
    "plt.plot(C1,label=\"Constant\")\n",
    "plt.plot(C2,label=\"Threshold\")\n",
    "plt.legend()\n",
    "plt.title(\"Cumulative reward\")\n",
    "plt.xlabel(\"time\")\n",
    "plt.ylabel(\"cumulative reward\")\n",
    "plt.show()\n",
    "\"\"\""
   ]
  },
  {
   "cell_type": "markdown",
   "metadata": {},
   "source": [
    "The three policies oscillate a bit at the beginning and then stabilize around the 100th step; they finally converge to different values.\n",
    "\n",
    " Using the uniform policy, the cumulative reward tends towards about -42. Using the constant policy, the cumulative reward tends towards about 24.6. (rerunning the cell will change those values)\n",
    " \n",
    " Using the threshold policy, the cumulative reward tends towards about 65. The optimal policy is the one that maximizes the reward, so to say, we will rather use the threshold one."
   ]
  },
  {
   "cell_type": "markdown",
   "metadata": {},
   "source": [
    "### Evolution of the stock"
   ]
  },
  {
   "cell_type": "code",
   "execution_count": 68,
   "metadata": {},
   "outputs": [
    {
     "data": {
      "text/plain": [
       "Text(0.5, 1.0, 'Evolution of the stock under a threshold policy')"
      ]
     },
     "execution_count": 68,
     "metadata": {},
     "output_type": "execute_result"
    },
    {
     "data": {
      "image/png": "[encoded data removed]",
      "text/plain": [
       "<Figure size 640x480 with 1 Axes>"
      ]
     },
     "metadata": {},
     "output_type": "display_data"
    }
   ],
   "source": [
    "\n",
    "plt.figure()\n",
    "plt.plot(S2[range(100)])\n",
    "plt.xlabel('weeks')\n",
    "plt.ylabel('stock')\n",
    "plt.title('Evolution of the stock under a threshold policy')"
   ]
  },
  {
   "cell_type": "markdown",
   "metadata": {},
   "source": [
    "The stock never exceeds 10 to limit the maintenance costs which is really nice knowing that it could go up to 30.\n",
    "The stock goes to 0 multiple times, it could mean that we didn't stock enough bikes to satisfy the demand, but also that we had just enough of them so it is difficult to conclude without more information.\n",
    "From an external and somewhat superficial perspective, this stock management appears quite effective."
   ]
  },
  {
   "cell_type": "markdown",
   "metadata": {},
   "source": [
    "# Dynamic Programming\n",
    "\n",
    "So far, when doing simulations, we just interacted with the environements with calls to the \"step\" functions (which boils down to simulating the demand each week). However, we assume that all the parameters (including the demand distribution itself, paramterized by $q$) are known, we can evaluate policies, and compute the optimal policy using the knowledge of the MDP parameters (encoded in env.P and env.r)."
   ]
  },
  {
   "cell_type": "code",
   "execution_count": 69,
   "metadata": {},
   "outputs": [],
   "source": [
    "env = StoreManagement(0,M=15,h=0.3,c=0.5,c0=0.3,p=1,q=0.1)\n",
    "\n",
    "# MDP parameters\n",
    "P = env.P # P[s,a,s'] = p(s' | s,a) \n",
    "r = env.r # r[s,a] = average reward received in state s when playing action a"
   ]
  },
  {
   "cell_type": "markdown",
   "metadata": {},
   "source": [
    "## Evaluation of deterministic policies\n",
    "\n",
    "**Evalute a policy of your choice using Monte-Carlo simulation, i.e. compute the value of this policy in all states.** \n",
    "\n",
    "In a Monte-Carlo simulation to estimate the value of $V^\\pi(s)$, we collect `MC` values for the sum of discounted rewards over long enough trajectories starting at $s$, then compute the mean of these `MC` values.\n",
    "We need to compute trajectories from *all* states.\n",
    "\n",
    "Observe that we do *not* need the knowledge of $P$ and $r$ for this method, simulating trajectories is enough."
   ]
  },
  {
   "cell_type": "code",
   "execution_count": 70,
   "metadata": {},
   "outputs": [
    {
     "name": "stdout",
     "output_type": "stream",
     "text": [
      "the estimated value in each states for the threshold policy are:\n",
      "[49.53255542 49.57000835 49.62925205 49.0663159  49.65101122 50.5808161\n",
      " 49.46750406 49.70207921 51.18171921 49.92012947 50.87846948 52.02360225\n",
      " 52.32367282 51.96834008 51.0908165  51.74976402]\n"
     ]
    }
   ],
   "source": [
    "## Computes the values in each state by Monte-Carlo simulation (needs many simulations to be precise)\n",
    "\n",
    "Policy = PiThreshold\n",
    "\n",
    "MC = 100 # number of Monte-Carlo simulations\n",
    "Values = np.zeros(M+1)\n",
    "\n",
    "for s in range(M+1):\n",
    "    for m in range(MC):\n",
    "        # simulate a trajectory starting from state s\n",
    "        S,R = SimulateTrajectory(T,Policy,s)\n",
    "        # compute the discounted cumulative reward\n",
    "        Values[s] += np.sum([R[t]*gamma**t for t in range(T)])\n",
    "    Values[s] = Values[s]/MC\n",
    "print(\"the estimated value in each states for the threshold policy are:\")\n",
    "\n",
    "print(Values)\n",
    "    "
   ]
  },
  {
   "cell_type": "markdown",
   "metadata": {},
   "source": [
    "**Implement a function that evaluates a deterministic policy Pi using the matrix inversion technique. Compare the output with the previous method for the same policy.**\n",
    "\n",
    "Unlike the previous evaluation method, this one requires the knowledge of $P$ and $r$. "
   ]
  },
  {
   "cell_type": "code",
   "execution_count": 71,
   "metadata": {},
   "outputs": [
    {
     "name": "stdout",
     "output_type": "stream",
     "text": [
      "[[56.47937829]\n",
      " [56.6321602 ]\n",
      " [56.74736233]\n",
      " [56.82080914]\n",
      " [56.84786114]\n",
      " [56.97058694]\n",
      " [57.20202794]\n",
      " [57.38032484]\n",
      " [57.51079205]\n",
      " [57.59821254]\n",
      " [57.64689098]\n",
      " [57.66070158]\n",
      " [57.64313111]\n",
      " [57.5973177 ]\n",
      " [57.52608562]\n",
      " [57.43197675]]\n"
     ]
    }
   ],
   "source": [
    "def EvaluatePolicy(Pi):\n",
    "    P2=np.zeros((M+1,M+1))\n",
    "    \n",
    "    R2=np.zeros((M+1,1))\n",
    "    for s in range(M+1):\n",
    "        for ns in range(M+1):\n",
    "            if ns==Pi(s):\n",
    "                P2[s,ns]=1\n",
    "        R2[s]=env.r[s, Pi(s)]\n",
    "            \n",
    "    X=np.eye(M+1)-gamma*P2\n",
    "\n",
    "    Values = np.linalg.inv(X).dot(R2)\n",
    "            \n",
    "\n",
    "    return Values\n",
    "    \n",
    "Policy = PiThreshold\n",
    "Values = EvaluatePolicy(Policy)\n",
    "\n",
    "print(Values)\n",
    "    "
   ]
  },
  {
   "cell_type": "markdown",
   "metadata": {},
   "source": [
    "**Evaluate two different policies and visualize their values for the different states in order to decide which one is better.** "
   ]
  },
  {
   "cell_type": "code",
   "execution_count": 84,
   "metadata": {},
   "outputs": [
    {
     "data": {
      "application/vnd.plotly.v1+json": {
       "config": {
        "plotlyServerURL": "https://plot.ly"
       },
       "data": [
        {
         "name": "Threshold",
         "type": "scatter",
         "x": [
          0,
          1,
          2,
          3,
          4,
          5,
          6,
          7,
          8,
          9,
          10,
          11,
          12,
          13,
          14,
          15
         ],
         "y": [
          56.479378291488935,
          56.63216020459193,
          56.74736233026193,
          56.820809136561934,
          56.84786114356193,
          56.97058694274426,
          57.202027942744266,
          57.380324842744265,
          57.510792052744264,
          57.59821254174427,
          57.646890981844265,
          57.66070157793426,
          57.64313111441526,
          57.597317697248165,
          57.526085621797776,
          57.43197675389242
         ]
        },
        {
         "name": "Constant",
         "type": "scatter",
         "x": [
          0,
          1,
          2,
          3,
          4,
          5,
          6,
          7,
          8,
          9,
          10,
          11,
          12,
          13,
          14,
          15
         ],
         "y": [
          49.689668999999945,
          50.04576899999994,
          50.33625899999994,
          50.567699999999945,
          50.745996899999945,
          50.876464109999944,
          50.96388459899994,
          51.012563039099945,
          51.02637363518994,
          51.00880317167094,
          50.96298975450384,
          50.89175767905345,
          50.7976488111481,
          50.7731510411481,
          50.6913757411481,
          50.8459587411481
         ]
        }
       ],
       "layout": {
        "template": {
         "data": {
          "bar": [
           {
            "error_x": {
             "color": "#2a3f5f"
            },
            "error_y": {
             "color": "#2a3f5f"
            },
            "marker": {
             "line": {
              "color": "#E5ECF6",
              "width": 0.5
             },
             "pattern": {
              "fillmode": "overlay",
              "size": 10,
              "solidity": 0.2
             }
            },
            "type": "bar"
           }
          ],
          "barpolar": [
           {
            "marker": {
             "line": {
              "color": "#E5ECF6",
              "width": 0.5
             },
             "pattern": {
              "fillmode": "overlay",
              "size": 10,
              "solidity": 0.2
             }
            },
            "type": "barpolar"
           }
          ],
          "carpet": [
           {
            "aaxis": {
             "endlinecolor": "#2a3f5f",
             "gridcolor": "white",
             "linecolor": "white",
             "minorgridcolor": "white",
             "startlinecolor": "#2a3f5f"
            },
            "baxis": {
             "endlinecolor": "#2a3f5f",
             "gridcolor": "white",
             "linecolor": "white",
             "minorgridcolor": "white",
             "startlinecolor": "#2a3f5f"
            },
            "type": "carpet"
           }
          ],
          "choropleth": [
           {
            "colorbar": {
             "outlinewidth": 0,
             "ticks": ""
            },
            "type": "choropleth"
           }
          ],
          "contour": [
           {
            "colorbar": {
             "outlinewidth": 0,
             "ticks": ""
            },
            "colorscale": [
             [
              0,
              "#0d0887"
             ],
             [
              0.1111111111111111,
              "#46039f"
             ],
             [
              0.2222222222222222,
              "#7201a8"
             ],
             [
              0.3333333333333333,
              "#9c179e"
             ],
             [
              0.4444444444444444,
              "#bd3786"
             ],
             [
              0.5555555555555556,
              "#d8576b"
             ],
             [
              0.6666666666666666,
              "#ed7953"
             ],
             [
              0.7777777777777778,
              "#fb9f3a"
             ],
             [
              0.8888888888888888,
              "#fdca26"
             ],
             [
              1,
              "#f0f921"
             ]
            ],
            "type": "contour"
           }
          ],
          "contourcarpet": [
           {
            "colorbar": {
             "outlinewidth": 0,
             "ticks": ""
            },
            "type": "contourcarpet"
           }
          ],
          "heatmap": [
           {
            "colorbar": {
             "outlinewidth": 0,
             "ticks": ""
            },
            "colorscale": [
             [
              0,
              "#0d0887"
             ],
             [
              0.1111111111111111,
              "#46039f"
             ],
             [
              0.2222222222222222,
              "#7201a8"
             ],
             [
              0.3333333333333333,
              "#9c179e"
             ],
             [
              0.4444444444444444,
              "#bd3786"
             ],
             [
              0.5555555555555556,
              "#d8576b"
             ],
             [
              0.6666666666666666,
              "#ed7953"
             ],
             [
              0.7777777777777778,
              "#fb9f3a"
             ],
             [
              0.8888888888888888,
              "#fdca26"
             ],
             [
              1,
              "#f0f921"
             ]
            ],
            "type": "heatmap"
           }
          ],
          "heatmapgl": [
           {
            "colorbar": {
             "outlinewidth": 0,
             "ticks": ""
            },
            "colorscale": [
             [
              0,
              "#0d0887"
             ],
             [
              0.1111111111111111,
              "#46039f"
             ],
             [
              0.2222222222222222,
              "#7201a8"
             ],
             [
              0.3333333333333333,
              "#9c179e"
             ],
             [
              0.4444444444444444,
              "#bd3786"
             ],
             [
              0.5555555555555556,
              "#d8576b"
             ],
             [
              0.6666666666666666,
              "#ed7953"
             ],
             [
              0.7777777777777778,
              "#fb9f3a"
             ],
             [
              0.8888888888888888,
              "#fdca26"
             ],
             [
              1,
              "#f0f921"
             ]
            ],
            "type": "heatmapgl"
           }
          ],
          "histogram": [
           {
            "marker": {
             "pattern": {
              "fillmode": "overlay",
              "size": 10,
              "solidity": 0.2
             }
            },
            "type": "histogram"
           }
          ],
          "histogram2d": [
           {
            "colorbar": {
             "outlinewidth": 0,
             "ticks": ""
            },
            "colorscale": [
             [
              0,
              "#0d0887"
             ],
             [
              0.1111111111111111,
              "#46039f"
             ],
             [
              0.2222222222222222,
              "#7201a8"
             ],
             [
              0.3333333333333333,
              "#9c179e"
             ],
             [
              0.4444444444444444,
              "#bd3786"
             ],
             [
              0.5555555555555556,
              "#d8576b"
             ],
             [
              0.6666666666666666,
              "#ed7953"
             ],
             [
              0.7777777777777778,
              "#fb9f3a"
             ],
             [
              0.8888888888888888,
              "#fdca26"
             ],
             [
              1,
              "#f0f921"
             ]
            ],
            "type": "histogram2d"
           }
          ],
          "histogram2dcontour": [
           {
            "colorbar": {
             "outlinewidth": 0,
             "ticks": ""
            },
            "colorscale": [
             [
              0,
              "#0d0887"
             ],
             [
              0.1111111111111111,
              "#46039f"
             ],
             [
              0.2222222222222222,
              "#7201a8"
             ],
             [
              0.3333333333333333,
              "#9c179e"
             ],
             [
              0.4444444444444444,
              "#bd3786"
             ],
             [
              0.5555555555555556,
              "#d8576b"
             ],
             [
              0.6666666666666666,
              "#ed7953"
             ],
             [
              0.7777777777777778,
              "#fb9f3a"
             ],
             [
              0.8888888888888888,
              "#fdca26"
             ],
             [
              1,
              "#f0f921"
             ]
            ],
            "type": "histogram2dcontour"
           }
          ],
          "mesh3d": [
           {
            "colorbar": {
             "outlinewidth": 0,
             "ticks": ""
            },
            "type": "mesh3d"
           }
          ],
          "parcoords": [
           {
            "line": {
             "colorbar": {
              "outlinewidth": 0,
              "ticks": ""
             }
            },
            "type": "parcoords"
           }
          ],
          "pie": [
           {
            "automargin": true,
            "type": "pie"
           }
          ],
          "scatter": [
           {
            "fillpattern": {
             "fillmode": "overlay",
             "size": 10,
             "solidity": 0.2
            },
            "type": "scatter"
           }
          ],
          "scatter3d": [
           {
            "line": {
             "colorbar": {
              "outlinewidth": 0,
              "ticks": ""
             }
            },
            "marker": {
             "colorbar": {
              "outlinewidth": 0,
              "ticks": ""
             }
            },
            "type": "scatter3d"
           }
          ],
          "scattercarpet": [
           {
            "marker": {
             "colorbar": {
              "outlinewidth": 0,
              "ticks": ""
             }
            },
            "type": "scattercarpet"
           }
          ],
          "scattergeo": [
           {
            "marker": {
             "colorbar": {
              "outlinewidth": 0,
              "ticks": ""
             }
            },
            "type": "scattergeo"
           }
          ],
          "scattergl": [
           {
            "marker": {
             "colorbar": {
              "outlinewidth": 0,
              "ticks": ""
             }
            },
            "type": "scattergl"
           }
          ],
          "scattermapbox": [
           {
            "marker": {
             "colorbar": {
              "outlinewidth": 0,
              "ticks": ""
             }
            },
            "type": "scattermapbox"
           }
          ],
          "scatterpolar": [
           {
            "marker": {
             "colorbar": {
              "outlinewidth": 0,
              "ticks": ""
             }
            },
            "type": "scatterpolar"
           }
          ],
          "scatterpolargl": [
           {
            "marker": {
             "colorbar": {
              "outlinewidth": 0,
              "ticks": ""
             }
            },
            "type": "scatterpolargl"
           }
          ],
          "scatterternary": [
           {
            "marker": {
             "colorbar": {
              "outlinewidth": 0,
              "ticks": ""
             }
            },
            "type": "scatterternary"
           }
          ],
          "surface": [
           {
            "colorbar": {
             "outlinewidth": 0,
             "ticks": ""
            },
            "colorscale": [
             [
              0,
              "#0d0887"
             ],
             [
              0.1111111111111111,
              "#46039f"
             ],
             [
              0.2222222222222222,
              "#7201a8"
             ],
             [
              0.3333333333333333,
              "#9c179e"
             ],
             [
              0.4444444444444444,
              "#bd3786"
             ],
             [
              0.5555555555555556,
              "#d8576b"
             ],
             [
              0.6666666666666666,
              "#ed7953"
             ],
             [
              0.7777777777777778,
              "#fb9f3a"
             ],
             [
              0.8888888888888888,
              "#fdca26"
             ],
             [
              1,
              "#f0f921"
             ]
            ],
            "type": "surface"
           }
          ],
          "table": [
           {
            "cells": {
             "fill": {
              "color": "#EBF0F8"
             },
             "line": {
              "color": "white"
             }
            },
            "header": {
             "fill": {
              "color": "#C8D4E3"
             },
             "line": {
              "color": "white"
             }
            },
            "type": "table"
           }
          ]
         },
         "layout": {
          "annotationdefaults": {
           "arrowcolor": "#2a3f5f",
           "arrowhead": 0,
           "arrowwidth": 1
          },
          "autotypenumbers": "strict",
          "coloraxis": {
           "colorbar": {
            "outlinewidth": 0,
            "ticks": ""
           }
          },
          "colorscale": {
           "diverging": [
            [
             0,
             "#8e0152"
            ],
            [
             0.1,
             "#c51b7d"
            ],
            [
             0.2,
             "#de77ae"
            ],
            [
             0.3,
             "#f1b6da"
            ],
            [
             0.4,
             "#fde0ef"
            ],
            [
             0.5,
             "#f7f7f7"
            ],
            [
             0.6,
             "#e6f5d0"
            ],
            [
             0.7,
             "#b8e186"
            ],
            [
             0.8,
             "#7fbc41"
            ],
            [
             0.9,
             "#4d9221"
            ],
            [
             1,
             "#276419"
            ]
           ],
           "sequential": [
            [
             0,
             "#0d0887"
            ],
            [
             0.1111111111111111,
             "#46039f"
            ],
            [
             0.2222222222222222,
             "#7201a8"
            ],
            [
             0.3333333333333333,
             "#9c179e"
            ],
            [
             0.4444444444444444,
             "#bd3786"
            ],
            [
             0.5555555555555556,
             "#d8576b"
            ],
            [
             0.6666666666666666,
             "#ed7953"
            ],
            [
             0.7777777777777778,
             "#fb9f3a"
            ],
            [
             0.8888888888888888,
             "#fdca26"
            ],
            [
             1,
             "#f0f921"
            ]
           ],
           "sequentialminus": [
            [
             0,
             "#0d0887"
            ],
            [
             0.1111111111111111,
             "#46039f"
            ],
            [
             0.2222222222222222,
             "#7201a8"
            ],
            [
             0.3333333333333333,
             "#9c179e"
            ],
            [
             0.4444444444444444,
             "#bd3786"
            ],
            [
             0.5555555555555556,
             "#d8576b"
            ],
            [
             0.6666666666666666,
             "#ed7953"
            ],
            [
             0.7777777777777778,
             "#fb9f3a"
            ],
            [
             0.8888888888888888,
             "#fdca26"
            ],
            [
             1,
             "#f0f921"
            ]
           ]
          },
          "colorway": [
           "#636efa",
           "#EF553B",
           "#00cc96",
           "#ab63fa",
           "#FFA15A",
           "#19d3f3",
           "#FF6692",
           "#B6E880",
           "#FF97FF",
           "#FECB52"
          ],
          "font": {
           "color": "#2a3f5f"
          },
          "geo": {
           "bgcolor": "white",
           "lakecolor": "white",
           "landcolor": "#E5ECF6",
           "showlakes": true,
           "showland": true,
           "subunitcolor": "white"
          },
          "hoverlabel": {
           "align": "left"
          },
          "hovermode": "closest",
          "mapbox": {
           "style": "light"
          },
          "paper_bgcolor": "white",
          "plot_bgcolor": "#E5ECF6",
          "polar": {
           "angularaxis": {
            "gridcolor": "white",
            "linecolor": "white",
            "ticks": ""
           },
           "bgcolor": "#E5ECF6",
           "radialaxis": {
            "gridcolor": "white",
            "linecolor": "white",
            "ticks": ""
           }
          },
          "scene": {
           "xaxis": {
            "backgroundcolor": "#E5ECF6",
            "gridcolor": "white",
            "gridwidth": 2,
            "linecolor": "white",
            "showbackground": true,
            "ticks": "",
            "zerolinecolor": "white"
           },
           "yaxis": {
            "backgroundcolor": "#E5ECF6",
            "gridcolor": "white",
            "gridwidth": 2,
            "linecolor": "white",
            "showbackground": true,
            "ticks": "",
            "zerolinecolor": "white"
           },
           "zaxis": {
            "backgroundcolor": "#E5ECF6",
            "gridcolor": "white",
            "gridwidth": 2,
            "linecolor": "white",
            "showbackground": true,
            "ticks": "",
            "zerolinecolor": "white"
           }
          },
          "shapedefaults": {
           "line": {
            "color": "#2a3f5f"
           }
          },
          "ternary": {
           "aaxis": {
            "gridcolor": "white",
            "linecolor": "white",
            "ticks": ""
           },
           "baxis": {
            "gridcolor": "white",
            "linecolor": "white",
            "ticks": ""
           },
           "bgcolor": "#E5ECF6",
           "caxis": {
            "gridcolor": "white",
            "linecolor": "white",
            "ticks": ""
           }
          },
          "title": {
           "x": 0.05
          },
          "xaxis": {
           "automargin": true,
           "gridcolor": "white",
           "linecolor": "white",
           "ticks": "",
           "title": {
            "standoff": 15
           },
           "zerolinecolor": "white",
           "zerolinewidth": 2
          },
          "yaxis": {
           "automargin": true,
           "gridcolor": "white",
           "linecolor": "white",
           "ticks": "",
           "title": {
            "standoff": 15
           },
           "zerolinecolor": "white",
           "zerolinewidth": 2
          }
         }
        },
        "title": {
         "text": "Value function"
        },
        "xaxis": {
         "title": {
          "text": "state"
         }
        },
        "yaxis": {
         "title": {
          "text": "value"
         }
        }
       }
      }
     },
     "metadata": {},
     "output_type": "display_data"
    }
   ],
   "source": [
    "policy1=PiThreshold\n",
    "policy2=PiConstant\n",
    "values1=EvaluatePolicy(policy1)\n",
    "values2=EvaluatePolicy(policy2)\n",
    "\"\"\"\n",
    "plt.figure(figsize=(10,5))\n",
    "plt.plot(values1,label=\"Threshold\")\n",
    "plt.plot(values2,label=\"Constant\")\n",
    "plt.legend()\n",
    "plt.xlabel(\"state\")\n",
    "plt.ylabel(\"value\")\n",
    "plt.show()\n",
    "\"\"\"\n",
    "X=list(range(M+1))\n",
    "fig=go.Figure()\n",
    "fig.add_trace(go.Scatter(x=X,y=values1[:,0],name=\"Threshold\"))\n",
    "fig.add_trace(go.Scatter(x=X,y=values2[:,0],name=\"Constant\"))\n",
    "fig.update_layout(title=\"Value function\",xaxis_title=\"state\",yaxis_title=\"value\")\n",
    "fig.show()"
   ]
  },
  {
   "cell_type": "markdown",
   "metadata": {},
   "source": [
    "We can see that using the threshold policy, the value of the states is higher than using the constant policy during for all the states. Therefore the threshold policy is better than the uniform one.\n",
    "We didn't use the uniform policy because it gives out some really bad values that crush the scale of the graph."
   ]
  },
  {
   "cell_type": "markdown",
   "metadata": {},
   "source": [
    "## Computing the Optimal Policy: Policy Iteration \n",
    "\n",
    "The function given below performs policy improvement, and may be useful to implement both value iteration and policy iteration. Note that the (deterministic) policy it outputs is encoded as a vector, not a function. \n"
   ]
  },
  {
   "cell_type": "code",
   "execution_count": 73,
   "metadata": {},
   "outputs": [
    {
     "name": "stdout",
     "output_type": "stream",
     "text": [
      "improved policy from random: [13 12 11 10  9  8  7  6  5  4  3  2  1  0  0  0]\n"
     ]
    }
   ],
   "source": [
    "# policy improvement\n",
    "def Improve(V):\n",
    "    '''computes the Q table associated to V and \n",
    "    return Pi=greedy(V)=greedy(Q) as well as max_{a} Q[s,a]'''\n",
    "    Pi = np.zeros(M+1) # improved policy \n",
    "    newV = np.zeros(M+1)\n",
    "    # compute the Q table \n",
    "    Q = np.zeros((M+1,M+1))\n",
    "    for s in range(M+1):\n",
    "        for a in range(M+1):\n",
    "            Q[s,a]=r[s,a]+gamma*np.sum([P[s,a,ns]*V[ns] for ns in range(M+1)])\n",
    "        # improvement (greedy policy wrt to Q)\n",
    "        pi = np.argmax(Q[s,:])\n",
    "        Pi[s]=pi\n",
    "        newV[s]=Q[s,pi]\n",
    "        Pi=Pi.astype(int)\n",
    "    return Pi,newV\n",
    "\n",
    "\n",
    "V = np.random.randint(M+1,size=M+1) \n",
    "newPi,newV = Improve(V)\n",
    "print(\"improved policy from random:\",newPi)"
   ]
  },
  {
   "cell_type": "markdown",
   "metadata": {},
   "source": [
    "**Implement Value Iteration and Policy Iteration.**\n",
    "\n",
    "First, check that the two algorithms output the same optimal policy. Then, you may compare the number of iteration needed by both algorithms as well as the executation time. "
   ]
  },
  {
   "cell_type": "code",
   "execution_count": 74,
   "metadata": {},
   "outputs": [],
   "source": [
    "def ValueIteration(epsilon=1e-3):\n",
    "    '''returns the optimal value function and the optimal policy'''\n",
    "    V = np.zeros(M+1)\n",
    "    Pi = np.zeros(M+1)\n",
    "    nIt = 0\n",
    "    while True:\n",
    "        nIt += 1\n",
    "        newPi,newV = Improve(V)\n",
    "        if (np.max(np.abs(newV-V))<epsilon):\n",
    "            break\n",
    "        V = newV\n",
    "        Pi = newPi\n",
    "    return Pi,V,nIt\n"
   ]
  },
  {
   "cell_type": "code",
   "execution_count": 75,
   "metadata": {},
   "outputs": [],
   "source": [
    "def PolicyIteration():\n",
    "    Values=np.zeros(M+1)\n",
    "    newValues=np.zeros(M+1)\n",
    "    nIt=0\n",
    "    while True:\n",
    "        nIt+=1\n",
    "        new_pi,newValues=Improve(Values)\n",
    "        if np.all(Values==newValues):\n",
    "            break\n",
    "        Values=newValues\n",
    "\n",
    "    \n",
    "    return new_pi,V,nIt\n"
   ]
  },
  {
   "cell_type": "code",
   "execution_count": 76,
   "metadata": {},
   "outputs": [
    {
     "name": "stdout",
     "output_type": "stream",
     "text": [
      "Value iteration yields policy [9 8 7 6 5 4 0 0 0 0 0 0 0 0 0 0] and value  [48.8356427  49.0356427  49.2356427  49.4356427  49.6356427  49.8356427\n",
      " 50.14291476 50.44133354 50.70553829 50.9356427  51.13176005 51.29400326\n",
      " 51.42248486 51.51731703 51.57861154 51.60647982]  in  241  iterations and t= 3.567033529281616  seconds\n",
      "\n",
      "Optimal policy is [9 8 7 6 5 4 0 0 0 0 0 0 0 0 0 0] with value  [48.8356427  49.0356427  49.2356427  49.4356427  49.6356427  49.8356427\n",
      " 50.14291476 50.44133354 50.70553829 50.9356427  51.13176005 51.29400326\n",
      " 51.42248486 51.51731703 51.57861154 51.60647982]  in  1078  iterations and t= 3.567033529281616  seconds\n"
     ]
    }
   ],
   "source": [
    "\n",
    "start = time.time()\n",
    "Pi,V,nIt = ValueIteration()\n",
    "elapsed = time.time()-start\n",
    "\n",
    "start = time.time()\n",
    "Pi2,V2,nIt2 = PolicyIteration()\n",
    "elapsed = time.time()-start\n",
    "\n",
    "print(\"Value iteration yields policy\",Pi,\"and value \",V,\" in \",nIt,\" iterations and t=\",elapsed,\" seconds\\n\")\n",
    "print(\"Optimal policy is\",Pi2,\"with value \",V2,\" in \",nIt2,\" iterations and t=\",elapsed,\" seconds\")\n"
   ]
  },
  {
   "cell_type": "markdown",
   "metadata": {},
   "source": [
    "Here is a visualization of the optimal policy. "
   ]
  },
  {
   "cell_type": "code",
   "execution_count": 77,
   "metadata": {},
   "outputs": [
    {
     "data": {
      "image/png": "[encoded data removed]",
      "text/plain": [
       "<Figure size 640x480 with 1 Axes>"
      ]
     },
     "metadata": {},
     "output_type": "display_data"
    },
    {
     "data": {
      "image/png": "[encoded data removed]",
      "text/plain": [
       "<Figure size 640x480 with 1 Axes>"
      ]
     },
     "metadata": {},
     "output_type": "display_data"
    }
   ],
   "source": [
    "plt.plot(Pi2)\n",
    "plt.xlabel('stock')\n",
    "plt.ylabel('order under the optimal policy')\n",
    "plt.title(\"Optimal Policy\")\n",
    "\n",
    "plt.figure()\n",
    "plt.plot(V2)\n",
    "plt.xlabel('stock')\n",
    "plt.ylabel('value of the optimal policy')\n",
    "plt.title(\"Optimal Value\")\n",
    "\n",
    "Vstar=np.copy(V)"
   ]
  },
  {
   "cell_type": "markdown",
   "metadata": {},
   "source": [
    "According to the graph, the optimal policy has a threshold at 6 bikes in stock and an increasing number of bikes ordered as the stock decreases, it corresponds pretty well to what we expected."
   ]
  },
  {
   "cell_type": "code",
   "execution_count": null,
   "metadata": {},
   "outputs": [],
   "source": []
  }
 ],
 "metadata": {
  "kernelspec": {
   "display_name": "Python 3 (ipykernel)",
   "language": "python",
   "name": "python3"
  },
  "language_info": {
   "codemirror_mode": {
    "name": "ipython",
    "version": 3
   },
   "file_extension": ".py",
   "mimetype": "text/x-python",
   "name": "python",
   "nbconvert_exporter": "python",
   "pygments_lexer": "ipython3",
   "version": "3.9.13"
  }
 },
 "nbformat": 4,
 "nbformat_minor": 4
}
